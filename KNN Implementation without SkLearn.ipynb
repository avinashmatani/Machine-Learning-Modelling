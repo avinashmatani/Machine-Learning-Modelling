{
  "cells": [
    {
      "metadata": {},
      "cell_type": "markdown",
      "source": "\n# Data Cleaning and KNN Algorithm Implementation without Sklearn\n"
    },
    {
      "metadata": {},
      "cell_type": "markdown",
      "source": " # Task 1 -Data Preparation"
    },
    {
      "metadata": {
        "trusted": false
      },
      "cell_type": "code",
      "source": "import pandas as pd\nimport numpy as np\nfrom sklearn import preprocessing\nimport warnings\nwarnings.filterwarnings(\"ignore\") # Turning off the warnings\ndataq1 = pd.read_csv('Q1',names=['A1','A2','A3','A4','A5','A6','A7','A8','A9','A10','A11','A12','A13','A14','A15','A16'],index_col=False)\ndataq1",
      "execution_count": 1,
      "outputs": [
        {
          "data": {
            "text/html": "<div>\n<style>\n    .dataframe tbody tr th:only-of-type {\n        vertical-align: middle;\n    }\n\n    .dataframe tbody tr th {\n        vertical-align: top;\n    }\n\n    .dataframe thead th {\n        text-align: right;\n    }\n</style>\n<table class=\"dataframe\">\n  <thead>\n    <tr style=\"text-align: right;\">\n      <th></th>\n      <th>A1</th>\n      <th>A2</th>\n      <th>A3</th>\n      <th>A4</th>\n      <th>A5</th>\n      <th>A6</th>\n      <th>A7</th>\n      <th>A8</th>\n      <th>A9</th>\n      <th>A10</th>\n      <th>A11</th>\n      <th>A12</th>\n      <th>A13</th>\n      <th>A14</th>\n      <th>A15</th>\n      <th>A16</th>\n    </tr>\n  </thead>\n  <tbody>\n    <tr>\n      <th>0</th>\n      <td>b</td>\n      <td>30.83</td>\n      <td>0.000</td>\n      <td>u</td>\n      <td>g</td>\n      <td>w</td>\n      <td>v</td>\n      <td>1.250</td>\n      <td>t</td>\n      <td>t</td>\n      <td>1</td>\n      <td>f</td>\n      <td>g</td>\n      <td>00202</td>\n      <td>0</td>\n      <td>+</td>\n    </tr>\n    <tr>\n      <th>1</th>\n      <td>a</td>\n      <td>58.67</td>\n      <td>4.460</td>\n      <td>u</td>\n      <td>g</td>\n      <td>q</td>\n      <td>h</td>\n      <td>3.040</td>\n      <td>t</td>\n      <td>t</td>\n      <td>6</td>\n      <td>f</td>\n      <td>g</td>\n      <td>00043</td>\n      <td>560</td>\n      <td>+</td>\n    </tr>\n    <tr>\n      <th>2</th>\n      <td>a</td>\n      <td>24.50</td>\n      <td>0.500</td>\n      <td>u</td>\n      <td>g</td>\n      <td>q</td>\n      <td>h</td>\n      <td>1.500</td>\n      <td>t</td>\n      <td>f</td>\n      <td>0</td>\n      <td>f</td>\n      <td>g</td>\n      <td>00280</td>\n      <td>824</td>\n      <td>+</td>\n    </tr>\n    <tr>\n      <th>3</th>\n      <td>b</td>\n      <td>27.83</td>\n      <td>1.540</td>\n      <td>u</td>\n      <td>g</td>\n      <td>w</td>\n      <td>v</td>\n      <td>3.750</td>\n      <td>t</td>\n      <td>t</td>\n      <td>5</td>\n      <td>t</td>\n      <td>g</td>\n      <td>00100</td>\n      <td>3</td>\n      <td>+</td>\n    </tr>\n    <tr>\n      <th>4</th>\n      <td>b</td>\n      <td>20.17</td>\n      <td>5.625</td>\n      <td>u</td>\n      <td>g</td>\n      <td>w</td>\n      <td>v</td>\n      <td>1.710</td>\n      <td>t</td>\n      <td>f</td>\n      <td>0</td>\n      <td>f</td>\n      <td>s</td>\n      <td>00120</td>\n      <td>0</td>\n      <td>+</td>\n    </tr>\n    <tr>\n      <th>5</th>\n      <td>b</td>\n      <td>32.08</td>\n      <td>4.000</td>\n      <td>u</td>\n      <td>g</td>\n      <td>m</td>\n      <td>v</td>\n      <td>2.500</td>\n      <td>t</td>\n      <td>f</td>\n      <td>0</td>\n      <td>t</td>\n      <td>g</td>\n      <td>00360</td>\n      <td>0</td>\n      <td>+</td>\n    </tr>\n    <tr>\n      <th>6</th>\n      <td>b</td>\n      <td>33.17</td>\n      <td>1.040</td>\n      <td>u</td>\n      <td>g</td>\n      <td>r</td>\n      <td>h</td>\n      <td>6.500</td>\n      <td>t</td>\n      <td>f</td>\n      <td>0</td>\n      <td>t</td>\n      <td>g</td>\n      <td>00164</td>\n      <td>31285</td>\n      <td>+</td>\n    </tr>\n    <tr>\n      <th>7</th>\n      <td>a</td>\n      <td>22.92</td>\n      <td>11.585</td>\n      <td>u</td>\n      <td>g</td>\n      <td>cc</td>\n      <td>v</td>\n      <td>0.040</td>\n      <td>t</td>\n      <td>f</td>\n      <td>0</td>\n      <td>f</td>\n      <td>g</td>\n      <td>00080</td>\n      <td>1349</td>\n      <td>+</td>\n    </tr>\n    <tr>\n      <th>8</th>\n      <td>b</td>\n      <td>54.42</td>\n      <td>0.500</td>\n      <td>y</td>\n      <td>p</td>\n      <td>k</td>\n      <td>h</td>\n      <td>3.960</td>\n      <td>t</td>\n      <td>f</td>\n      <td>0</td>\n      <td>f</td>\n      <td>g</td>\n      <td>00180</td>\n      <td>314</td>\n      <td>+</td>\n    </tr>\n    <tr>\n      <th>9</th>\n      <td>b</td>\n      <td>42.50</td>\n      <td>4.915</td>\n      <td>y</td>\n      <td>p</td>\n      <td>w</td>\n      <td>v</td>\n      <td>3.165</td>\n      <td>t</td>\n      <td>f</td>\n      <td>0</td>\n      <td>t</td>\n      <td>g</td>\n      <td>00052</td>\n      <td>1442</td>\n      <td>+</td>\n    </tr>\n    <tr>\n      <th>10</th>\n      <td>b</td>\n      <td>22.08</td>\n      <td>0.830</td>\n      <td>u</td>\n      <td>g</td>\n      <td>c</td>\n      <td>h</td>\n      <td>2.165</td>\n      <td>f</td>\n      <td>f</td>\n      <td>0</td>\n      <td>t</td>\n      <td>g</td>\n      <td>00128</td>\n      <td>0</td>\n      <td>+</td>\n    </tr>\n    <tr>\n      <th>11</th>\n      <td>b</td>\n      <td>29.92</td>\n      <td>1.835</td>\n      <td>u</td>\n      <td>g</td>\n      <td>c</td>\n      <td>h</td>\n      <td>4.335</td>\n      <td>t</td>\n      <td>f</td>\n      <td>0</td>\n      <td>f</td>\n      <td>g</td>\n      <td>00260</td>\n      <td>200</td>\n      <td>+</td>\n    </tr>\n    <tr>\n      <th>12</th>\n      <td>a</td>\n      <td>38.25</td>\n      <td>6.000</td>\n      <td>u</td>\n      <td>g</td>\n      <td>k</td>\n      <td>v</td>\n      <td>1.000</td>\n      <td>t</td>\n      <td>f</td>\n      <td>0</td>\n      <td>t</td>\n      <td>g</td>\n      <td>00000</td>\n      <td>0</td>\n      <td>+</td>\n    </tr>\n    <tr>\n      <th>13</th>\n      <td>b</td>\n      <td>48.08</td>\n      <td>6.040</td>\n      <td>u</td>\n      <td>g</td>\n      <td>k</td>\n      <td>v</td>\n      <td>0.040</td>\n      <td>f</td>\n      <td>f</td>\n      <td>0</td>\n      <td>f</td>\n      <td>g</td>\n      <td>00000</td>\n      <td>2690</td>\n      <td>+</td>\n    </tr>\n    <tr>\n      <th>14</th>\n      <td>a</td>\n      <td>45.83</td>\n      <td>10.500</td>\n      <td>u</td>\n      <td>g</td>\n      <td>q</td>\n      <td>v</td>\n      <td>5.000</td>\n      <td>t</td>\n      <td>t</td>\n      <td>7</td>\n      <td>t</td>\n      <td>g</td>\n      <td>00000</td>\n      <td>0</td>\n      <td>+</td>\n    </tr>\n    <tr>\n      <th>15</th>\n      <td>b</td>\n      <td>36.67</td>\n      <td>4.415</td>\n      <td>y</td>\n      <td>p</td>\n      <td>k</td>\n      <td>v</td>\n      <td>0.250</td>\n      <td>t</td>\n      <td>t</td>\n      <td>10</td>\n      <td>t</td>\n      <td>g</td>\n      <td>00320</td>\n      <td>0</td>\n      <td>+</td>\n    </tr>\n    <tr>\n      <th>16</th>\n      <td>b</td>\n      <td>28.25</td>\n      <td>0.875</td>\n      <td>u</td>\n      <td>g</td>\n      <td>m</td>\n      <td>v</td>\n      <td>0.960</td>\n      <td>t</td>\n      <td>t</td>\n      <td>3</td>\n      <td>t</td>\n      <td>g</td>\n      <td>00396</td>\n      <td>0</td>\n      <td>+</td>\n    </tr>\n    <tr>\n      <th>17</th>\n      <td>a</td>\n      <td>23.25</td>\n      <td>5.875</td>\n      <td>u</td>\n      <td>g</td>\n      <td>q</td>\n      <td>v</td>\n      <td>3.170</td>\n      <td>t</td>\n      <td>t</td>\n      <td>10</td>\n      <td>f</td>\n      <td>g</td>\n      <td>00120</td>\n      <td>245</td>\n      <td>+</td>\n    </tr>\n    <tr>\n      <th>18</th>\n      <td>b</td>\n      <td>21.83</td>\n      <td>0.250</td>\n      <td>u</td>\n      <td>g</td>\n      <td>d</td>\n      <td>h</td>\n      <td>0.665</td>\n      <td>t</td>\n      <td>f</td>\n      <td>0</td>\n      <td>t</td>\n      <td>g</td>\n      <td>00000</td>\n      <td>0</td>\n      <td>+</td>\n    </tr>\n    <tr>\n      <th>19</th>\n      <td>a</td>\n      <td>19.17</td>\n      <td>8.585</td>\n      <td>u</td>\n      <td>g</td>\n      <td>cc</td>\n      <td>h</td>\n      <td>0.750</td>\n      <td>t</td>\n      <td>t</td>\n      <td>7</td>\n      <td>f</td>\n      <td>g</td>\n      <td>00096</td>\n      <td>0</td>\n      <td>+</td>\n    </tr>\n    <tr>\n      <th>20</th>\n      <td>b</td>\n      <td>25.00</td>\n      <td>11.250</td>\n      <td>u</td>\n      <td>g</td>\n      <td>c</td>\n      <td>v</td>\n      <td>2.500</td>\n      <td>t</td>\n      <td>t</td>\n      <td>17</td>\n      <td>f</td>\n      <td>g</td>\n      <td>00200</td>\n      <td>1208</td>\n      <td>+</td>\n    </tr>\n    <tr>\n      <th>21</th>\n      <td>b</td>\n      <td>23.25</td>\n      <td>1.000</td>\n      <td>u</td>\n      <td>g</td>\n      <td>c</td>\n      <td>v</td>\n      <td>0.835</td>\n      <td>t</td>\n      <td>f</td>\n      <td>0</td>\n      <td>f</td>\n      <td>s</td>\n      <td>00300</td>\n      <td>0</td>\n      <td>+</td>\n    </tr>\n    <tr>\n      <th>22</th>\n      <td>a</td>\n      <td>47.75</td>\n      <td>8.000</td>\n      <td>u</td>\n      <td>g</td>\n      <td>c</td>\n      <td>v</td>\n      <td>7.875</td>\n      <td>t</td>\n      <td>t</td>\n      <td>6</td>\n      <td>t</td>\n      <td>g</td>\n      <td>00000</td>\n      <td>1260</td>\n      <td>+</td>\n    </tr>\n    <tr>\n      <th>23</th>\n      <td>a</td>\n      <td>27.42</td>\n      <td>14.500</td>\n      <td>u</td>\n      <td>g</td>\n      <td>x</td>\n      <td>h</td>\n      <td>3.085</td>\n      <td>t</td>\n      <td>t</td>\n      <td>1</td>\n      <td>f</td>\n      <td>g</td>\n      <td>00120</td>\n      <td>11</td>\n      <td>+</td>\n    </tr>\n    <tr>\n      <th>24</th>\n      <td>a</td>\n      <td>41.17</td>\n      <td>6.500</td>\n      <td>u</td>\n      <td>g</td>\n      <td>q</td>\n      <td>v</td>\n      <td>0.500</td>\n      <td>t</td>\n      <td>t</td>\n      <td>3</td>\n      <td>t</td>\n      <td>g</td>\n      <td>00145</td>\n      <td>0</td>\n      <td>+</td>\n    </tr>\n    <tr>\n      <th>25</th>\n      <td>a</td>\n      <td>15.83</td>\n      <td>0.585</td>\n      <td>u</td>\n      <td>g</td>\n      <td>c</td>\n      <td>h</td>\n      <td>1.500</td>\n      <td>t</td>\n      <td>t</td>\n      <td>2</td>\n      <td>f</td>\n      <td>g</td>\n      <td>00100</td>\n      <td>0</td>\n      <td>+</td>\n    </tr>\n    <tr>\n      <th>26</th>\n      <td>a</td>\n      <td>47.00</td>\n      <td>13.000</td>\n      <td>u</td>\n      <td>g</td>\n      <td>i</td>\n      <td>bb</td>\n      <td>5.165</td>\n      <td>t</td>\n      <td>t</td>\n      <td>9</td>\n      <td>t</td>\n      <td>g</td>\n      <td>00000</td>\n      <td>0</td>\n      <td>+</td>\n    </tr>\n    <tr>\n      <th>27</th>\n      <td>b</td>\n      <td>56.58</td>\n      <td>18.500</td>\n      <td>u</td>\n      <td>g</td>\n      <td>d</td>\n      <td>bb</td>\n      <td>15.000</td>\n      <td>t</td>\n      <td>t</td>\n      <td>17</td>\n      <td>t</td>\n      <td>g</td>\n      <td>00000</td>\n      <td>0</td>\n      <td>+</td>\n    </tr>\n    <tr>\n      <th>28</th>\n      <td>b</td>\n      <td>57.42</td>\n      <td>8.500</td>\n      <td>u</td>\n      <td>g</td>\n      <td>e</td>\n      <td>h</td>\n      <td>7.000</td>\n      <td>t</td>\n      <td>t</td>\n      <td>3</td>\n      <td>f</td>\n      <td>g</td>\n      <td>00000</td>\n      <td>0</td>\n      <td>+</td>\n    </tr>\n    <tr>\n      <th>29</th>\n      <td>b</td>\n      <td>42.08</td>\n      <td>1.040</td>\n      <td>u</td>\n      <td>g</td>\n      <td>w</td>\n      <td>v</td>\n      <td>5.000</td>\n      <td>t</td>\n      <td>t</td>\n      <td>6</td>\n      <td>t</td>\n      <td>g</td>\n      <td>00500</td>\n      <td>10000</td>\n      <td>+</td>\n    </tr>\n    <tr>\n      <th>...</th>\n      <td>...</td>\n      <td>...</td>\n      <td>...</td>\n      <td>...</td>\n      <td>...</td>\n      <td>...</td>\n      <td>...</td>\n      <td>...</td>\n      <td>...</td>\n      <td>...</td>\n      <td>...</td>\n      <td>...</td>\n      <td>...</td>\n      <td>...</td>\n      <td>...</td>\n      <td>...</td>\n    </tr>\n    <tr>\n      <th>660</th>\n      <td>b</td>\n      <td>22.25</td>\n      <td>9.000</td>\n      <td>u</td>\n      <td>g</td>\n      <td>aa</td>\n      <td>v</td>\n      <td>0.085</td>\n      <td>f</td>\n      <td>f</td>\n      <td>0</td>\n      <td>f</td>\n      <td>g</td>\n      <td>00000</td>\n      <td>0</td>\n      <td>-</td>\n    </tr>\n    <tr>\n      <th>661</th>\n      <td>b</td>\n      <td>29.83</td>\n      <td>3.500</td>\n      <td>u</td>\n      <td>g</td>\n      <td>c</td>\n      <td>v</td>\n      <td>0.165</td>\n      <td>f</td>\n      <td>f</td>\n      <td>0</td>\n      <td>f</td>\n      <td>g</td>\n      <td>00216</td>\n      <td>0</td>\n      <td>-</td>\n    </tr>\n    <tr>\n      <th>662</th>\n      <td>a</td>\n      <td>23.50</td>\n      <td>1.500</td>\n      <td>u</td>\n      <td>g</td>\n      <td>w</td>\n      <td>v</td>\n      <td>0.875</td>\n      <td>f</td>\n      <td>f</td>\n      <td>0</td>\n      <td>t</td>\n      <td>g</td>\n      <td>00160</td>\n      <td>0</td>\n      <td>-</td>\n    </tr>\n    <tr>\n      <th>663</th>\n      <td>b</td>\n      <td>32.08</td>\n      <td>4.000</td>\n      <td>y</td>\n      <td>p</td>\n      <td>cc</td>\n      <td>v</td>\n      <td>1.500</td>\n      <td>f</td>\n      <td>f</td>\n      <td>0</td>\n      <td>t</td>\n      <td>g</td>\n      <td>00120</td>\n      <td>0</td>\n      <td>-</td>\n    </tr>\n    <tr>\n      <th>664</th>\n      <td>b</td>\n      <td>31.08</td>\n      <td>1.500</td>\n      <td>y</td>\n      <td>p</td>\n      <td>w</td>\n      <td>v</td>\n      <td>0.040</td>\n      <td>f</td>\n      <td>f</td>\n      <td>0</td>\n      <td>f</td>\n      <td>s</td>\n      <td>00160</td>\n      <td>0</td>\n      <td>-</td>\n    </tr>\n    <tr>\n      <th>665</th>\n      <td>b</td>\n      <td>31.83</td>\n      <td>0.040</td>\n      <td>y</td>\n      <td>p</td>\n      <td>m</td>\n      <td>v</td>\n      <td>0.040</td>\n      <td>f</td>\n      <td>f</td>\n      <td>0</td>\n      <td>f</td>\n      <td>g</td>\n      <td>00000</td>\n      <td>0</td>\n      <td>-</td>\n    </tr>\n    <tr>\n      <th>666</th>\n      <td>a</td>\n      <td>21.75</td>\n      <td>11.750</td>\n      <td>u</td>\n      <td>g</td>\n      <td>c</td>\n      <td>v</td>\n      <td>0.250</td>\n      <td>f</td>\n      <td>f</td>\n      <td>0</td>\n      <td>t</td>\n      <td>g</td>\n      <td>00180</td>\n      <td>0</td>\n      <td>-</td>\n    </tr>\n    <tr>\n      <th>667</th>\n      <td>a</td>\n      <td>17.92</td>\n      <td>0.540</td>\n      <td>u</td>\n      <td>g</td>\n      <td>c</td>\n      <td>v</td>\n      <td>1.750</td>\n      <td>f</td>\n      <td>t</td>\n      <td>1</td>\n      <td>t</td>\n      <td>g</td>\n      <td>00080</td>\n      <td>5</td>\n      <td>-</td>\n    </tr>\n    <tr>\n      <th>668</th>\n      <td>b</td>\n      <td>30.33</td>\n      <td>0.500</td>\n      <td>u</td>\n      <td>g</td>\n      <td>d</td>\n      <td>h</td>\n      <td>0.085</td>\n      <td>f</td>\n      <td>f</td>\n      <td>0</td>\n      <td>t</td>\n      <td>s</td>\n      <td>00252</td>\n      <td>0</td>\n      <td>-</td>\n    </tr>\n    <tr>\n      <th>669</th>\n      <td>b</td>\n      <td>51.83</td>\n      <td>2.040</td>\n      <td>y</td>\n      <td>p</td>\n      <td>ff</td>\n      <td>ff</td>\n      <td>1.500</td>\n      <td>f</td>\n      <td>f</td>\n      <td>0</td>\n      <td>f</td>\n      <td>g</td>\n      <td>00120</td>\n      <td>1</td>\n      <td>-</td>\n    </tr>\n    <tr>\n      <th>670</th>\n      <td>b</td>\n      <td>47.17</td>\n      <td>5.835</td>\n      <td>u</td>\n      <td>g</td>\n      <td>w</td>\n      <td>v</td>\n      <td>5.500</td>\n      <td>f</td>\n      <td>f</td>\n      <td>0</td>\n      <td>f</td>\n      <td>g</td>\n      <td>00465</td>\n      <td>150</td>\n      <td>-</td>\n    </tr>\n    <tr>\n      <th>671</th>\n      <td>b</td>\n      <td>25.83</td>\n      <td>12.835</td>\n      <td>u</td>\n      <td>g</td>\n      <td>cc</td>\n      <td>v</td>\n      <td>0.500</td>\n      <td>f</td>\n      <td>f</td>\n      <td>0</td>\n      <td>f</td>\n      <td>g</td>\n      <td>00000</td>\n      <td>2</td>\n      <td>-</td>\n    </tr>\n    <tr>\n      <th>672</th>\n      <td>a</td>\n      <td>50.25</td>\n      <td>0.835</td>\n      <td>u</td>\n      <td>g</td>\n      <td>aa</td>\n      <td>v</td>\n      <td>0.500</td>\n      <td>f</td>\n      <td>f</td>\n      <td>0</td>\n      <td>t</td>\n      <td>g</td>\n      <td>00240</td>\n      <td>117</td>\n      <td>-</td>\n    </tr>\n    <tr>\n      <th>673</th>\n      <td>?</td>\n      <td>29.50</td>\n      <td>2.000</td>\n      <td>y</td>\n      <td>p</td>\n      <td>e</td>\n      <td>h</td>\n      <td>2.000</td>\n      <td>f</td>\n      <td>f</td>\n      <td>0</td>\n      <td>f</td>\n      <td>g</td>\n      <td>00256</td>\n      <td>17</td>\n      <td>-</td>\n    </tr>\n    <tr>\n      <th>674</th>\n      <td>a</td>\n      <td>37.33</td>\n      <td>2.500</td>\n      <td>u</td>\n      <td>g</td>\n      <td>i</td>\n      <td>h</td>\n      <td>0.210</td>\n      <td>f</td>\n      <td>f</td>\n      <td>0</td>\n      <td>f</td>\n      <td>g</td>\n      <td>00260</td>\n      <td>246</td>\n      <td>-</td>\n    </tr>\n    <tr>\n      <th>675</th>\n      <td>a</td>\n      <td>41.58</td>\n      <td>1.040</td>\n      <td>u</td>\n      <td>g</td>\n      <td>aa</td>\n      <td>v</td>\n      <td>0.665</td>\n      <td>f</td>\n      <td>f</td>\n      <td>0</td>\n      <td>f</td>\n      <td>g</td>\n      <td>00240</td>\n      <td>237</td>\n      <td>-</td>\n    </tr>\n    <tr>\n      <th>676</th>\n      <td>a</td>\n      <td>30.58</td>\n      <td>10.665</td>\n      <td>u</td>\n      <td>g</td>\n      <td>q</td>\n      <td>h</td>\n      <td>0.085</td>\n      <td>f</td>\n      <td>t</td>\n      <td>12</td>\n      <td>t</td>\n      <td>g</td>\n      <td>00129</td>\n      <td>3</td>\n      <td>-</td>\n    </tr>\n    <tr>\n      <th>677</th>\n      <td>b</td>\n      <td>19.42</td>\n      <td>7.250</td>\n      <td>u</td>\n      <td>g</td>\n      <td>m</td>\n      <td>v</td>\n      <td>0.040</td>\n      <td>f</td>\n      <td>t</td>\n      <td>1</td>\n      <td>f</td>\n      <td>g</td>\n      <td>00100</td>\n      <td>1</td>\n      <td>-</td>\n    </tr>\n    <tr>\n      <th>678</th>\n      <td>a</td>\n      <td>17.92</td>\n      <td>10.210</td>\n      <td>u</td>\n      <td>g</td>\n      <td>ff</td>\n      <td>ff</td>\n      <td>0.000</td>\n      <td>f</td>\n      <td>f</td>\n      <td>0</td>\n      <td>f</td>\n      <td>g</td>\n      <td>00000</td>\n      <td>50</td>\n      <td>-</td>\n    </tr>\n    <tr>\n      <th>679</th>\n      <td>a</td>\n      <td>20.08</td>\n      <td>1.250</td>\n      <td>u</td>\n      <td>g</td>\n      <td>c</td>\n      <td>v</td>\n      <td>0.000</td>\n      <td>f</td>\n      <td>f</td>\n      <td>0</td>\n      <td>f</td>\n      <td>g</td>\n      <td>00000</td>\n      <td>0</td>\n      <td>-</td>\n    </tr>\n    <tr>\n      <th>680</th>\n      <td>b</td>\n      <td>19.50</td>\n      <td>0.290</td>\n      <td>u</td>\n      <td>g</td>\n      <td>k</td>\n      <td>v</td>\n      <td>0.290</td>\n      <td>f</td>\n      <td>f</td>\n      <td>0</td>\n      <td>f</td>\n      <td>g</td>\n      <td>00280</td>\n      <td>364</td>\n      <td>-</td>\n    </tr>\n    <tr>\n      <th>681</th>\n      <td>b</td>\n      <td>27.83</td>\n      <td>1.000</td>\n      <td>y</td>\n      <td>p</td>\n      <td>d</td>\n      <td>h</td>\n      <td>3.000</td>\n      <td>f</td>\n      <td>f</td>\n      <td>0</td>\n      <td>f</td>\n      <td>g</td>\n      <td>00176</td>\n      <td>537</td>\n      <td>-</td>\n    </tr>\n    <tr>\n      <th>682</th>\n      <td>b</td>\n      <td>17.08</td>\n      <td>3.290</td>\n      <td>u</td>\n      <td>g</td>\n      <td>i</td>\n      <td>v</td>\n      <td>0.335</td>\n      <td>f</td>\n      <td>f</td>\n      <td>0</td>\n      <td>t</td>\n      <td>g</td>\n      <td>00140</td>\n      <td>2</td>\n      <td>-</td>\n    </tr>\n    <tr>\n      <th>683</th>\n      <td>b</td>\n      <td>36.42</td>\n      <td>0.750</td>\n      <td>y</td>\n      <td>p</td>\n      <td>d</td>\n      <td>v</td>\n      <td>0.585</td>\n      <td>f</td>\n      <td>f</td>\n      <td>0</td>\n      <td>f</td>\n      <td>g</td>\n      <td>00240</td>\n      <td>3</td>\n      <td>-</td>\n    </tr>\n    <tr>\n      <th>684</th>\n      <td>b</td>\n      <td>40.58</td>\n      <td>3.290</td>\n      <td>u</td>\n      <td>g</td>\n      <td>m</td>\n      <td>v</td>\n      <td>3.500</td>\n      <td>f</td>\n      <td>f</td>\n      <td>0</td>\n      <td>t</td>\n      <td>s</td>\n      <td>00400</td>\n      <td>0</td>\n      <td>-</td>\n    </tr>\n    <tr>\n      <th>685</th>\n      <td>b</td>\n      <td>21.08</td>\n      <td>10.085</td>\n      <td>y</td>\n      <td>p</td>\n      <td>e</td>\n      <td>h</td>\n      <td>1.250</td>\n      <td>f</td>\n      <td>f</td>\n      <td>0</td>\n      <td>f</td>\n      <td>g</td>\n      <td>00260</td>\n      <td>0</td>\n      <td>-</td>\n    </tr>\n    <tr>\n      <th>686</th>\n      <td>a</td>\n      <td>22.67</td>\n      <td>0.750</td>\n      <td>u</td>\n      <td>g</td>\n      <td>c</td>\n      <td>v</td>\n      <td>2.000</td>\n      <td>f</td>\n      <td>t</td>\n      <td>2</td>\n      <td>t</td>\n      <td>g</td>\n      <td>00200</td>\n      <td>394</td>\n      <td>-</td>\n    </tr>\n    <tr>\n      <th>687</th>\n      <td>a</td>\n      <td>25.25</td>\n      <td>13.500</td>\n      <td>y</td>\n      <td>p</td>\n      <td>ff</td>\n      <td>ff</td>\n      <td>2.000</td>\n      <td>f</td>\n      <td>t</td>\n      <td>1</td>\n      <td>t</td>\n      <td>g</td>\n      <td>00200</td>\n      <td>1</td>\n      <td>-</td>\n    </tr>\n    <tr>\n      <th>688</th>\n      <td>b</td>\n      <td>17.92</td>\n      <td>0.205</td>\n      <td>u</td>\n      <td>g</td>\n      <td>aa</td>\n      <td>v</td>\n      <td>0.040</td>\n      <td>f</td>\n      <td>f</td>\n      <td>0</td>\n      <td>f</td>\n      <td>g</td>\n      <td>00280</td>\n      <td>750</td>\n      <td>-</td>\n    </tr>\n    <tr>\n      <th>689</th>\n      <td>b</td>\n      <td>35.00</td>\n      <td>3.375</td>\n      <td>u</td>\n      <td>g</td>\n      <td>c</td>\n      <td>h</td>\n      <td>8.290</td>\n      <td>f</td>\n      <td>f</td>\n      <td>0</td>\n      <td>t</td>\n      <td>g</td>\n      <td>00000</td>\n      <td>0</td>\n      <td>-</td>\n    </tr>\n  </tbody>\n</table>\n<p>690 rows × 16 columns</p>\n</div>",
            "text/plain": "    A1     A2      A3 A4 A5  A6  A7      A8 A9 A10  A11 A12 A13    A14    A15  \\\n0    b  30.83   0.000  u  g   w   v   1.250  t   t    1   f   g  00202      0   \n1    a  58.67   4.460  u  g   q   h   3.040  t   t    6   f   g  00043    560   \n2    a  24.50   0.500  u  g   q   h   1.500  t   f    0   f   g  00280    824   \n3    b  27.83   1.540  u  g   w   v   3.750  t   t    5   t   g  00100      3   \n4    b  20.17   5.625  u  g   w   v   1.710  t   f    0   f   s  00120      0   \n5    b  32.08   4.000  u  g   m   v   2.500  t   f    0   t   g  00360      0   \n6    b  33.17   1.040  u  g   r   h   6.500  t   f    0   t   g  00164  31285   \n7    a  22.92  11.585  u  g  cc   v   0.040  t   f    0   f   g  00080   1349   \n8    b  54.42   0.500  y  p   k   h   3.960  t   f    0   f   g  00180    314   \n9    b  42.50   4.915  y  p   w   v   3.165  t   f    0   t   g  00052   1442   \n10   b  22.08   0.830  u  g   c   h   2.165  f   f    0   t   g  00128      0   \n11   b  29.92   1.835  u  g   c   h   4.335  t   f    0   f   g  00260    200   \n12   a  38.25   6.000  u  g   k   v   1.000  t   f    0   t   g  00000      0   \n13   b  48.08   6.040  u  g   k   v   0.040  f   f    0   f   g  00000   2690   \n14   a  45.83  10.500  u  g   q   v   5.000  t   t    7   t   g  00000      0   \n15   b  36.67   4.415  y  p   k   v   0.250  t   t   10   t   g  00320      0   \n16   b  28.25   0.875  u  g   m   v   0.960  t   t    3   t   g  00396      0   \n17   a  23.25   5.875  u  g   q   v   3.170  t   t   10   f   g  00120    245   \n18   b  21.83   0.250  u  g   d   h   0.665  t   f    0   t   g  00000      0   \n19   a  19.17   8.585  u  g  cc   h   0.750  t   t    7   f   g  00096      0   \n20   b  25.00  11.250  u  g   c   v   2.500  t   t   17   f   g  00200   1208   \n21   b  23.25   1.000  u  g   c   v   0.835  t   f    0   f   s  00300      0   \n22   a  47.75   8.000  u  g   c   v   7.875  t   t    6   t   g  00000   1260   \n23   a  27.42  14.500  u  g   x   h   3.085  t   t    1   f   g  00120     11   \n24   a  41.17   6.500  u  g   q   v   0.500  t   t    3   t   g  00145      0   \n25   a  15.83   0.585  u  g   c   h   1.500  t   t    2   f   g  00100      0   \n26   a  47.00  13.000  u  g   i  bb   5.165  t   t    9   t   g  00000      0   \n27   b  56.58  18.500  u  g   d  bb  15.000  t   t   17   t   g  00000      0   \n28   b  57.42   8.500  u  g   e   h   7.000  t   t    3   f   g  00000      0   \n29   b  42.08   1.040  u  g   w   v   5.000  t   t    6   t   g  00500  10000   \n..  ..    ...     ... .. ..  ..  ..     ... ..  ..  ...  ..  ..    ...    ...   \n660  b  22.25   9.000  u  g  aa   v   0.085  f   f    0   f   g  00000      0   \n661  b  29.83   3.500  u  g   c   v   0.165  f   f    0   f   g  00216      0   \n662  a  23.50   1.500  u  g   w   v   0.875  f   f    0   t   g  00160      0   \n663  b  32.08   4.000  y  p  cc   v   1.500  f   f    0   t   g  00120      0   \n664  b  31.08   1.500  y  p   w   v   0.040  f   f    0   f   s  00160      0   \n665  b  31.83   0.040  y  p   m   v   0.040  f   f    0   f   g  00000      0   \n666  a  21.75  11.750  u  g   c   v   0.250  f   f    0   t   g  00180      0   \n667  a  17.92   0.540  u  g   c   v   1.750  f   t    1   t   g  00080      5   \n668  b  30.33   0.500  u  g   d   h   0.085  f   f    0   t   s  00252      0   \n669  b  51.83   2.040  y  p  ff  ff   1.500  f   f    0   f   g  00120      1   \n670  b  47.17   5.835  u  g   w   v   5.500  f   f    0   f   g  00465    150   \n671  b  25.83  12.835  u  g  cc   v   0.500  f   f    0   f   g  00000      2   \n672  a  50.25   0.835  u  g  aa   v   0.500  f   f    0   t   g  00240    117   \n673  ?  29.50   2.000  y  p   e   h   2.000  f   f    0   f   g  00256     17   \n674  a  37.33   2.500  u  g   i   h   0.210  f   f    0   f   g  00260    246   \n675  a  41.58   1.040  u  g  aa   v   0.665  f   f    0   f   g  00240    237   \n676  a  30.58  10.665  u  g   q   h   0.085  f   t   12   t   g  00129      3   \n677  b  19.42   7.250  u  g   m   v   0.040  f   t    1   f   g  00100      1   \n678  a  17.92  10.210  u  g  ff  ff   0.000  f   f    0   f   g  00000     50   \n679  a  20.08   1.250  u  g   c   v   0.000  f   f    0   f   g  00000      0   \n680  b  19.50   0.290  u  g   k   v   0.290  f   f    0   f   g  00280    364   \n681  b  27.83   1.000  y  p   d   h   3.000  f   f    0   f   g  00176    537   \n682  b  17.08   3.290  u  g   i   v   0.335  f   f    0   t   g  00140      2   \n683  b  36.42   0.750  y  p   d   v   0.585  f   f    0   f   g  00240      3   \n684  b  40.58   3.290  u  g   m   v   3.500  f   f    0   t   s  00400      0   \n685  b  21.08  10.085  y  p   e   h   1.250  f   f    0   f   g  00260      0   \n686  a  22.67   0.750  u  g   c   v   2.000  f   t    2   t   g  00200    394   \n687  a  25.25  13.500  y  p  ff  ff   2.000  f   t    1   t   g  00200      1   \n688  b  17.92   0.205  u  g  aa   v   0.040  f   f    0   f   g  00280    750   \n689  b  35.00   3.375  u  g   c   h   8.290  f   f    0   t   g  00000      0   \n\n    A16  \n0     +  \n1     +  \n2     +  \n3     +  \n4     +  \n5     +  \n6     +  \n7     +  \n8     +  \n9     +  \n10    +  \n11    +  \n12    +  \n13    +  \n14    +  \n15    +  \n16    +  \n17    +  \n18    +  \n19    +  \n20    +  \n21    +  \n22    +  \n23    +  \n24    +  \n25    +  \n26    +  \n27    +  \n28    +  \n29    +  \n..   ..  \n660   -  \n661   -  \n662   -  \n663   -  \n664   -  \n665   -  \n666   -  \n667   -  \n668   -  \n669   -  \n670   -  \n671   -  \n672   -  \n673   -  \n674   -  \n675   -  \n676   -  \n677   -  \n678   -  \n679   -  \n680   -  \n681   -  \n682   -  \n683   -  \n684   -  \n685   -  \n686   -  \n687   -  \n688   -  \n689   -  \n\n[690 rows x 16 columns]"
          },
          "execution_count": 1,
          "metadata": {},
          "output_type": "execute_result"
        }
      ]
    },
    {
      "metadata": {
        "trusted": false
      },
      "cell_type": "code",
      "source": "dataq1.isna().sum() # Checking missing values",
      "execution_count": 2,
      "outputs": [
        {
          "data": {
            "text/plain": "A1     0\nA2     0\nA3     0\nA4     0\nA5     0\nA6     0\nA7     0\nA8     0\nA9     0\nA10    0\nA11    0\nA12    0\nA13    0\nA14    0\nA15    0\nA16    0\ndtype: int64"
          },
          "execution_count": 2,
          "metadata": {},
          "output_type": "execute_result"
        }
      ]
    },
    {
      "metadata": {},
      "cell_type": "markdown",
      "source": "### Although it shows that number of missing values are 0 but the data description file shows that there are missing values in the dataset."
    },
    {
      "metadata": {
        "trusted": false
      },
      "cell_type": "code",
      "source": "print(dataq1['A1'].value_counts())\nprint(dataq1['A2'].value_counts())\nprint(dataq1['A4'].value_counts())\nprint(dataq1['A5'].value_counts())\nprint(dataq1['A6'].value_counts())\nprint(dataq1['A7'].value_counts())",
      "execution_count": 3,
      "outputs": [
        {
          "name": "stdout",
          "output_type": "stream",
          "text": "b    468\na    210\n?     12\nName: A1, dtype: int64\n?        12\n22.67     9\n20.42     7\n23.58     6\n22.50     6\n25.00     6\n20.67     6\n19.17     6\n24.50     6\n18.83     6\n23.00     5\n33.17     5\n27.67     5\n23.08     5\n27.83     5\n23.25     5\n22.08     4\n27.25     4\n20.00     4\n24.75     4\n41.17     4\n32.33     4\n26.17     4\n28.58     4\n26.67     4\n22.92     4\n25.67     4\n35.17     4\n25.17     4\n29.50     4\n         ..\n44.00     1\n36.00     1\n44.83     1\n30.33     1\n56.75     1\n17.33     1\n35.42     1\n24.92     1\n17.42     1\n26.58     1\n37.42     1\n27.33     1\n56.50     1\n16.17     1\n55.92     1\n21.42     1\n62.50     1\n46.08     1\n26.00     1\n54.33     1\n28.08     1\n38.42     1\n52.17     1\n54.42     1\n47.25     1\n74.83     1\n45.33     1\n58.67     1\n54.83     1\n15.75     1\nName: A2, Length: 350, dtype: int64\nu    519\ny    163\n?      6\nl      2\nName: A4, dtype: int64\ng     519\np     163\n?       6\ngg      2\nName: A5, dtype: int64\nc     137\nq      78\nw      64\ni      59\naa     54\nff     53\nk      51\ncc     41\nx      38\nm      38\nd      30\ne      25\nj      10\n?       9\nr       3\nName: A6, dtype: int64\nv     399\nh     138\nbb     59\nff     57\n?       9\nj       8\nz       8\ndd      6\nn       4\no       2\nName: A7, dtype: int64\n"
        }
      ]
    },
    {
      "metadata": {},
      "cell_type": "markdown",
      "source": "### The above output shows that there are 12, 12, 6, 6, 9, 9, and 13 '?'s in A1, A2, A4, A5, A6, A7 and A14. These counts are the same as counts for missing values in data description file. "
    },
    {
      "metadata": {
        "trusted": false
      },
      "cell_type": "code",
      "source": "# Changing '?' to NaN and checking number of Na values\nndata = dataq1 # Creating copy of dataset\nndata[['A1','A2','A4','A5','A6','A7','A14']] = ndata[['A1','A2','A4','A5','A6','A7','A14']].replace('?', np.NaN) # Replacing ? with NA\nndata.isna().sum() # Counting number of NA values",
      "execution_count": 4,
      "outputs": [
        {
          "data": {
            "text/plain": "A1     12\nA2     12\nA3      0\nA4      6\nA5      6\nA6      9\nA7      9\nA8      0\nA9      0\nA10     0\nA11     0\nA12     0\nA13     0\nA14    13\nA15     0\nA16     0\ndtype: int64"
          },
          "execution_count": 4,
          "metadata": {},
          "output_type": "execute_result"
        }
      ]
    },
    {
      "metadata": {},
      "cell_type": "markdown",
      "source": "### Checking datatypes of attributes"
    },
    {
      "metadata": {
        "scrolled": true,
        "trusted": false
      },
      "cell_type": "code",
      "source": "ndata.dtypes",
      "execution_count": 5,
      "outputs": [
        {
          "data": {
            "text/plain": "A1      object\nA2      object\nA3     float64\nA4      object\nA5      object\nA6      object\nA7      object\nA8     float64\nA9      object\nA10     object\nA11      int64\nA12     object\nA13     object\nA14     object\nA15      int64\nA16     object\ndtype: object"
          },
          "execution_count": 5,
          "metadata": {},
          "output_type": "execute_result"
        }
      ]
    },
    {
      "metadata": {},
      "cell_type": "markdown",
      "source": "### A2, A3, A8, A11, A14, and A15 should be continuous values. Therefore, typecasting A2, and A14"
    },
    {
      "metadata": {
        "trusted": false
      },
      "cell_type": "code",
      "source": "ndata['A2'] = pd.to_numeric(ndata['A2']);\nndata['A14'] = pd.to_numeric(ndata['A14']);\nprint(ndata['A2'].dtype)\nprint(ndata['A14'].dtype)",
      "execution_count": 6,
      "outputs": [
        {
          "name": "stdout",
          "output_type": "stream",
          "text": "float64\nfloat64\n"
        }
      ]
    },
    {
      "metadata": {},
      "cell_type": "markdown",
      "source": "### Among missing value attributes only A2 and A14 are continuous numeric variable. Imputing them with median values."
    },
    {
      "metadata": {
        "trusted": false
      },
      "cell_type": "code",
      "source": "ndata['A2'].fillna(ndata['A2'].median(), inplace = True)\nndata['A14'].fillna(ndata['A14'].median(), inplace = True)\nndata.isna().sum() # Verifying if missing values are removed across A2 and A14",
      "execution_count": 7,
      "outputs": [
        {
          "data": {
            "text/plain": "A1     12\nA2      0\nA3      0\nA4      6\nA5      6\nA6      9\nA7      9\nA8      0\nA9      0\nA10     0\nA11     0\nA12     0\nA13     0\nA14     0\nA15     0\nA16     0\ndtype: int64"
          },
          "execution_count": 7,
          "metadata": {},
          "output_type": "execute_result"
        }
      ]
    },
    {
      "metadata": {},
      "cell_type": "markdown",
      "source": "### Imputing Categorical variable using Mode"
    },
    {
      "metadata": {
        "trusted": false
      },
      "cell_type": "code",
      "source": "# Imputing by mode of categorical variables\nndata['A1'].fillna(ndata['A1'].mode()[0], inplace=True)\nndata['A4'].fillna(ndata['A4'].mode()[0], inplace=True)\nndata['A5'].fillna(ndata['A5'].mode()[0], inplace=True)\nndata['A6'].fillna(ndata['A6'].mode()[0], inplace=True)\nndata['A7'].fillna(ndata['A7'].mode()[0], inplace=True)",
      "execution_count": 8,
      "outputs": []
    },
    {
      "metadata": {},
      "cell_type": "markdown",
      "source": "### The above output shows that all missing values are now handled."
    },
    {
      "metadata": {},
      "cell_type": "markdown",
      "source": "### Discretizing and integer encoding numerical descriptive feature 'A2' "
    },
    {
      "metadata": {
        "trusted": false
      },
      "cell_type": "code",
      "source": "ndata1 = ndata.copy() # Creating copy of a dataset\nndata1['A2'] = pd.qcut(ndata1['A2'], q=3, labels=['low', 'medium', 'high']) # Performing discretization                                    ",
      "execution_count": 9,
      "outputs": []
    },
    {
      "metadata": {
        "trusted": false
      },
      "cell_type": "code",
      "source": "ndata1['A2'].value_counts() # Checking counts of dicretized levels",
      "execution_count": 10,
      "outputs": [
        {
          "data": {
            "text/plain": "medium    231\nlow       230\nhigh      229\nName: A2, dtype: int64"
          },
          "execution_count": 10,
          "metadata": {},
          "output_type": "execute_result"
        }
      ]
    },
    {
      "metadata": {
        "trusted": false
      },
      "cell_type": "code",
      "source": "ndata1.head(5)",
      "execution_count": 11,
      "outputs": [
        {
          "data": {
            "text/html": "<div>\n<style>\n    .dataframe tbody tr th:only-of-type {\n        vertical-align: middle;\n    }\n\n    .dataframe tbody tr th {\n        vertical-align: top;\n    }\n\n    .dataframe thead th {\n        text-align: right;\n    }\n</style>\n<table class=\"dataframe\">\n  <thead>\n    <tr style=\"text-align: right;\">\n      <th></th>\n      <th>A1</th>\n      <th>A2</th>\n      <th>A3</th>\n      <th>A4</th>\n      <th>A5</th>\n      <th>A6</th>\n      <th>A7</th>\n      <th>A8</th>\n      <th>A9</th>\n      <th>A10</th>\n      <th>A11</th>\n      <th>A12</th>\n      <th>A13</th>\n      <th>A14</th>\n      <th>A15</th>\n      <th>A16</th>\n    </tr>\n  </thead>\n  <tbody>\n    <tr>\n      <th>0</th>\n      <td>b</td>\n      <td>medium</td>\n      <td>0.000</td>\n      <td>u</td>\n      <td>g</td>\n      <td>w</td>\n      <td>v</td>\n      <td>1.25</td>\n      <td>t</td>\n      <td>t</td>\n      <td>1</td>\n      <td>f</td>\n      <td>g</td>\n      <td>202.0</td>\n      <td>0</td>\n      <td>+</td>\n    </tr>\n    <tr>\n      <th>1</th>\n      <td>a</td>\n      <td>high</td>\n      <td>4.460</td>\n      <td>u</td>\n      <td>g</td>\n      <td>q</td>\n      <td>h</td>\n      <td>3.04</td>\n      <td>t</td>\n      <td>t</td>\n      <td>6</td>\n      <td>f</td>\n      <td>g</td>\n      <td>43.0</td>\n      <td>560</td>\n      <td>+</td>\n    </tr>\n    <tr>\n      <th>2</th>\n      <td>a</td>\n      <td>medium</td>\n      <td>0.500</td>\n      <td>u</td>\n      <td>g</td>\n      <td>q</td>\n      <td>h</td>\n      <td>1.50</td>\n      <td>t</td>\n      <td>f</td>\n      <td>0</td>\n      <td>f</td>\n      <td>g</td>\n      <td>280.0</td>\n      <td>824</td>\n      <td>+</td>\n    </tr>\n    <tr>\n      <th>3</th>\n      <td>b</td>\n      <td>medium</td>\n      <td>1.540</td>\n      <td>u</td>\n      <td>g</td>\n      <td>w</td>\n      <td>v</td>\n      <td>3.75</td>\n      <td>t</td>\n      <td>t</td>\n      <td>5</td>\n      <td>t</td>\n      <td>g</td>\n      <td>100.0</td>\n      <td>3</td>\n      <td>+</td>\n    </tr>\n    <tr>\n      <th>4</th>\n      <td>b</td>\n      <td>low</td>\n      <td>5.625</td>\n      <td>u</td>\n      <td>g</td>\n      <td>w</td>\n      <td>v</td>\n      <td>1.71</td>\n      <td>t</td>\n      <td>f</td>\n      <td>0</td>\n      <td>f</td>\n      <td>s</td>\n      <td>120.0</td>\n      <td>0</td>\n      <td>+</td>\n    </tr>\n  </tbody>\n</table>\n</div>",
            "text/plain": "  A1      A2     A3 A4 A5 A6 A7    A8 A9 A10  A11 A12 A13    A14  A15 A16\n0  b  medium  0.000  u  g  w  v  1.25  t   t    1   f   g  202.0    0   +\n1  a    high  4.460  u  g  q  h  3.04  t   t    6   f   g   43.0  560   +\n2  a  medium  0.500  u  g  q  h  1.50  t   f    0   f   g  280.0  824   +\n3  b  medium  1.540  u  g  w  v  3.75  t   t    5   t   g  100.0    3   +\n4  b     low  5.625  u  g  w  v  1.71  t   f    0   f   s  120.0    0   +"
          },
          "execution_count": 11,
          "metadata": {},
          "output_type": "execute_result"
        }
      ]
    },
    {
      "metadata": {},
      "cell_type": "markdown",
      "source": "### 'A2' feature is successfully discretized"
    },
    {
      "metadata": {},
      "cell_type": "markdown",
      "source": "### Integer Coding 'A2'"
    },
    {
      "metadata": {
        "trusted": false
      },
      "cell_type": "code",
      "source": "level_mapping = {'low': 0, 'medium': 1, 'high': 2} # Defining mapping between levels and integer",
      "execution_count": 12,
      "outputs": []
    },
    {
      "metadata": {
        "trusted": false
      },
      "cell_type": "code",
      "source": "ndata1_integer = ndata1.copy() # Creating copy of dataset\nndata1_integer['A2'] = ndata1_integer['A2'].replace(level_mapping) # Replacing levels with integer encoding\nndata1_integer.head(5)",
      "execution_count": 13,
      "outputs": [
        {
          "data": {
            "text/html": "<div>\n<style>\n    .dataframe tbody tr th:only-of-type {\n        vertical-align: middle;\n    }\n\n    .dataframe tbody tr th {\n        vertical-align: top;\n    }\n\n    .dataframe thead th {\n        text-align: right;\n    }\n</style>\n<table class=\"dataframe\">\n  <thead>\n    <tr style=\"text-align: right;\">\n      <th></th>\n      <th>A1</th>\n      <th>A2</th>\n      <th>A3</th>\n      <th>A4</th>\n      <th>A5</th>\n      <th>A6</th>\n      <th>A7</th>\n      <th>A8</th>\n      <th>A9</th>\n      <th>A10</th>\n      <th>A11</th>\n      <th>A12</th>\n      <th>A13</th>\n      <th>A14</th>\n      <th>A15</th>\n      <th>A16</th>\n    </tr>\n  </thead>\n  <tbody>\n    <tr>\n      <th>0</th>\n      <td>b</td>\n      <td>1</td>\n      <td>0.000</td>\n      <td>u</td>\n      <td>g</td>\n      <td>w</td>\n      <td>v</td>\n      <td>1.25</td>\n      <td>t</td>\n      <td>t</td>\n      <td>1</td>\n      <td>f</td>\n      <td>g</td>\n      <td>202.0</td>\n      <td>0</td>\n      <td>+</td>\n    </tr>\n    <tr>\n      <th>1</th>\n      <td>a</td>\n      <td>2</td>\n      <td>4.460</td>\n      <td>u</td>\n      <td>g</td>\n      <td>q</td>\n      <td>h</td>\n      <td>3.04</td>\n      <td>t</td>\n      <td>t</td>\n      <td>6</td>\n      <td>f</td>\n      <td>g</td>\n      <td>43.0</td>\n      <td>560</td>\n      <td>+</td>\n    </tr>\n    <tr>\n      <th>2</th>\n      <td>a</td>\n      <td>1</td>\n      <td>0.500</td>\n      <td>u</td>\n      <td>g</td>\n      <td>q</td>\n      <td>h</td>\n      <td>1.50</td>\n      <td>t</td>\n      <td>f</td>\n      <td>0</td>\n      <td>f</td>\n      <td>g</td>\n      <td>280.0</td>\n      <td>824</td>\n      <td>+</td>\n    </tr>\n    <tr>\n      <th>3</th>\n      <td>b</td>\n      <td>1</td>\n      <td>1.540</td>\n      <td>u</td>\n      <td>g</td>\n      <td>w</td>\n      <td>v</td>\n      <td>3.75</td>\n      <td>t</td>\n      <td>t</td>\n      <td>5</td>\n      <td>t</td>\n      <td>g</td>\n      <td>100.0</td>\n      <td>3</td>\n      <td>+</td>\n    </tr>\n    <tr>\n      <th>4</th>\n      <td>b</td>\n      <td>0</td>\n      <td>5.625</td>\n      <td>u</td>\n      <td>g</td>\n      <td>w</td>\n      <td>v</td>\n      <td>1.71</td>\n      <td>t</td>\n      <td>f</td>\n      <td>0</td>\n      <td>f</td>\n      <td>s</td>\n      <td>120.0</td>\n      <td>0</td>\n      <td>+</td>\n    </tr>\n  </tbody>\n</table>\n</div>",
            "text/plain": "  A1  A2     A3 A4 A5 A6 A7    A8 A9 A10  A11 A12 A13    A14  A15 A16\n0  b   1  0.000  u  g  w  v  1.25  t   t    1   f   g  202.0    0   +\n1  a   2  4.460  u  g  q  h  3.04  t   t    6   f   g   43.0  560   +\n2  a   1  0.500  u  g  q  h  1.50  t   f    0   f   g  280.0  824   +\n3  b   1  1.540  u  g  w  v  3.75  t   t    5   t   g  100.0    3   +\n4  b   0  5.625  u  g  w  v  1.71  t   f    0   f   s  120.0    0   +"
          },
          "execution_count": 13,
          "metadata": {},
          "output_type": "execute_result"
        }
      ]
    },
    {
      "metadata": {},
      "cell_type": "markdown",
      "source": "### 'A2' successfully Integer encoded\n\n### Encoding objects type variable of the descriptive data to feed them to the SK learn module"
    },
    {
      "metadata": {
        "trusted": false
      },
      "cell_type": "code",
      "source": "ndata1_integer_data = ndata1_integer.drop(columns = 'A16') # Creating only descriptive dataset\nndata1_integer_data\ntarget = ndata1_integer['A16'] # Defining target feature",
      "execution_count": 14,
      "outputs": []
    },
    {
      "metadata": {
        "trusted": false
      },
      "cell_type": "code",
      "source": "categorical_cols = ndata1_integer_data.columns[ndata1_integer_data.dtypes==object].tolist() # Creating list of object type variables",
      "execution_count": 15,
      "outputs": []
    },
    {
      "metadata": {
        "trusted": false
      },
      "cell_type": "code",
      "source": "categorical_cols # object variables for on-hot-encoding",
      "execution_count": 16,
      "outputs": [
        {
          "data": {
            "text/plain": "['A1', 'A4', 'A5', 'A6', 'A7', 'A9', 'A10', 'A12', 'A13']"
          },
          "execution_count": 16,
          "metadata": {},
          "output_type": "execute_result"
        }
      ]
    },
    {
      "metadata": {
        "trusted": false
      },
      "cell_type": "code",
      "source": "# Defining binary variable for categorical descriptive feature with only 2 levels,\nfor col in categorical_cols:\n    n = len(ndata1_integer_data[col].unique())\n    if (n == 2):\n        ndata1_integer_data[col] = pd.get_dummies(ndata1_integer_data[col], drop_first=True)\n\n# using regular one-hot-encoding categorical features (with > 2 levels), making sure that numeric feature is untouched\nndata1_integer_data = pd.get_dummies(ndata1_integer_data)\nndata1_integer_data.head(5)",
      "execution_count": 17,
      "outputs": [
        {
          "data": {
            "text/html": "<div>\n<style>\n    .dataframe tbody tr th:only-of-type {\n        vertical-align: middle;\n    }\n\n    .dataframe tbody tr th {\n        vertical-align: top;\n    }\n\n    .dataframe thead th {\n        text-align: right;\n    }\n</style>\n<table class=\"dataframe\">\n  <thead>\n    <tr style=\"text-align: right;\">\n      <th></th>\n      <th>A1</th>\n      <th>A2</th>\n      <th>A3</th>\n      <th>A8</th>\n      <th>A9</th>\n      <th>A10</th>\n      <th>A11</th>\n      <th>A12</th>\n      <th>A14</th>\n      <th>A15</th>\n      <th>...</th>\n      <th>A7_ff</th>\n      <th>A7_h</th>\n      <th>A7_j</th>\n      <th>A7_n</th>\n      <th>A7_o</th>\n      <th>A7_v</th>\n      <th>A7_z</th>\n      <th>A13_g</th>\n      <th>A13_p</th>\n      <th>A13_s</th>\n    </tr>\n  </thead>\n  <tbody>\n    <tr>\n      <th>0</th>\n      <td>1</td>\n      <td>1</td>\n      <td>0.000</td>\n      <td>1.25</td>\n      <td>1</td>\n      <td>1</td>\n      <td>1</td>\n      <td>0</td>\n      <td>202.0</td>\n      <td>0</td>\n      <td>...</td>\n      <td>0</td>\n      <td>0</td>\n      <td>0</td>\n      <td>0</td>\n      <td>0</td>\n      <td>1</td>\n      <td>0</td>\n      <td>1</td>\n      <td>0</td>\n      <td>0</td>\n    </tr>\n    <tr>\n      <th>1</th>\n      <td>0</td>\n      <td>2</td>\n      <td>4.460</td>\n      <td>3.04</td>\n      <td>1</td>\n      <td>1</td>\n      <td>6</td>\n      <td>0</td>\n      <td>43.0</td>\n      <td>560</td>\n      <td>...</td>\n      <td>0</td>\n      <td>1</td>\n      <td>0</td>\n      <td>0</td>\n      <td>0</td>\n      <td>0</td>\n      <td>0</td>\n      <td>1</td>\n      <td>0</td>\n      <td>0</td>\n    </tr>\n    <tr>\n      <th>2</th>\n      <td>0</td>\n      <td>1</td>\n      <td>0.500</td>\n      <td>1.50</td>\n      <td>1</td>\n      <td>0</td>\n      <td>0</td>\n      <td>0</td>\n      <td>280.0</td>\n      <td>824</td>\n      <td>...</td>\n      <td>0</td>\n      <td>1</td>\n      <td>0</td>\n      <td>0</td>\n      <td>0</td>\n      <td>0</td>\n      <td>0</td>\n      <td>1</td>\n      <td>0</td>\n      <td>0</td>\n    </tr>\n    <tr>\n      <th>3</th>\n      <td>1</td>\n      <td>1</td>\n      <td>1.540</td>\n      <td>3.75</td>\n      <td>1</td>\n      <td>1</td>\n      <td>5</td>\n      <td>1</td>\n      <td>100.0</td>\n      <td>3</td>\n      <td>...</td>\n      <td>0</td>\n      <td>0</td>\n      <td>0</td>\n      <td>0</td>\n      <td>0</td>\n      <td>1</td>\n      <td>0</td>\n      <td>1</td>\n      <td>0</td>\n      <td>0</td>\n    </tr>\n    <tr>\n      <th>4</th>\n      <td>1</td>\n      <td>0</td>\n      <td>5.625</td>\n      <td>1.71</td>\n      <td>1</td>\n      <td>0</td>\n      <td>0</td>\n      <td>0</td>\n      <td>120.0</td>\n      <td>0</td>\n      <td>...</td>\n      <td>0</td>\n      <td>0</td>\n      <td>0</td>\n      <td>0</td>\n      <td>0</td>\n      <td>1</td>\n      <td>0</td>\n      <td>0</td>\n      <td>0</td>\n      <td>1</td>\n    </tr>\n  </tbody>\n</table>\n<p>5 rows × 42 columns</p>\n</div>",
            "text/plain": "   A1  A2     A3    A8  A9  A10  A11  A12    A14  A15  ...    A7_ff  A7_h  \\\n0   1   1  0.000  1.25   1    1    1    0  202.0    0  ...        0     0   \n1   0   2  4.460  3.04   1    1    6    0   43.0  560  ...        0     1   \n2   0   1  0.500  1.50   1    0    0    0  280.0  824  ...        0     1   \n3   1   1  1.540  3.75   1    1    5    1  100.0    3  ...        0     0   \n4   1   0  5.625  1.71   1    0    0    0  120.0    0  ...        0     0   \n\n   A7_j  A7_n  A7_o  A7_v  A7_z  A13_g  A13_p  A13_s  \n0     0     0     0     1     0      1      0      0  \n1     0     0     0     0     0      1      0      0  \n2     0     0     0     0     0      1      0      0  \n3     0     0     0     1     0      1      0      0  \n4     0     0     0     1     0      0      0      1  \n\n[5 rows x 42 columns]"
          },
          "execution_count": 17,
          "metadata": {},
          "output_type": "execute_result"
        }
      ]
    },
    {
      "metadata": {},
      "cell_type": "markdown",
      "source": "### Categorical variables are encoded successfully"
    },
    {
      "metadata": {
        "trusted": false
      },
      "cell_type": "code",
      "source": "# Integer Coding Target Variable\nnp.unique(target, return_counts=True) # Counting number of instance of each categorical levels",
      "execution_count": 18,
      "outputs": [
        {
          "data": {
            "text/plain": "(array(['+', '-'], dtype=object), array([307, 383]))"
          },
          "execution_count": 18,
          "metadata": {},
          "output_type": "execute_result"
        }
      ]
    },
    {
      "metadata": {
        "trusted": false
      },
      "cell_type": "code",
      "source": "label_encoder = preprocessing.LabelEncoder() # Using LabelEncoder from Sklearn module to automatically code target feature \n                                             # since we do not have any encoding criteria\nle_fit = label_encoder.fit(target)\ntarget_encoded_le = le_fit.transform(target)",
      "execution_count": 19,
      "outputs": []
    },
    {
      "metadata": {
        "trusted": false
      },
      "cell_type": "code",
      "source": "print(\"Target Type:\", type(target))\nprint(\"Counts Using NumPy:\") \nprint(np.unique(target_encoded_le, return_counts = True)) # Using Numpy moddule to print value counts of target levels",
      "execution_count": 20,
      "outputs": [
        {
          "name": "stdout",
          "output_type": "stream",
          "text": "Target Type: <class 'pandas.core.series.Series'>\nCounts Using NumPy:\n(array([0, 1]), array([307, 383]))\n"
        }
      ]
    },
    {
      "metadata": {
        "trusted": false
      },
      "cell_type": "code",
      "source": "ndata1_integer_data_scaled = preprocessing.StandardScaler().fit_transform(ndata1_integer_data)\ndf_clean = pd.DataFrame(ndata1_integer_data_scaled, columns = ndata1_integer_data.columns).round(3)",
      "execution_count": 21,
      "outputs": []
    },
    {
      "metadata": {
        "trusted": false
      },
      "cell_type": "code",
      "source": "df_clean['Target'] = target_encoded_le # Naming target feature encoded variable to 'target' and assigning it to final clean dataset",
      "execution_count": 22,
      "outputs": []
    },
    {
      "metadata": {
        "trusted": false
      },
      "cell_type": "code",
      "source": "# converting to comma-seperated dataset \ndf_clean.to_csv('df_clean.csv', index = False)",
      "execution_count": 23,
      "outputs": []
    },
    {
      "metadata": {
        "trusted": false
      },
      "cell_type": "code",
      "source": "df_clean.shape",
      "execution_count": 24,
      "outputs": [
        {
          "data": {
            "text/plain": "(690, 43)"
          },
          "execution_count": 24,
          "metadata": {},
          "output_type": "execute_result"
        }
      ]
    },
    {
      "metadata": {
        "trusted": false
      },
      "cell_type": "code",
      "source": "df_clean.describe(include='all').round(3)",
      "execution_count": 25,
      "outputs": [
        {
          "data": {
            "text/html": "<div>\n<style>\n    .dataframe tbody tr th:only-of-type {\n        vertical-align: middle;\n    }\n\n    .dataframe tbody tr th {\n        vertical-align: top;\n    }\n\n    .dataframe thead th {\n        text-align: right;\n    }\n</style>\n<table class=\"dataframe\">\n  <thead>\n    <tr style=\"text-align: right;\">\n      <th></th>\n      <th>A1</th>\n      <th>A2</th>\n      <th>A3</th>\n      <th>A8</th>\n      <th>A9</th>\n      <th>A10</th>\n      <th>A11</th>\n      <th>A12</th>\n      <th>A14</th>\n      <th>A15</th>\n      <th>...</th>\n      <th>A7_h</th>\n      <th>A7_j</th>\n      <th>A7_n</th>\n      <th>A7_o</th>\n      <th>A7_v</th>\n      <th>A7_z</th>\n      <th>A13_g</th>\n      <th>A13_p</th>\n      <th>A13_s</th>\n      <th>Target</th>\n    </tr>\n  </thead>\n  <tbody>\n    <tr>\n      <th>count</th>\n      <td>690.000</td>\n      <td>690.000</td>\n      <td>690.000</td>\n      <td>690.000</td>\n      <td>690.000</td>\n      <td>690.000</td>\n      <td>690.000</td>\n      <td>690.000</td>\n      <td>690.000</td>\n      <td>690.000</td>\n      <td>...</td>\n      <td>690.000</td>\n      <td>690.000</td>\n      <td>690.000</td>\n      <td>690.000</td>\n      <td>690.000</td>\n      <td>690.000</td>\n      <td>690.000</td>\n      <td>690.000</td>\n      <td>690.000</td>\n      <td>690.000</td>\n    </tr>\n    <tr>\n      <th>mean</th>\n      <td>-0.000</td>\n      <td>0.000</td>\n      <td>0.000</td>\n      <td>0.000</td>\n      <td>-0.000</td>\n      <td>0.000</td>\n      <td>-0.000</td>\n      <td>0.000</td>\n      <td>-0.000</td>\n      <td>0.000</td>\n      <td>...</td>\n      <td>0.000</td>\n      <td>0.000</td>\n      <td>0.000</td>\n      <td>-0.000</td>\n      <td>-0.000</td>\n      <td>0.000</td>\n      <td>-0.000</td>\n      <td>0.000</td>\n      <td>0.000</td>\n      <td>0.555</td>\n    </tr>\n    <tr>\n      <th>std</th>\n      <td>1.001</td>\n      <td>1.001</td>\n      <td>1.001</td>\n      <td>1.001</td>\n      <td>1.001</td>\n      <td>1.001</td>\n      <td>1.001</td>\n      <td>1.001</td>\n      <td>1.001</td>\n      <td>1.001</td>\n      <td>...</td>\n      <td>1.001</td>\n      <td>1.001</td>\n      <td>1.001</td>\n      <td>1.001</td>\n      <td>1.001</td>\n      <td>1.001</td>\n      <td>1.001</td>\n      <td>1.001</td>\n      <td>1.001</td>\n      <td>0.497</td>\n    </tr>\n    <tr>\n      <th>min</th>\n      <td>-1.512</td>\n      <td>-1.224</td>\n      <td>-0.957</td>\n      <td>-0.665</td>\n      <td>-1.048</td>\n      <td>-0.864</td>\n      <td>-0.494</td>\n      <td>-0.919</td>\n      <td>-1.067</td>\n      <td>-0.195</td>\n      <td>...</td>\n      <td>-0.500</td>\n      <td>-0.108</td>\n      <td>-0.076</td>\n      <td>-0.054</td>\n      <td>-1.203</td>\n      <td>-0.108</td>\n      <td>-3.101</td>\n      <td>-0.108</td>\n      <td>-0.300</td>\n      <td>0.000</td>\n    </tr>\n    <tr>\n      <th>25%</th>\n      <td>-1.512</td>\n      <td>-1.224</td>\n      <td>-0.756</td>\n      <td>-0.616</td>\n      <td>-1.048</td>\n      <td>-0.864</td>\n      <td>-0.494</td>\n      <td>-0.919</td>\n      <td>-0.602</td>\n      <td>-0.195</td>\n      <td>...</td>\n      <td>-0.500</td>\n      <td>-0.108</td>\n      <td>-0.076</td>\n      <td>-0.054</td>\n      <td>-1.203</td>\n      <td>-0.108</td>\n      <td>0.322</td>\n      <td>-0.108</td>\n      <td>-0.300</td>\n      <td>0.000</td>\n    </tr>\n    <tr>\n      <th>50%</th>\n      <td>0.661</td>\n      <td>0.002</td>\n      <td>-0.404</td>\n      <td>-0.366</td>\n      <td>0.955</td>\n      <td>-0.864</td>\n      <td>-0.494</td>\n      <td>-0.919</td>\n      <td>-0.137</td>\n      <td>-0.194</td>\n      <td>...</td>\n      <td>-0.500</td>\n      <td>-0.108</td>\n      <td>-0.076</td>\n      <td>-0.054</td>\n      <td>0.831</td>\n      <td>-0.108</td>\n      <td>0.322</td>\n      <td>-0.108</td>\n      <td>-0.300</td>\n      <td>1.000</td>\n    </tr>\n    <tr>\n      <th>75%</th>\n      <td>0.661</td>\n      <td>1.228</td>\n      <td>0.493</td>\n      <td>0.120</td>\n      <td>0.955</td>\n      <td>1.157</td>\n      <td>0.123</td>\n      <td>1.088</td>\n      <td>0.514</td>\n      <td>-0.119</td>\n      <td>...</td>\n      <td>-0.500</td>\n      <td>-0.108</td>\n      <td>-0.076</td>\n      <td>-0.054</td>\n      <td>0.831</td>\n      <td>-0.108</td>\n      <td>0.322</td>\n      <td>-0.108</td>\n      <td>-0.300</td>\n      <td>1.000</td>\n    </tr>\n    <tr>\n      <th>max</th>\n      <td>0.661</td>\n      <td>1.228</td>\n      <td>4.672</td>\n      <td>7.858</td>\n      <td>0.955</td>\n      <td>1.157</td>\n      <td>13.294</td>\n      <td>1.088</td>\n      <td>10.557</td>\n      <td>19.012</td>\n      <td>...</td>\n      <td>2.000</td>\n      <td>9.233</td>\n      <td>13.096</td>\n      <td>18.547</td>\n      <td>0.831</td>\n      <td>9.233</td>\n      <td>0.322</td>\n      <td>9.233</td>\n      <td>3.332</td>\n      <td>1.000</td>\n    </tr>\n  </tbody>\n</table>\n<p>8 rows × 43 columns</p>\n</div>",
            "text/plain": "            A1       A2       A3       A8       A9      A10      A11      A12  \\\ncount  690.000  690.000  690.000  690.000  690.000  690.000  690.000  690.000   \nmean    -0.000    0.000    0.000    0.000   -0.000    0.000   -0.000    0.000   \nstd      1.001    1.001    1.001    1.001    1.001    1.001    1.001    1.001   \nmin     -1.512   -1.224   -0.957   -0.665   -1.048   -0.864   -0.494   -0.919   \n25%     -1.512   -1.224   -0.756   -0.616   -1.048   -0.864   -0.494   -0.919   \n50%      0.661    0.002   -0.404   -0.366    0.955   -0.864   -0.494   -0.919   \n75%      0.661    1.228    0.493    0.120    0.955    1.157    0.123    1.088   \nmax      0.661    1.228    4.672    7.858    0.955    1.157   13.294    1.088   \n\n           A14      A15   ...        A7_h     A7_j     A7_n     A7_o     A7_v  \\\ncount  690.000  690.000   ...     690.000  690.000  690.000  690.000  690.000   \nmean    -0.000    0.000   ...       0.000    0.000    0.000   -0.000   -0.000   \nstd      1.001    1.001   ...       1.001    1.001    1.001    1.001    1.001   \nmin     -1.067   -0.195   ...      -0.500   -0.108   -0.076   -0.054   -1.203   \n25%     -0.602   -0.195   ...      -0.500   -0.108   -0.076   -0.054   -1.203   \n50%     -0.137   -0.194   ...      -0.500   -0.108   -0.076   -0.054    0.831   \n75%      0.514   -0.119   ...      -0.500   -0.108   -0.076   -0.054    0.831   \nmax     10.557   19.012   ...       2.000    9.233   13.096   18.547    0.831   \n\n          A7_z    A13_g    A13_p    A13_s   Target  \ncount  690.000  690.000  690.000  690.000  690.000  \nmean     0.000   -0.000    0.000    0.000    0.555  \nstd      1.001    1.001    1.001    1.001    0.497  \nmin     -0.108   -3.101   -0.108   -0.300    0.000  \n25%     -0.108    0.322   -0.108   -0.300    0.000  \n50%     -0.108    0.322   -0.108   -0.300    1.000  \n75%     -0.108    0.322   -0.108   -0.300    1.000  \nmax      9.233    0.322    9.233    3.332    1.000  \n\n[8 rows x 43 columns]"
          },
          "execution_count": 25,
          "metadata": {},
          "output_type": "execute_result"
        }
      ]
    },
    {
      "metadata": {
        "scrolled": true,
        "trusted": false
      },
      "cell_type": "code",
      "source": "df_clean.head(5)",
      "execution_count": 26,
      "outputs": [
        {
          "data": {
            "text/html": "<div>\n<style>\n    .dataframe tbody tr th:only-of-type {\n        vertical-align: middle;\n    }\n\n    .dataframe tbody tr th {\n        vertical-align: top;\n    }\n\n    .dataframe thead th {\n        text-align: right;\n    }\n</style>\n<table class=\"dataframe\">\n  <thead>\n    <tr style=\"text-align: right;\">\n      <th></th>\n      <th>A1</th>\n      <th>A2</th>\n      <th>A3</th>\n      <th>A8</th>\n      <th>A9</th>\n      <th>A10</th>\n      <th>A11</th>\n      <th>A12</th>\n      <th>A14</th>\n      <th>A15</th>\n      <th>...</th>\n      <th>A7_h</th>\n      <th>A7_j</th>\n      <th>A7_n</th>\n      <th>A7_o</th>\n      <th>A7_v</th>\n      <th>A7_z</th>\n      <th>A13_g</th>\n      <th>A13_p</th>\n      <th>A13_s</th>\n      <th>Target</th>\n    </tr>\n  </thead>\n  <tbody>\n    <tr>\n      <th>0</th>\n      <td>0.661</td>\n      <td>0.002</td>\n      <td>-0.957</td>\n      <td>-0.291</td>\n      <td>0.955</td>\n      <td>1.157</td>\n      <td>-0.288</td>\n      <td>-0.919</td>\n      <td>0.107</td>\n      <td>-0.195</td>\n      <td>...</td>\n      <td>-0.5</td>\n      <td>-0.108</td>\n      <td>-0.076</td>\n      <td>-0.054</td>\n      <td>0.831</td>\n      <td>-0.108</td>\n      <td>0.322</td>\n      <td>-0.108</td>\n      <td>-0.300</td>\n      <td>0</td>\n    </tr>\n    <tr>\n      <th>1</th>\n      <td>-1.512</td>\n      <td>1.228</td>\n      <td>-0.060</td>\n      <td>0.244</td>\n      <td>0.955</td>\n      <td>1.157</td>\n      <td>0.741</td>\n      <td>-0.919</td>\n      <td>-0.817</td>\n      <td>-0.088</td>\n      <td>...</td>\n      <td>2.0</td>\n      <td>-0.108</td>\n      <td>-0.076</td>\n      <td>-0.054</td>\n      <td>-1.203</td>\n      <td>-0.108</td>\n      <td>0.322</td>\n      <td>-0.108</td>\n      <td>-0.300</td>\n      <td>0</td>\n    </tr>\n    <tr>\n      <th>2</th>\n      <td>-1.512</td>\n      <td>0.002</td>\n      <td>-0.856</td>\n      <td>-0.216</td>\n      <td>0.955</td>\n      <td>-0.864</td>\n      <td>-0.494</td>\n      <td>-0.919</td>\n      <td>0.560</td>\n      <td>-0.037</td>\n      <td>...</td>\n      <td>2.0</td>\n      <td>-0.108</td>\n      <td>-0.076</td>\n      <td>-0.054</td>\n      <td>-1.203</td>\n      <td>-0.108</td>\n      <td>0.322</td>\n      <td>-0.108</td>\n      <td>-0.300</td>\n      <td>0</td>\n    </tr>\n    <tr>\n      <th>3</th>\n      <td>0.661</td>\n      <td>0.002</td>\n      <td>-0.647</td>\n      <td>0.457</td>\n      <td>0.955</td>\n      <td>1.157</td>\n      <td>0.535</td>\n      <td>1.088</td>\n      <td>-0.486</td>\n      <td>-0.195</td>\n      <td>...</td>\n      <td>-0.5</td>\n      <td>-0.108</td>\n      <td>-0.076</td>\n      <td>-0.054</td>\n      <td>0.831</td>\n      <td>-0.108</td>\n      <td>0.322</td>\n      <td>-0.108</td>\n      <td>-0.300</td>\n      <td>0</td>\n    </tr>\n    <tr>\n      <th>4</th>\n      <td>0.661</td>\n      <td>-1.224</td>\n      <td>0.174</td>\n      <td>-0.154</td>\n      <td>0.955</td>\n      <td>-0.864</td>\n      <td>-0.494</td>\n      <td>-0.919</td>\n      <td>-0.369</td>\n      <td>-0.195</td>\n      <td>...</td>\n      <td>-0.5</td>\n      <td>-0.108</td>\n      <td>-0.076</td>\n      <td>-0.054</td>\n      <td>0.831</td>\n      <td>-0.108</td>\n      <td>-3.101</td>\n      <td>-0.108</td>\n      <td>3.332</td>\n      <td>0</td>\n    </tr>\n  </tbody>\n</table>\n<p>5 rows × 43 columns</p>\n</div>",
            "text/plain": "      A1     A2     A3     A8     A9    A10    A11    A12    A14    A15  \\\n0  0.661  0.002 -0.957 -0.291  0.955  1.157 -0.288 -0.919  0.107 -0.195   \n1 -1.512  1.228 -0.060  0.244  0.955  1.157  0.741 -0.919 -0.817 -0.088   \n2 -1.512  0.002 -0.856 -0.216  0.955 -0.864 -0.494 -0.919  0.560 -0.037   \n3  0.661  0.002 -0.647  0.457  0.955  1.157  0.535  1.088 -0.486 -0.195   \n4  0.661 -1.224  0.174 -0.154  0.955 -0.864 -0.494 -0.919 -0.369 -0.195   \n\n    ...    A7_h   A7_j   A7_n   A7_o   A7_v   A7_z  A13_g  A13_p  A13_s  \\\n0   ...    -0.5 -0.108 -0.076 -0.054  0.831 -0.108  0.322 -0.108 -0.300   \n1   ...     2.0 -0.108 -0.076 -0.054 -1.203 -0.108  0.322 -0.108 -0.300   \n2   ...     2.0 -0.108 -0.076 -0.054 -1.203 -0.108  0.322 -0.108 -0.300   \n3   ...    -0.5 -0.108 -0.076 -0.054  0.831 -0.108  0.322 -0.108 -0.300   \n4   ...    -0.5 -0.108 -0.076 -0.054  0.831 -0.108 -3.101 -0.108  3.332   \n\n   Target  \n0       0  \n1       0  \n2       0  \n3       0  \n4       0  \n\n[5 rows x 43 columns]"
          },
          "execution_count": 26,
          "metadata": {},
          "output_type": "execute_result"
        }
      ]
    },
    {
      "metadata": {},
      "cell_type": "markdown",
      "source": "# Task 2 -K-NN Algorithm Solution from Fundamentals of Machine Learning Chapter 5 - Question 3\n# Using Manhattan Distance"
    },
    {
      "metadata": {
        "trusted": false
      },
      "cell_type": "code",
      "source": "dataq2 = pd.read_csv('Asignment1_Q2.csv',index_col=False) # Importing Chapter 5 Q3 dataset\ndataq2",
      "execution_count": 27,
      "outputs": [
        {
          "data": {
            "text/html": "<div>\n<style>\n    .dataframe tbody tr th:only-of-type {\n        vertical-align: middle;\n    }\n\n    .dataframe tbody tr th {\n        vertical-align: top;\n    }\n\n    .dataframe thead th {\n        text-align: right;\n    }\n</style>\n<table class=\"dataframe\">\n  <thead>\n    <tr style=\"text-align: right;\">\n      <th></th>\n      <th>COUNTRY_ID</th>\n      <th>LIFE_EXP</th>\n      <th>TOP10_INCOME</th>\n      <th>INFANT_MORT</th>\n      <th>MIL_SPEND</th>\n      <th>SCHOOL_YEARS</th>\n      <th>CPI</th>\n    </tr>\n  </thead>\n  <tbody>\n    <tr>\n      <th>0</th>\n      <td>Afghanistan</td>\n      <td>59.61</td>\n      <td>23.21</td>\n      <td>74.3</td>\n      <td>4.44</td>\n      <td>0.4</td>\n      <td>1.5171</td>\n    </tr>\n    <tr>\n      <th>1</th>\n      <td>Haiti</td>\n      <td>45.00</td>\n      <td>47.67</td>\n      <td>73.1</td>\n      <td>0.09</td>\n      <td>3.4</td>\n      <td>1.7999</td>\n    </tr>\n    <tr>\n      <th>2</th>\n      <td>Nigeria</td>\n      <td>51.30</td>\n      <td>38.23</td>\n      <td>82.6</td>\n      <td>1.07</td>\n      <td>4.1</td>\n      <td>2.4493</td>\n    </tr>\n    <tr>\n      <th>3</th>\n      <td>Egypt</td>\n      <td>70.48</td>\n      <td>26.58</td>\n      <td>19.6</td>\n      <td>1.86</td>\n      <td>5.3</td>\n      <td>2.8622</td>\n    </tr>\n    <tr>\n      <th>4</th>\n      <td>Argentina</td>\n      <td>75.77</td>\n      <td>32.30</td>\n      <td>13.3</td>\n      <td>0.76</td>\n      <td>10.1</td>\n      <td>2.9961</td>\n    </tr>\n    <tr>\n      <th>5</th>\n      <td>China</td>\n      <td>74.87</td>\n      <td>29.98</td>\n      <td>13.7</td>\n      <td>1.95</td>\n      <td>6.4</td>\n      <td>3.6356</td>\n    </tr>\n    <tr>\n      <th>6</th>\n      <td>Brazil</td>\n      <td>73.12</td>\n      <td>42.93</td>\n      <td>14.5</td>\n      <td>1.43</td>\n      <td>7.2</td>\n      <td>3.7741</td>\n    </tr>\n    <tr>\n      <th>7</th>\n      <td>Israel</td>\n      <td>81.30</td>\n      <td>28.80</td>\n      <td>3.6</td>\n      <td>6.77</td>\n      <td>12.5</td>\n      <td>5.8069</td>\n    </tr>\n    <tr>\n      <th>8</th>\n      <td>U.S.A</td>\n      <td>78.51</td>\n      <td>29.85</td>\n      <td>6.3</td>\n      <td>4.72</td>\n      <td>13.7</td>\n      <td>7.1357</td>\n    </tr>\n    <tr>\n      <th>9</th>\n      <td>Ireland</td>\n      <td>80.15</td>\n      <td>27.23</td>\n      <td>3.5</td>\n      <td>0.60</td>\n      <td>11.5</td>\n      <td>7.536</td>\n    </tr>\n    <tr>\n      <th>10</th>\n      <td>U.K.</td>\n      <td>80.09</td>\n      <td>28.49</td>\n      <td>4.4</td>\n      <td>2.59</td>\n      <td>13.0</td>\n      <td>7.7751</td>\n    </tr>\n    <tr>\n      <th>11</th>\n      <td>Germany</td>\n      <td>80.24</td>\n      <td>22.07</td>\n      <td>3.5</td>\n      <td>1.31</td>\n      <td>12.0</td>\n      <td>8.0461</td>\n    </tr>\n    <tr>\n      <th>12</th>\n      <td>Canada</td>\n      <td>80.99</td>\n      <td>24.79</td>\n      <td>4.9</td>\n      <td>1.42</td>\n      <td>14.2</td>\n      <td>8.6725</td>\n    </tr>\n    <tr>\n      <th>13</th>\n      <td>Australia</td>\n      <td>82.09</td>\n      <td>25.40</td>\n      <td>4.2</td>\n      <td>1.86</td>\n      <td>11.5</td>\n      <td>8.8442</td>\n    </tr>\n    <tr>\n      <th>14</th>\n      <td>Sweden</td>\n      <td>81.43</td>\n      <td>22.18</td>\n      <td>2.4</td>\n      <td>1.27</td>\n      <td>12.8</td>\n      <td>9.2985</td>\n    </tr>\n    <tr>\n      <th>15</th>\n      <td>New Zealand</td>\n      <td>80.67</td>\n      <td>27.81</td>\n      <td>4.9</td>\n      <td>1.13</td>\n      <td>12.3</td>\n      <td>9.4627</td>\n    </tr>\n    <tr>\n      <th>16</th>\n      <td>Russia</td>\n      <td>67.62</td>\n      <td>31.68</td>\n      <td>10.0</td>\n      <td>3.87</td>\n      <td>12.9</td>\n      <td>?</td>\n    </tr>\n  </tbody>\n</table>\n</div>",
            "text/plain": "     COUNTRY_ID  LIFE_EXP  TOP10_INCOME  INFANT_MORT  MIL_SPEND  SCHOOL_YEARS  \\\n0   Afghanistan     59.61         23.21         74.3       4.44           0.4   \n1         Haiti     45.00         47.67         73.1       0.09           3.4   \n2       Nigeria     51.30         38.23         82.6       1.07           4.1   \n3         Egypt     70.48         26.58         19.6       1.86           5.3   \n4     Argentina     75.77         32.30         13.3       0.76          10.1   \n5         China     74.87         29.98         13.7       1.95           6.4   \n6        Brazil     73.12         42.93         14.5       1.43           7.2   \n7        Israel     81.30         28.80          3.6       6.77          12.5   \n8         U.S.A     78.51         29.85          6.3       4.72          13.7   \n9       Ireland     80.15         27.23          3.5       0.60          11.5   \n10         U.K.     80.09         28.49          4.4       2.59          13.0   \n11      Germany     80.24         22.07          3.5       1.31          12.0   \n12       Canada     80.99         24.79          4.9       1.42          14.2   \n13    Australia     82.09         25.40          4.2       1.86          11.5   \n14       Sweden     81.43         22.18          2.4       1.27          12.8   \n15  New Zealand     80.67         27.81          4.9       1.13          12.3   \n16       Russia     67.62         31.68         10.0       3.87          12.9   \n\n       CPI  \n0   1.5171  \n1   1.7999  \n2   2.4493  \n3   2.8622  \n4   2.9961  \n5   3.6356  \n6   3.7741  \n7   5.8069  \n8   7.1357  \n9    7.536  \n10  7.7751  \n11  8.0461  \n12  8.6725  \n13  8.8442  \n14  9.2985  \n15  9.4627  \n16       ?  "
          },
          "execution_count": 27,
          "metadata": {},
          "output_type": "execute_result"
        }
      ]
    },
    {
      "metadata": {
        "trusted": false
      },
      "cell_type": "code",
      "source": "td =dataq2.iloc[0:16,:] # Subsetting descriptive dataset\ntd.info()",
      "execution_count": 28,
      "outputs": [
        {
          "name": "stdout",
          "output_type": "stream",
          "text": "<class 'pandas.core.frame.DataFrame'>\nRangeIndex: 16 entries, 0 to 15\nData columns (total 7 columns):\nCOUNTRY_ID      16 non-null object\nLIFE_EXP        16 non-null float64\nTOP10_INCOME    16 non-null float64\nINFANT_MORT     16 non-null float64\nMIL_SPEND       16 non-null float64\nSCHOOL_YEARS    16 non-null float64\nCPI             16 non-null object\ndtypes: float64(5), object(2)\nmemory usage: 976.0+ bytes\n"
        }
      ]
    },
    {
      "metadata": {
        "trusted": false
      },
      "cell_type": "code",
      "source": "qd = np.array([67.62, 31.68, 10.00, 3.87, 12.90]) # Creating query dataset to predict target feature 'CPI'",
      "execution_count": 29,
      "outputs": []
    },
    {
      "metadata": {
        "trusted": false
      },
      "cell_type": "code",
      "source": "features = ['LIFE_EXP','TOP10_INCOME','INFANT_MORT','MIL_SPEND','SCHOOL_YEARS']\nManhattan_distance = np.sum(abs(np.array(td[features])-qd), axis=1) # Calculating Manhattan Distance\ntd['Manhattan_distance']= Manhattan_distance # Creating new column\ntd['Manhattan_distance'].head()",
      "execution_count": 30,
      "outputs": [
        {
          "data": {
            "text/plain": "0     93.85\n1    114.99\n2    107.07\n3     27.17\n4     17.98\nName: Manhattan_distance, dtype: float64"
          },
          "execution_count": 30,
          "metadata": {},
          "output_type": "execute_result"
        }
      ]
    },
    {
      "metadata": {
        "trusted": false
      },
      "cell_type": "code",
      "source": "td = td.sort_values(by=['Manhattan_distance']) # Sorting dataset by Manhattan Distance\ntd['Ordered_Manhattan']=range(td.shape[0]) # Creating ranking by smallest distance\ntd.info()",
      "execution_count": 31,
      "outputs": [
        {
          "name": "stdout",
          "output_type": "stream",
          "text": "<class 'pandas.core.frame.DataFrame'>\nInt64Index: 16 entries, 4 to 1\nData columns (total 9 columns):\nCOUNTRY_ID            16 non-null object\nLIFE_EXP              16 non-null float64\nTOP10_INCOME          16 non-null float64\nINFANT_MORT           16 non-null float64\nMIL_SPEND             16 non-null float64\nSCHOOL_YEARS          16 non-null float64\nCPI                   16 non-null object\nManhattan_distance    16 non-null float64\nOrdered_Manhattan     16 non-null int64\ndtypes: float64(6), int64(1), object(2)\nmemory usage: 1.2+ KB\n"
        }
      ]
    },
    {
      "metadata": {
        "trusted": false
      },
      "cell_type": "code",
      "source": "td['CPI'] = pd.to_numeric(td['CPI']); # Converting target feature CPI from Pandas object to float\ntd['CPI'].dtype",
      "execution_count": 32,
      "outputs": [
        {
          "data": {
            "text/plain": "dtype('float64')"
          },
          "execution_count": 32,
          "metadata": {},
          "output_type": "execute_result"
        }
      ]
    },
    {
      "metadata": {},
      "cell_type": "markdown",
      "source": "### a.) Predicted value of CPI for Russia using Manhattan Distance based 3-nearest neighbour prediction model "
    },
    {
      "metadata": {
        "trusted": false
      },
      "cell_type": "code",
      "source": "np.round(np.mean(td.loc[td.Ordered_Manhattan<3,'CPI']),4)",
      "execution_count": 33,
      "outputs": [
        {
          "data": {
            "text/plain": "4.5891"
          },
          "execution_count": 33,
          "metadata": {},
          "output_type": "execute_result"
        }
      ]
    },
    {
      "metadata": {},
      "cell_type": "markdown",
      "source": "### b.) Predicted value of CPI for Russia using weighing reciprocal scheme in K=16 nearest neighbour prediction model"
    },
    {
      "metadata": {
        "trusted": false
      },
      "cell_type": "code",
      "source": "reqweight = 1 / (td['Manhattan_distance'])**2; # Calculating reqweight for each observation\nnp.round(sum(reqweight*td['CPI'])/sum(reqweight),4)",
      "execution_count": 34,
      "outputs": [
        {
          "data": {
            "text/plain": "6.1215"
          },
          "execution_count": 34,
          "metadata": {},
          "output_type": "execute_result"
        }
      ]
    },
    {
      "metadata": {},
      "cell_type": "markdown",
      "source": "### c.) Normalizing descriptive features and calculating target CPI"
    },
    {
      "metadata": {},
      "cell_type": "markdown",
      "source": "### Normalization"
    },
    {
      "metadata": {
        "trusted": false
      },
      "cell_type": "code",
      "source": "norm_td = td\nnorm_qd = qd\nmin_array = []\nmax_array = []\nfor i in features:\n    min_val=min(norm_td[i])\n    \n    max_val=max(norm_td[i])\n    \n    norm_td[i]=(norm_td[i]-min_val)/(max_val-min_val)\n    \n    min_array.append(min_val)\n    \n    max_array.append(max_val)\n    \nnorm_td.head()",
      "execution_count": 35,
      "outputs": [
        {
          "data": {
            "text/html": "<div>\n<style>\n    .dataframe tbody tr th:only-of-type {\n        vertical-align: middle;\n    }\n\n    .dataframe tbody tr th {\n        vertical-align: top;\n    }\n\n    .dataframe thead th {\n        text-align: right;\n    }\n</style>\n<table class=\"dataframe\">\n  <thead>\n    <tr style=\"text-align: right;\">\n      <th></th>\n      <th>COUNTRY_ID</th>\n      <th>LIFE_EXP</th>\n      <th>TOP10_INCOME</th>\n      <th>INFANT_MORT</th>\n      <th>MIL_SPEND</th>\n      <th>SCHOOL_YEARS</th>\n      <th>CPI</th>\n      <th>Manhattan_distance</th>\n      <th>Ordered_Manhattan</th>\n    </tr>\n  </thead>\n  <tbody>\n    <tr>\n      <th>4</th>\n      <td>Argentina</td>\n      <td>0.829604</td>\n      <td>0.399609</td>\n      <td>0.135910</td>\n      <td>0.100299</td>\n      <td>0.702899</td>\n      <td>2.9961</td>\n      <td>17.98</td>\n      <td>0</td>\n    </tr>\n    <tr>\n      <th>8</th>\n      <td>U.S.A</td>\n      <td>0.903478</td>\n      <td>0.303906</td>\n      <td>0.048628</td>\n      <td>0.693114</td>\n      <td>0.963768</td>\n      <td>7.1357</td>\n      <td>18.07</td>\n      <td>1</td>\n    </tr>\n    <tr>\n      <th>5</th>\n      <td>China</td>\n      <td>0.805338</td>\n      <td>0.308984</td>\n      <td>0.140898</td>\n      <td>0.278443</td>\n      <td>0.434783</td>\n      <td>3.6356</td>\n      <td>21.07</td>\n      <td>2</td>\n    </tr>\n    <tr>\n      <th>10</th>\n      <td>U.K.</td>\n      <td>0.946077</td>\n      <td>0.250781</td>\n      <td>0.024938</td>\n      <td>0.374251</td>\n      <td>0.913043</td>\n      <td>7.7751</td>\n      <td>22.64</td>\n      <td>3</td>\n    </tr>\n    <tr>\n      <th>15</th>\n      <td>New Zealand</td>\n      <td>0.961715</td>\n      <td>0.224219</td>\n      <td>0.031172</td>\n      <td>0.155689</td>\n      <td>0.862319</td>\n      <td>9.4627</td>\n      <td>25.36</td>\n      <td>4</td>\n    </tr>\n  </tbody>\n</table>\n</div>",
            "text/plain": "     COUNTRY_ID  LIFE_EXP  TOP10_INCOME  INFANT_MORT  MIL_SPEND  SCHOOL_YEARS  \\\n4     Argentina  0.829604      0.399609     0.135910   0.100299      0.702899   \n8         U.S.A  0.903478      0.303906     0.048628   0.693114      0.963768   \n5         China  0.805338      0.308984     0.140898   0.278443      0.434783   \n10         U.K.  0.946077      0.250781     0.024938   0.374251      0.913043   \n15  New Zealand  0.961715      0.224219     0.031172   0.155689      0.862319   \n\n       CPI  Manhattan_distance  Ordered_Manhattan  \n4   2.9961               17.98                  0  \n8   7.1357               18.07                  1  \n5   3.6356               21.07                  2  \n10  7.7751               22.64                  3  \n15  9.4627               25.36                  4  "
          },
          "execution_count": 35,
          "metadata": {},
          "output_type": "execute_result"
        }
      ]
    },
    {
      "metadata": {},
      "cell_type": "markdown",
      "source": "### Normalizing data"
    },
    {
      "metadata": {
        "trusted": false
      },
      "cell_type": "code",
      "source": "norm_qd = (np.array(qd)-np.array(min_array))/(np.array(max_array)-np.array(min_array))\nnorm_qd",
      "execution_count": 36,
      "outputs": [
        {
          "data": {
            "text/plain": "array([0.60986789, 0.37539062, 0.09476309, 0.56586826, 0.9057971 ])"
          },
          "execution_count": 36,
          "metadata": {},
          "output_type": "execute_result"
        }
      ]
    },
    {
      "metadata": {},
      "cell_type": "markdown",
      "source": "### Manhattan Distance for Normalized Data"
    },
    {
      "metadata": {
        "trusted": false
      },
      "cell_type": "code",
      "source": "norm_distance = np.sum(abs(np.array(norm_td[features])-norm_qd), axis =1) # Calculation manhattan distance\nnorm_td['Manhattan_distance_N'] = norm_distance",
      "execution_count": 37,
      "outputs": []
    },
    {
      "metadata": {},
      "cell_type": "markdown",
      "source": "###  Ordering Normalized Imput based on Manhattan Distance"
    },
    {
      "metadata": {
        "trusted": false
      },
      "cell_type": "code",
      "source": "norm_td=norm_td.sort_values(by=['Manhattan_distance_N'])\nnorm_td['Ordered_Manhattan_N']=range(norm_td.shape[0])\nnorm_td.head()",
      "execution_count": 38,
      "outputs": [
        {
          "data": {
            "text/html": "<div>\n<style>\n    .dataframe tbody tr th:only-of-type {\n        vertical-align: middle;\n    }\n\n    .dataframe tbody tr th {\n        vertical-align: top;\n    }\n\n    .dataframe thead th {\n        text-align: right;\n    }\n</style>\n<table class=\"dataframe\">\n  <thead>\n    <tr style=\"text-align: right;\">\n      <th></th>\n      <th>COUNTRY_ID</th>\n      <th>LIFE_EXP</th>\n      <th>TOP10_INCOME</th>\n      <th>INFANT_MORT</th>\n      <th>MIL_SPEND</th>\n      <th>SCHOOL_YEARS</th>\n      <th>CPI</th>\n      <th>Manhattan_distance</th>\n      <th>Ordered_Manhattan</th>\n      <th>Manhattan_distance_N</th>\n      <th>Ordered_Manhattan_N</th>\n    </tr>\n  </thead>\n  <tbody>\n    <tr>\n      <th>8</th>\n      <td>U.S.A</td>\n      <td>0.903478</td>\n      <td>0.303906</td>\n      <td>0.048628</td>\n      <td>0.693114</td>\n      <td>0.963768</td>\n      <td>7.1357</td>\n      <td>18.07</td>\n      <td>1</td>\n      <td>0.596446</td>\n      <td>0</td>\n    </tr>\n    <tr>\n      <th>10</th>\n      <td>U.K.</td>\n      <td>0.946077</td>\n      <td>0.250781</td>\n      <td>0.024938</td>\n      <td>0.374251</td>\n      <td>0.913043</td>\n      <td>7.7751</td>\n      <td>22.64</td>\n      <td>3</td>\n      <td>0.729507</td>\n      <td>1</td>\n    </tr>\n    <tr>\n      <th>4</th>\n      <td>Argentina</td>\n      <td>0.829604</td>\n      <td>0.399609</td>\n      <td>0.135910</td>\n      <td>0.100299</td>\n      <td>0.702899</td>\n      <td>2.9961</td>\n      <td>17.98</td>\n      <td>0</td>\n      <td>0.953569</td>\n      <td>2</td>\n    </tr>\n    <tr>\n      <th>15</th>\n      <td>New Zealand</td>\n      <td>0.961715</td>\n      <td>0.224219</td>\n      <td>0.031172</td>\n      <td>0.155689</td>\n      <td>0.862319</td>\n      <td>9.4627</td>\n      <td>25.36</td>\n      <td>4</td>\n      <td>1.020268</td>\n      <td>3</td>\n    </tr>\n    <tr>\n      <th>7</th>\n      <td>Israel</td>\n      <td>0.978700</td>\n      <td>0.262891</td>\n      <td>0.014963</td>\n      <td>1.000000</td>\n      <td>0.876812</td>\n      <td>5.8069</td>\n      <td>26.26</td>\n      <td>5</td>\n      <td>1.024250</td>\n      <td>4</td>\n    </tr>\n  </tbody>\n</table>\n</div>",
            "text/plain": "     COUNTRY_ID  LIFE_EXP  TOP10_INCOME  INFANT_MORT  MIL_SPEND  SCHOOL_YEARS  \\\n8         U.S.A  0.903478      0.303906     0.048628   0.693114      0.963768   \n10         U.K.  0.946077      0.250781     0.024938   0.374251      0.913043   \n4     Argentina  0.829604      0.399609     0.135910   0.100299      0.702899   \n15  New Zealand  0.961715      0.224219     0.031172   0.155689      0.862319   \n7        Israel  0.978700      0.262891     0.014963   1.000000      0.876812   \n\n       CPI  Manhattan_distance  Ordered_Manhattan  Manhattan_distance_N  \\\n8   7.1357               18.07                  1              0.596446   \n10  7.7751               22.64                  3              0.729507   \n4   2.9961               17.98                  0              0.953569   \n15  9.4627               25.36                  4              1.020268   \n7   5.8069               26.26                  5              1.024250   \n\n    Ordered_Manhattan_N  \n8                     0  \n10                    1  \n4                     2  \n15                    3  \n7                     4  "
          },
          "execution_count": 38,
          "metadata": {},
          "output_type": "execute_result"
        }
      ]
    },
    {
      "metadata": {},
      "cell_type": "markdown",
      "source": "### Question 3"
    },
    {
      "metadata": {
        "trusted": false
      },
      "cell_type": "code",
      "source": "np.round(np.mean(norm_td.loc[norm_td.Ordered_Manhattan_N<3,'CPI']),4)",
      "execution_count": 39,
      "outputs": [
        {
          "data": {
            "text/plain": "5.969"
          },
          "execution_count": 39,
          "metadata": {},
          "output_type": "execute_result"
        }
      ]
    },
    {
      "metadata": {},
      "cell_type": "markdown",
      "source": "### Question 4"
    },
    {
      "metadata": {
        "scrolled": true,
        "trusted": false
      },
      "cell_type": "code",
      "source": "reqweight_norm = 1 / (norm_td['Manhattan_distance_N'])**2\nnp.round(sum(reqweight_norm*norm_td['CPI'])/sum(reqweight_norm),4)",
      "execution_count": 40,
      "outputs": [
        {
          "data": {
            "text/plain": "6.6091"
          },
          "execution_count": 40,
          "metadata": {},
          "output_type": "execute_result"
        }
      ]
    },
    {
      "metadata": {},
      "cell_type": "markdown",
      "source": "### Question 5 - Best Model selection"
    },
    {
      "metadata": {},
      "cell_type": "markdown",
      "source": "#### Ans: We would select K=3 NN algorithm based on weighting scheme whose predicted value is 5.969.  There are two main reasons. \n#### 1.)  Normalization of descritive features and target feature is necessary to bring all features in same scale as the data rages are varied widely among each other. \n#### 2.) K=3 is chosen as the data is densely population and gives better result and weighted model gives a similar result for this model. Thus, considering computation time and model complexity, it is preferable to chose 3-NN normalized model.\n#### However, we notice that k=3 model without normalization is giving a better result and is closest but just one prediction cannot prove the accuracy and thus more accuraicy measures should be used .  "
    }
  ],
  "metadata": {
    "kernelspec": {
      "name": "python36",
      "display_name": "Python 3.6",
      "language": "python"
    },
    "language_info": {
      "mimetype": "text/x-python",
      "nbconvert_exporter": "python",
      "name": "python",
      "pygments_lexer": "ipython3",
      "version": "3.6.6",
      "file_extension": ".py",
      "codemirror_mode": {
        "version": 3,
        "name": "ipython"
      }
    }
  },
  "nbformat": 4,
  "nbformat_minor": 2
}