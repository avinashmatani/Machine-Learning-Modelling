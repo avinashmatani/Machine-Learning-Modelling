{
 "cells": [
  {
   "cell_type": "markdown",
   "metadata": {},
   "source": [
    "<h1><center><font>Bank Default Problem using Advanced Feature Engineering and Feature Selection</font></center></h1>\n",
    "\n",
    "By -\n",
    "- Avinash Matani\n",
    "\n",
    "# <a>Table of Contents</a>\n",
    "\n",
    "- <a>Introduction</a>  \n",
    "- <a>Import Packages</a>  \n",
    "- <a>Load Dataset</a>  \n",
    "    - <a>Data exploration</a>\n",
    "- <a>Data Preparation for Modelling</a>  \n",
    "    - <a>Outlier Treatment</a> \n",
    "    - <a>Encoding Caterical Features</a>\n",
    "- <a>Feature Engineering</a>  \n",
    "    - <a>Train and Test Split</a> \n",
    "    - <a>Feature Scaling</a>\n",
    "- <a>Data Modelling</a>\n",
    "    - <a>KNN</a>\n",
    "    - <a>Naive Bayes</a>\n",
    "    - <a>Decision Tree</a>\n",
    "    - <a>SVM</a>\n",
    "    - <a>Random Forest</a>\n",
    "- <a>Model Performance Comparison</a>\n",
    "- <a>Limitations</a>\n",
    "- <a>Conclusion</a>\n",
    "- <a>References</a>"
   ]
  },
  {
   "cell_type": "markdown",
   "metadata": {},
   "source": [
    "# <a>Introduction</a>\n",
    "\n",
    "The report is aimed at comparing different classification models to predict whether the credit card customers in Taiwan will default in the next month using a piece of financial information such as credit card statement, customer's credit limit, repayment status etc. The data contained this information is sourced from 1994 UCI Machine Learning Repository and is based on the payment date of October 2005 issued by a major bank in Taiwan. The dataset includes 11 categorical features and 13 numerical features (including customer ID) with about 30,000 observations. The target feature is Default Status of the customers in October 2005 and is categorized into two levels Default and No-Default."
   ]
  },
  {
   "cell_type": "markdown",
   "metadata": {},
   "source": [
    "# Overview\n",
    "\n",
    "The report includes analysis, interpretation, description and performance comparison of five classification models to predict the target feature -\n",
    "\n",
    "* K-Nearest Neighbors (KNN),\n",
    "* Naive Bayes (NB)\n",
    "* Decision trees (DT),\n",
    "* Support Vector Machine (SVM), and\n",
    "* Random Forest Classifier (RFC)\n",
    "\n",
    "The overall report is segmented into five major stages. The first stage is data cleaning during which the features were checked for validity, completeness, consistency, uniqueness, and accuracy of data points. \n",
    "\n",
    "The second stage is data exploration where all the features were explored to seek patterns, characteristics and major points of interest. \n",
    "\n",
    "The third stage is Data Preparation where the data is prepared for specific machine learning algorithms. This involves treating outliers identified during data exploration and encoding categorical features. \n",
    "\n",
    "The fourth stage is feature engineering which is one of the most important steps in data science model building process. This includes the selection of relevant features which makes machine learning algorithm train faster, reduces model complexity, and enhance model accuracy if the appropriate features are chosen. For this application, we have used Random Forest Feature Importance method in sklearn. \n",
    "\n",
    "The fifth stage is comprised of the model building strategy where we will use the cross-validation technique, tune the parameter values, transform dataset as required, compare different models and report the final model selected. "
   ]
  },
  {
   "cell_type": "markdown",
   "metadata": {},
   "source": [
    "## Methodology\n",
    "\n",
    "Our model building strategy is comprised of feature engineering where we will combine the information from a several features to build relevant features aimed at increasing the accuracy. We will then divide the dataset into train (70% of the dataset) and test sets (30% of the data).\n",
    "\n",
    "* 70% i.e. 21,000 observations will be used for training and hyper parameter tuning\n",
    "* 30% i.e. 9,000 observations will be used to test and compare the performance of the models\n",
    "\n",
    "The training and test data set are scaled separately to bring the numerical values in the common scale without compromising the difference among the range of values. The feature selection technique based on Random Forest Importance method is used to select the best features for the models. Further, hyperparameter tuning based on grid search CV method along with the feature selection method is used in the single pipeline to select the combination of best features and parameter of the classifier.\n",
    "\n",
    "We have used stratified cross-validation strategy with 5 folds considering a set of best 5, 10, 20 and all variables from Random Forest Importance to fine-tune the hyperparameters and optimize F1 score of each of the classifiers. Since the target feature contains defaulters and non-defaulters in 20:80 ratio respectively, stratification is necessary to ensure a similar ratio of target features contained in the original dataset. \n",
    "\n",
    "To fasten the parameter tuning process, parallel processing with '-2' cores is used. During the parameter tuning process, each of the classifiers is assessed on the mean f1 score obtained on the test data and models were further fine-tuned to select the best parameter values. \n",
    "\n",
    "While scaling is performed for all the classifiers, power transformation is performed only for the Naive Bayes algorithm. Finally, each of the models obtained is evaluated against the sample test data using 10 fold cross-validation strategy and best estimator obtained from the parameter tuning process. To compare the performance of the models using optimized F1 score, a paired t-test was performed with 0.05% significance level.  "
   ]
  },
  {
   "cell_type": "markdown",
   "metadata": {},
   "source": [
    "# <a>Import Packages</a>\n",
    "\n",
    "The required packages were imported and seed value is selected to ensure reproducibility of the results at a later stage.  "
   ]
  },
  {
   "cell_type": "code",
   "execution_count": 1,
   "metadata": {},
   "outputs": [],
   "source": [
    "\n",
    "import warnings\n",
    "warnings.filterwarnings(\"ignore\") # Turning off the warnings\n",
    "import pandas as pd\n",
    "import matplotlib.pyplot as plt\n",
    "from sklearn.model_selection import train_test_split\n",
    "from sklearn.preprocessing import MinMaxScaler\n",
    "from sklearn.preprocessing import PowerTransformer\n",
    "import altair as alt\n",
    "import seaborn as sns\n",
    "from sklearn.model_selection import StratifiedKFold, GridSearchCV\n",
    "from sklearn.svm import SVC\n",
    "from sklearn.ensemble import RandomForestClassifier\n",
    "from sklearn.base import BaseEstimator, TransformerMixin\n",
    "from IPython.display import display, HTML\n",
    "from sklearn.pipeline import Pipeline\n",
    "from sklearn.neighbors import KNeighborsClassifier\n",
    "from numpy import argsort\n",
    "from sklearn.pipeline import Pipeline\n",
    "from sklearn.naive_bayes import GaussianNB\n",
    "from sklearn.model_selection import RandomizedSearchCV\n",
    "from sklearn.tree import DecisionTreeClassifier\n",
    "from sklearn.metrics import precision_score\n",
    "from sklearn.metrics import recall_score\n",
    "from sklearn.model_selection import cross_val_score\n",
    "from scipy import stats\n",
    "alt.renderers.enable('notebook')\n",
    "pd.set_option('display.max_columns', None)\n",
    "\n",
    "# Setting random states\n",
    "\n",
    "seed_value = 999 \n",
    "\n",
    "import os\n",
    "os.environ['PYTHONHASHSEED']=str(seed_value)\n",
    "\n",
    "import random\n",
    "random.seed(seed_value)\n",
    "\n",
    "import numpy as np\n",
    "np.random.seed(seed_value)"
   ]
  },
  {
   "cell_type": "markdown",
   "metadata": {},
   "source": [
    "# <a>Load Dataset</a>\n",
    "\n",
    "The dataset is loaded from the drectory. "
   ]
  },
  {
   "cell_type": "code",
   "execution_count": 2,
   "metadata": {},
   "outputs": [
    {
     "data": {
      "text/html": [
       "<div>\n",
       "<style scoped>\n",
       "    .dataframe tbody tr th:only-of-type {\n",
       "        vertical-align: middle;\n",
       "    }\n",
       "\n",
       "    .dataframe tbody tr th {\n",
       "        vertical-align: top;\n",
       "    }\n",
       "\n",
       "    .dataframe thead th {\n",
       "        text-align: right;\n",
       "    }\n",
       "</style>\n",
       "<table border=\"1\" class=\"dataframe\">\n",
       "  <thead>\n",
       "    <tr style=\"text-align: right;\">\n",
       "      <th></th>\n",
       "      <th>ID</th>\n",
       "      <th>LIMIT_BAL</th>\n",
       "      <th>SEX</th>\n",
       "      <th>EDUCATION</th>\n",
       "      <th>MARRIAGE</th>\n",
       "      <th>AGE</th>\n",
       "      <th>PAY_0</th>\n",
       "      <th>PAY_2</th>\n",
       "      <th>PAY_3</th>\n",
       "      <th>PAY_4</th>\n",
       "      <th>PAY_5</th>\n",
       "      <th>PAY_6</th>\n",
       "      <th>BILL_AMT1</th>\n",
       "      <th>BILL_AMT2</th>\n",
       "      <th>BILL_AMT3</th>\n",
       "      <th>BILL_AMT4</th>\n",
       "      <th>BILL_AMT5</th>\n",
       "      <th>BILL_AMT6</th>\n",
       "      <th>PAY_AMT1</th>\n",
       "      <th>PAY_AMT2</th>\n",
       "      <th>PAY_AMT3</th>\n",
       "      <th>PAY_AMT4</th>\n",
       "      <th>PAY_AMT5</th>\n",
       "      <th>PAY_AMT6</th>\n",
       "      <th>default payment next month</th>\n",
       "    </tr>\n",
       "  </thead>\n",
       "  <tbody>\n",
       "    <tr>\n",
       "      <th>0</th>\n",
       "      <td>1</td>\n",
       "      <td>20000</td>\n",
       "      <td>2</td>\n",
       "      <td>2</td>\n",
       "      <td>1</td>\n",
       "      <td>24</td>\n",
       "      <td>2</td>\n",
       "      <td>2</td>\n",
       "      <td>-1</td>\n",
       "      <td>-1</td>\n",
       "      <td>-2</td>\n",
       "      <td>-2</td>\n",
       "      <td>3913</td>\n",
       "      <td>3102</td>\n",
       "      <td>689</td>\n",
       "      <td>0</td>\n",
       "      <td>0</td>\n",
       "      <td>0</td>\n",
       "      <td>0</td>\n",
       "      <td>689</td>\n",
       "      <td>0</td>\n",
       "      <td>0</td>\n",
       "      <td>0</td>\n",
       "      <td>0</td>\n",
       "      <td>1</td>\n",
       "    </tr>\n",
       "    <tr>\n",
       "      <th>1</th>\n",
       "      <td>2</td>\n",
       "      <td>120000</td>\n",
       "      <td>2</td>\n",
       "      <td>2</td>\n",
       "      <td>2</td>\n",
       "      <td>26</td>\n",
       "      <td>-1</td>\n",
       "      <td>2</td>\n",
       "      <td>0</td>\n",
       "      <td>0</td>\n",
       "      <td>0</td>\n",
       "      <td>2</td>\n",
       "      <td>2682</td>\n",
       "      <td>1725</td>\n",
       "      <td>2682</td>\n",
       "      <td>3272</td>\n",
       "      <td>3455</td>\n",
       "      <td>3261</td>\n",
       "      <td>0</td>\n",
       "      <td>1000</td>\n",
       "      <td>1000</td>\n",
       "      <td>1000</td>\n",
       "      <td>0</td>\n",
       "      <td>2000</td>\n",
       "      <td>1</td>\n",
       "    </tr>\n",
       "    <tr>\n",
       "      <th>2</th>\n",
       "      <td>3</td>\n",
       "      <td>90000</td>\n",
       "      <td>2</td>\n",
       "      <td>2</td>\n",
       "      <td>2</td>\n",
       "      <td>34</td>\n",
       "      <td>0</td>\n",
       "      <td>0</td>\n",
       "      <td>0</td>\n",
       "      <td>0</td>\n",
       "      <td>0</td>\n",
       "      <td>0</td>\n",
       "      <td>29239</td>\n",
       "      <td>14027</td>\n",
       "      <td>13559</td>\n",
       "      <td>14331</td>\n",
       "      <td>14948</td>\n",
       "      <td>15549</td>\n",
       "      <td>1518</td>\n",
       "      <td>1500</td>\n",
       "      <td>1000</td>\n",
       "      <td>1000</td>\n",
       "      <td>1000</td>\n",
       "      <td>5000</td>\n",
       "      <td>0</td>\n",
       "    </tr>\n",
       "    <tr>\n",
       "      <th>3</th>\n",
       "      <td>4</td>\n",
       "      <td>50000</td>\n",
       "      <td>2</td>\n",
       "      <td>2</td>\n",
       "      <td>1</td>\n",
       "      <td>37</td>\n",
       "      <td>0</td>\n",
       "      <td>0</td>\n",
       "      <td>0</td>\n",
       "      <td>0</td>\n",
       "      <td>0</td>\n",
       "      <td>0</td>\n",
       "      <td>46990</td>\n",
       "      <td>48233</td>\n",
       "      <td>49291</td>\n",
       "      <td>28314</td>\n",
       "      <td>28959</td>\n",
       "      <td>29547</td>\n",
       "      <td>2000</td>\n",
       "      <td>2019</td>\n",
       "      <td>1200</td>\n",
       "      <td>1100</td>\n",
       "      <td>1069</td>\n",
       "      <td>1000</td>\n",
       "      <td>0</td>\n",
       "    </tr>\n",
       "    <tr>\n",
       "      <th>4</th>\n",
       "      <td>5</td>\n",
       "      <td>50000</td>\n",
       "      <td>1</td>\n",
       "      <td>2</td>\n",
       "      <td>1</td>\n",
       "      <td>57</td>\n",
       "      <td>-1</td>\n",
       "      <td>0</td>\n",
       "      <td>-1</td>\n",
       "      <td>0</td>\n",
       "      <td>0</td>\n",
       "      <td>0</td>\n",
       "      <td>8617</td>\n",
       "      <td>5670</td>\n",
       "      <td>35835</td>\n",
       "      <td>20940</td>\n",
       "      <td>19146</td>\n",
       "      <td>19131</td>\n",
       "      <td>2000</td>\n",
       "      <td>36681</td>\n",
       "      <td>10000</td>\n",
       "      <td>9000</td>\n",
       "      <td>689</td>\n",
       "      <td>679</td>\n",
       "      <td>0</td>\n",
       "    </tr>\n",
       "  </tbody>\n",
       "</table>\n",
       "</div>"
      ],
      "text/plain": [
       "   ID  LIMIT_BAL  SEX  EDUCATION  MARRIAGE  AGE  PAY_0  PAY_2  PAY_3  PAY_4  \\\n",
       "0   1      20000    2          2         1   24      2      2     -1     -1   \n",
       "1   2     120000    2          2         2   26     -1      2      0      0   \n",
       "2   3      90000    2          2         2   34      0      0      0      0   \n",
       "3   4      50000    2          2         1   37      0      0      0      0   \n",
       "4   5      50000    1          2         1   57     -1      0     -1      0   \n",
       "\n",
       "   PAY_5  PAY_6  BILL_AMT1  BILL_AMT2  BILL_AMT3  BILL_AMT4  BILL_AMT5  \\\n",
       "0     -2     -2       3913       3102        689          0          0   \n",
       "1      0      2       2682       1725       2682       3272       3455   \n",
       "2      0      0      29239      14027      13559      14331      14948   \n",
       "3      0      0      46990      48233      49291      28314      28959   \n",
       "4      0      0       8617       5670      35835      20940      19146   \n",
       "\n",
       "   BILL_AMT6  PAY_AMT1  PAY_AMT2  PAY_AMT3  PAY_AMT4  PAY_AMT5  PAY_AMT6  \\\n",
       "0          0         0       689         0         0         0         0   \n",
       "1       3261         0      1000      1000      1000         0      2000   \n",
       "2      15549      1518      1500      1000      1000      1000      5000   \n",
       "3      29547      2000      2019      1200      1100      1069      1000   \n",
       "4      19131      2000     36681     10000      9000       689       679   \n",
       "\n",
       "   default payment next month  \n",
       "0                           1  \n",
       "1                           1  \n",
       "2                           0  \n",
       "3                           0  \n",
       "4                           0  "
      ]
     },
     "execution_count": 2,
     "metadata": {},
     "output_type": "execute_result"
    }
   ],
   "source": [
    "dataset = 'credit_default.csv'\n",
    "src_df = pd.read_csv(dataset, header = 1)\n",
    "\n",
    "src_df.reset_index(drop=True,inplace=True)\n",
    "src_df.head(5)"
   ]
  },
  {
   "cell_type": "markdown",
   "metadata": {},
   "source": [
    "## <a>Data Review</a>\n",
    "\n",
    "We start by looking at the dimensions of the dataset."
   ]
  },
  {
   "cell_type": "code",
   "execution_count": 3,
   "metadata": {},
   "outputs": [
    {
     "data": {
      "text/plain": [
       "(30000, 25)"
      ]
     },
     "execution_count": 3,
     "metadata": {},
     "output_type": "execute_result"
    }
   ],
   "source": [
    "src_df.shape"
   ]
  },
  {
   "cell_type": "markdown",
   "metadata": {},
   "source": [
    "The dataset is comprised of 30000 observations and 24 descriptive features with 'default payment next month' as the target feature. "
   ]
  },
  {
   "cell_type": "markdown",
   "metadata": {},
   "source": [
    "# <a>Data Cleaning</a>"
   ]
  },
  {
   "cell_type": "markdown",
   "metadata": {},
   "source": [
    "### Removing Unecessary Columns\n",
    "\n",
    "Columns with unique values in the dataset such as ID are removed as they possess no variation as a predictor variable and are therefore useless for modelling purpose. "
   ]
  },
  {
   "cell_type": "code",
   "execution_count": 4,
   "metadata": {
    "scrolled": true
   },
   "outputs": [
    {
     "data": {
      "text/html": [
       "<div>\n",
       "<style scoped>\n",
       "    .dataframe tbody tr th:only-of-type {\n",
       "        vertical-align: middle;\n",
       "    }\n",
       "\n",
       "    .dataframe tbody tr th {\n",
       "        vertical-align: top;\n",
       "    }\n",
       "\n",
       "    .dataframe thead th {\n",
       "        text-align: right;\n",
       "    }\n",
       "</style>\n",
       "<table border=\"1\" class=\"dataframe\">\n",
       "  <thead>\n",
       "    <tr style=\"text-align: right;\">\n",
       "      <th></th>\n",
       "      <th>LIMIT_BAL</th>\n",
       "      <th>SEX</th>\n",
       "      <th>EDUCATION</th>\n",
       "      <th>MARRIAGE</th>\n",
       "      <th>AGE</th>\n",
       "      <th>PAY_0</th>\n",
       "      <th>PAY_2</th>\n",
       "      <th>PAY_3</th>\n",
       "      <th>PAY_4</th>\n",
       "      <th>PAY_5</th>\n",
       "      <th>PAY_6</th>\n",
       "      <th>BILL_AMT1</th>\n",
       "      <th>BILL_AMT2</th>\n",
       "      <th>BILL_AMT3</th>\n",
       "      <th>BILL_AMT4</th>\n",
       "      <th>BILL_AMT5</th>\n",
       "      <th>BILL_AMT6</th>\n",
       "      <th>PAY_AMT1</th>\n",
       "      <th>PAY_AMT2</th>\n",
       "      <th>PAY_AMT3</th>\n",
       "      <th>PAY_AMT4</th>\n",
       "      <th>PAY_AMT5</th>\n",
       "      <th>PAY_AMT6</th>\n",
       "      <th>default payment next month</th>\n",
       "    </tr>\n",
       "  </thead>\n",
       "  <tbody>\n",
       "    <tr>\n",
       "      <th>0</th>\n",
       "      <td>20000</td>\n",
       "      <td>2</td>\n",
       "      <td>2</td>\n",
       "      <td>1</td>\n",
       "      <td>24</td>\n",
       "      <td>2</td>\n",
       "      <td>2</td>\n",
       "      <td>-1</td>\n",
       "      <td>-1</td>\n",
       "      <td>-2</td>\n",
       "      <td>-2</td>\n",
       "      <td>3913</td>\n",
       "      <td>3102</td>\n",
       "      <td>689</td>\n",
       "      <td>0</td>\n",
       "      <td>0</td>\n",
       "      <td>0</td>\n",
       "      <td>0</td>\n",
       "      <td>689</td>\n",
       "      <td>0</td>\n",
       "      <td>0</td>\n",
       "      <td>0</td>\n",
       "      <td>0</td>\n",
       "      <td>1</td>\n",
       "    </tr>\n",
       "    <tr>\n",
       "      <th>1</th>\n",
       "      <td>120000</td>\n",
       "      <td>2</td>\n",
       "      <td>2</td>\n",
       "      <td>2</td>\n",
       "      <td>26</td>\n",
       "      <td>-1</td>\n",
       "      <td>2</td>\n",
       "      <td>0</td>\n",
       "      <td>0</td>\n",
       "      <td>0</td>\n",
       "      <td>2</td>\n",
       "      <td>2682</td>\n",
       "      <td>1725</td>\n",
       "      <td>2682</td>\n",
       "      <td>3272</td>\n",
       "      <td>3455</td>\n",
       "      <td>3261</td>\n",
       "      <td>0</td>\n",
       "      <td>1000</td>\n",
       "      <td>1000</td>\n",
       "      <td>1000</td>\n",
       "      <td>0</td>\n",
       "      <td>2000</td>\n",
       "      <td>1</td>\n",
       "    </tr>\n",
       "    <tr>\n",
       "      <th>2</th>\n",
       "      <td>90000</td>\n",
       "      <td>2</td>\n",
       "      <td>2</td>\n",
       "      <td>2</td>\n",
       "      <td>34</td>\n",
       "      <td>0</td>\n",
       "      <td>0</td>\n",
       "      <td>0</td>\n",
       "      <td>0</td>\n",
       "      <td>0</td>\n",
       "      <td>0</td>\n",
       "      <td>29239</td>\n",
       "      <td>14027</td>\n",
       "      <td>13559</td>\n",
       "      <td>14331</td>\n",
       "      <td>14948</td>\n",
       "      <td>15549</td>\n",
       "      <td>1518</td>\n",
       "      <td>1500</td>\n",
       "      <td>1000</td>\n",
       "      <td>1000</td>\n",
       "      <td>1000</td>\n",
       "      <td>5000</td>\n",
       "      <td>0</td>\n",
       "    </tr>\n",
       "    <tr>\n",
       "      <th>3</th>\n",
       "      <td>50000</td>\n",
       "      <td>2</td>\n",
       "      <td>2</td>\n",
       "      <td>1</td>\n",
       "      <td>37</td>\n",
       "      <td>0</td>\n",
       "      <td>0</td>\n",
       "      <td>0</td>\n",
       "      <td>0</td>\n",
       "      <td>0</td>\n",
       "      <td>0</td>\n",
       "      <td>46990</td>\n",
       "      <td>48233</td>\n",
       "      <td>49291</td>\n",
       "      <td>28314</td>\n",
       "      <td>28959</td>\n",
       "      <td>29547</td>\n",
       "      <td>2000</td>\n",
       "      <td>2019</td>\n",
       "      <td>1200</td>\n",
       "      <td>1100</td>\n",
       "      <td>1069</td>\n",
       "      <td>1000</td>\n",
       "      <td>0</td>\n",
       "    </tr>\n",
       "    <tr>\n",
       "      <th>4</th>\n",
       "      <td>50000</td>\n",
       "      <td>1</td>\n",
       "      <td>2</td>\n",
       "      <td>1</td>\n",
       "      <td>57</td>\n",
       "      <td>-1</td>\n",
       "      <td>0</td>\n",
       "      <td>-1</td>\n",
       "      <td>0</td>\n",
       "      <td>0</td>\n",
       "      <td>0</td>\n",
       "      <td>8617</td>\n",
       "      <td>5670</td>\n",
       "      <td>35835</td>\n",
       "      <td>20940</td>\n",
       "      <td>19146</td>\n",
       "      <td>19131</td>\n",
       "      <td>2000</td>\n",
       "      <td>36681</td>\n",
       "      <td>10000</td>\n",
       "      <td>9000</td>\n",
       "      <td>689</td>\n",
       "      <td>679</td>\n",
       "      <td>0</td>\n",
       "    </tr>\n",
       "  </tbody>\n",
       "</table>\n",
       "</div>"
      ],
      "text/plain": [
       "   LIMIT_BAL  SEX  EDUCATION  MARRIAGE  AGE  PAY_0  PAY_2  PAY_3  PAY_4  \\\n",
       "0      20000    2          2         1   24      2      2     -1     -1   \n",
       "1     120000    2          2         2   26     -1      2      0      0   \n",
       "2      90000    2          2         2   34      0      0      0      0   \n",
       "3      50000    2          2         1   37      0      0      0      0   \n",
       "4      50000    1          2         1   57     -1      0     -1      0   \n",
       "\n",
       "   PAY_5  PAY_6  BILL_AMT1  BILL_AMT2  BILL_AMT3  BILL_AMT4  BILL_AMT5  \\\n",
       "0     -2     -2       3913       3102        689          0          0   \n",
       "1      0      2       2682       1725       2682       3272       3455   \n",
       "2      0      0      29239      14027      13559      14331      14948   \n",
       "3      0      0      46990      48233      49291      28314      28959   \n",
       "4      0      0       8617       5670      35835      20940      19146   \n",
       "\n",
       "   BILL_AMT6  PAY_AMT1  PAY_AMT2  PAY_AMT3  PAY_AMT4  PAY_AMT5  PAY_AMT6  \\\n",
       "0          0         0       689         0         0         0         0   \n",
       "1       3261         0      1000      1000      1000         0      2000   \n",
       "2      15549      1518      1500      1000      1000      1000      5000   \n",
       "3      29547      2000      2019      1200      1100      1069      1000   \n",
       "4      19131      2000     36681     10000      9000       689       679   \n",
       "\n",
       "   default payment next month  \n",
       "0                           1  \n",
       "1                           1  \n",
       "2                           0  \n",
       "3                           0  \n",
       "4                           0  "
      ]
     },
     "execution_count": 4,
     "metadata": {},
     "output_type": "execute_result"
    }
   ],
   "source": [
    "# Removing unncecessary columns\n",
    "df= src_df.drop(\"ID\",axis=1)\n",
    "df.head(5)"
   ]
  },
  {
   "cell_type": "markdown",
   "metadata": {},
   "source": [
    "## <a>Rename Columns</a>\n",
    "\n",
    "The columns names are renamed to make columns more intutive."
   ]
  },
  {
   "cell_type": "code",
   "execution_count": 5,
   "metadata": {
    "scrolled": false
   },
   "outputs": [
    {
     "data": {
      "text/html": [
       "<div>\n",
       "<style scoped>\n",
       "    .dataframe tbody tr th:only-of-type {\n",
       "        vertical-align: middle;\n",
       "    }\n",
       "\n",
       "    .dataframe tbody tr th {\n",
       "        vertical-align: top;\n",
       "    }\n",
       "\n",
       "    .dataframe thead th {\n",
       "        text-align: right;\n",
       "    }\n",
       "</style>\n",
       "<table border=\"1\" class=\"dataframe\">\n",
       "  <thead>\n",
       "    <tr style=\"text-align: right;\">\n",
       "      <th></th>\n",
       "      <th>LIMIT_BAL</th>\n",
       "      <th>SEX</th>\n",
       "      <th>EDUCATION</th>\n",
       "      <th>MARRIAGE</th>\n",
       "      <th>AGE</th>\n",
       "      <th>PAY_0</th>\n",
       "      <th>PAY_2</th>\n",
       "      <th>PAY_3</th>\n",
       "      <th>PAY_4</th>\n",
       "      <th>PAY_5</th>\n",
       "      <th>PAY_6</th>\n",
       "      <th>BILL_AMT1</th>\n",
       "      <th>BILL_AMT2</th>\n",
       "      <th>BILL_AMT3</th>\n",
       "      <th>BILL_AMT4</th>\n",
       "      <th>BILL_AMT5</th>\n",
       "      <th>BILL_AMT6</th>\n",
       "      <th>PAY_AMT1</th>\n",
       "      <th>PAY_AMT2</th>\n",
       "      <th>PAY_AMT3</th>\n",
       "      <th>PAY_AMT4</th>\n",
       "      <th>PAY_AMT5</th>\n",
       "      <th>PAY_AMT6</th>\n",
       "      <th>nxt_mnth_default</th>\n",
       "    </tr>\n",
       "  </thead>\n",
       "  <tbody>\n",
       "    <tr>\n",
       "      <th>0</th>\n",
       "      <td>20000</td>\n",
       "      <td>2</td>\n",
       "      <td>2</td>\n",
       "      <td>1</td>\n",
       "      <td>24</td>\n",
       "      <td>2</td>\n",
       "      <td>2</td>\n",
       "      <td>-1</td>\n",
       "      <td>-1</td>\n",
       "      <td>-2</td>\n",
       "      <td>-2</td>\n",
       "      <td>3913</td>\n",
       "      <td>3102</td>\n",
       "      <td>689</td>\n",
       "      <td>0</td>\n",
       "      <td>0</td>\n",
       "      <td>0</td>\n",
       "      <td>0</td>\n",
       "      <td>689</td>\n",
       "      <td>0</td>\n",
       "      <td>0</td>\n",
       "      <td>0</td>\n",
       "      <td>0</td>\n",
       "      <td>1</td>\n",
       "    </tr>\n",
       "    <tr>\n",
       "      <th>1</th>\n",
       "      <td>120000</td>\n",
       "      <td>2</td>\n",
       "      <td>2</td>\n",
       "      <td>2</td>\n",
       "      <td>26</td>\n",
       "      <td>-1</td>\n",
       "      <td>2</td>\n",
       "      <td>0</td>\n",
       "      <td>0</td>\n",
       "      <td>0</td>\n",
       "      <td>2</td>\n",
       "      <td>2682</td>\n",
       "      <td>1725</td>\n",
       "      <td>2682</td>\n",
       "      <td>3272</td>\n",
       "      <td>3455</td>\n",
       "      <td>3261</td>\n",
       "      <td>0</td>\n",
       "      <td>1000</td>\n",
       "      <td>1000</td>\n",
       "      <td>1000</td>\n",
       "      <td>0</td>\n",
       "      <td>2000</td>\n",
       "      <td>1</td>\n",
       "    </tr>\n",
       "    <tr>\n",
       "      <th>2</th>\n",
       "      <td>90000</td>\n",
       "      <td>2</td>\n",
       "      <td>2</td>\n",
       "      <td>2</td>\n",
       "      <td>34</td>\n",
       "      <td>0</td>\n",
       "      <td>0</td>\n",
       "      <td>0</td>\n",
       "      <td>0</td>\n",
       "      <td>0</td>\n",
       "      <td>0</td>\n",
       "      <td>29239</td>\n",
       "      <td>14027</td>\n",
       "      <td>13559</td>\n",
       "      <td>14331</td>\n",
       "      <td>14948</td>\n",
       "      <td>15549</td>\n",
       "      <td>1518</td>\n",
       "      <td>1500</td>\n",
       "      <td>1000</td>\n",
       "      <td>1000</td>\n",
       "      <td>1000</td>\n",
       "      <td>5000</td>\n",
       "      <td>0</td>\n",
       "    </tr>\n",
       "    <tr>\n",
       "      <th>3</th>\n",
       "      <td>50000</td>\n",
       "      <td>2</td>\n",
       "      <td>2</td>\n",
       "      <td>1</td>\n",
       "      <td>37</td>\n",
       "      <td>0</td>\n",
       "      <td>0</td>\n",
       "      <td>0</td>\n",
       "      <td>0</td>\n",
       "      <td>0</td>\n",
       "      <td>0</td>\n",
       "      <td>46990</td>\n",
       "      <td>48233</td>\n",
       "      <td>49291</td>\n",
       "      <td>28314</td>\n",
       "      <td>28959</td>\n",
       "      <td>29547</td>\n",
       "      <td>2000</td>\n",
       "      <td>2019</td>\n",
       "      <td>1200</td>\n",
       "      <td>1100</td>\n",
       "      <td>1069</td>\n",
       "      <td>1000</td>\n",
       "      <td>0</td>\n",
       "    </tr>\n",
       "    <tr>\n",
       "      <th>4</th>\n",
       "      <td>50000</td>\n",
       "      <td>1</td>\n",
       "      <td>2</td>\n",
       "      <td>1</td>\n",
       "      <td>57</td>\n",
       "      <td>-1</td>\n",
       "      <td>0</td>\n",
       "      <td>-1</td>\n",
       "      <td>0</td>\n",
       "      <td>0</td>\n",
       "      <td>0</td>\n",
       "      <td>8617</td>\n",
       "      <td>5670</td>\n",
       "      <td>35835</td>\n",
       "      <td>20940</td>\n",
       "      <td>19146</td>\n",
       "      <td>19131</td>\n",
       "      <td>2000</td>\n",
       "      <td>36681</td>\n",
       "      <td>10000</td>\n",
       "      <td>9000</td>\n",
       "      <td>689</td>\n",
       "      <td>679</td>\n",
       "      <td>0</td>\n",
       "    </tr>\n",
       "  </tbody>\n",
       "</table>\n",
       "</div>"
      ],
      "text/plain": [
       "   LIMIT_BAL  SEX  EDUCATION  MARRIAGE  AGE  PAY_0  PAY_2  PAY_3  PAY_4  \\\n",
       "0      20000    2          2         1   24      2      2     -1     -1   \n",
       "1     120000    2          2         2   26     -1      2      0      0   \n",
       "2      90000    2          2         2   34      0      0      0      0   \n",
       "3      50000    2          2         1   37      0      0      0      0   \n",
       "4      50000    1          2         1   57     -1      0     -1      0   \n",
       "\n",
       "   PAY_5  PAY_6  BILL_AMT1  BILL_AMT2  BILL_AMT3  BILL_AMT4  BILL_AMT5  \\\n",
       "0     -2     -2       3913       3102        689          0          0   \n",
       "1      0      2       2682       1725       2682       3272       3455   \n",
       "2      0      0      29239      14027      13559      14331      14948   \n",
       "3      0      0      46990      48233      49291      28314      28959   \n",
       "4      0      0       8617       5670      35835      20940      19146   \n",
       "\n",
       "   BILL_AMT6  PAY_AMT1  PAY_AMT2  PAY_AMT3  PAY_AMT4  PAY_AMT5  PAY_AMT6  \\\n",
       "0          0         0       689         0         0         0         0   \n",
       "1       3261         0      1000      1000      1000         0      2000   \n",
       "2      15549      1518      1500      1000      1000      1000      5000   \n",
       "3      29547      2000      2019      1200      1100      1069      1000   \n",
       "4      19131      2000     36681     10000      9000       689       679   \n",
       "\n",
       "   nxt_mnth_default  \n",
       "0                 1  \n",
       "1                 1  \n",
       "2                 0  \n",
       "3                 0  \n",
       "4                 0  "
      ]
     },
     "execution_count": 5,
     "metadata": {},
     "output_type": "execute_result"
    }
   ],
   "source": [
    "df = df.rename(columns={'default payment next month': 'nxt_mnth_default'})\n",
    "df.head(5)"
   ]
  },
  {
   "cell_type": "markdown",
   "metadata": {},
   "source": [
    "## <a>Check data types</a>\n",
    "\n",
    "The datatypes are checked against the data description file."
   ]
  },
  {
   "cell_type": "code",
   "execution_count": 6,
   "metadata": {
    "scrolled": true
   },
   "outputs": [
    {
     "name": "stdout",
     "output_type": "stream",
     "text": [
      "Shape of the dataset is (30000, 24) \n",
      "\n",
      "Data types are below where 'object' indicates a string type: \n",
      "LIMIT_BAL           int64\n",
      "SEX                 int64\n",
      "EDUCATION           int64\n",
      "MARRIAGE            int64\n",
      "AGE                 int64\n",
      "PAY_0               int64\n",
      "PAY_2               int64\n",
      "PAY_3               int64\n",
      "PAY_4               int64\n",
      "PAY_5               int64\n",
      "PAY_6               int64\n",
      "BILL_AMT1           int64\n",
      "BILL_AMT2           int64\n",
      "BILL_AMT3           int64\n",
      "BILL_AMT4           int64\n",
      "BILL_AMT5           int64\n",
      "BILL_AMT6           int64\n",
      "PAY_AMT1            int64\n",
      "PAY_AMT2            int64\n",
      "PAY_AMT3            int64\n",
      "PAY_AMT4            int64\n",
      "PAY_AMT5            int64\n",
      "PAY_AMT6            int64\n",
      "nxt_mnth_default    int64\n",
      "dtype: object\n"
     ]
    }
   ],
   "source": [
    "print(f\"Shape of the dataset is {df.shape} \\n\")\n",
    "print(f\"Data types are below where 'object' indicates a string type: \")\n",
    "print(df.dtypes)"
   ]
  },
  {
   "cell_type": "markdown",
   "metadata": {},
   "source": [
    "## <a>Check Missing Values</a>\n"
   ]
  },
  {
   "cell_type": "code",
   "execution_count": 7,
   "metadata": {
    "scrolled": true
   },
   "outputs": [
    {
     "name": "stdout",
     "output_type": "stream",
     "text": [
      "\n",
      "Number of missing values for each feature:\n",
      "LIMIT_BAL           0\n",
      "SEX                 0\n",
      "EDUCATION           0\n",
      "MARRIAGE            0\n",
      "AGE                 0\n",
      "PAY_0               0\n",
      "PAY_2               0\n",
      "PAY_3               0\n",
      "PAY_4               0\n",
      "PAY_5               0\n",
      "PAY_6               0\n",
      "BILL_AMT1           0\n",
      "BILL_AMT2           0\n",
      "BILL_AMT3           0\n",
      "BILL_AMT4           0\n",
      "BILL_AMT5           0\n",
      "BILL_AMT6           0\n",
      "PAY_AMT1            0\n",
      "PAY_AMT2            0\n",
      "PAY_AMT3            0\n",
      "PAY_AMT4            0\n",
      "PAY_AMT5            0\n",
      "PAY_AMT6            0\n",
      "nxt_mnth_default    0\n",
      "dtype: int64\n"
     ]
    }
   ],
   "source": [
    "print(f\"\\nNumber of missing values for each feature:\")\n",
    "print(df.isnull().sum())"
   ]
  },
  {
   "cell_type": "markdown",
   "metadata": {},
   "source": [
    "The dataset has no missing values ."
   ]
  },
  {
   "cell_type": "markdown",
   "metadata": {},
   "source": [
    "## <a>Check data summary</a>"
   ]
  },
  {
   "cell_type": "markdown",
   "metadata": {},
   "source": [
    "This section is comprised of checking summary of the data before the analysis to better understand the categorical and continuous features in the dataset."
   ]
  },
  {
   "cell_type": "markdown",
   "metadata": {},
   "source": [
    "### Continuous Features"
   ]
  },
  {
   "cell_type": "code",
   "execution_count": 8,
   "metadata": {
    "scrolled": true
   },
   "outputs": [
    {
     "data": {
      "text/html": [
       "<b>Table 1: Summary of continuous features</b>"
      ],
      "text/plain": [
       "<IPython.core.display.HTML object>"
      ]
     },
     "metadata": {},
     "output_type": "display_data"
    },
    {
     "data": {
      "text/html": [
       "<div>\n",
       "<style scoped>\n",
       "    .dataframe tbody tr th:only-of-type {\n",
       "        vertical-align: middle;\n",
       "    }\n",
       "\n",
       "    .dataframe tbody tr th {\n",
       "        vertical-align: top;\n",
       "    }\n",
       "\n",
       "    .dataframe thead th {\n",
       "        text-align: right;\n",
       "    }\n",
       "</style>\n",
       "<table border=\"1\" class=\"dataframe\">\n",
       "  <thead>\n",
       "    <tr style=\"text-align: right;\">\n",
       "      <th></th>\n",
       "      <th>LIMIT_BAL</th>\n",
       "      <th>SEX</th>\n",
       "      <th>EDUCATION</th>\n",
       "      <th>MARRIAGE</th>\n",
       "      <th>AGE</th>\n",
       "      <th>PAY_0</th>\n",
       "      <th>PAY_2</th>\n",
       "      <th>PAY_3</th>\n",
       "      <th>PAY_4</th>\n",
       "      <th>PAY_5</th>\n",
       "      <th>PAY_6</th>\n",
       "      <th>BILL_AMT1</th>\n",
       "      <th>BILL_AMT2</th>\n",
       "      <th>BILL_AMT3</th>\n",
       "      <th>BILL_AMT4</th>\n",
       "      <th>BILL_AMT5</th>\n",
       "      <th>BILL_AMT6</th>\n",
       "      <th>PAY_AMT1</th>\n",
       "      <th>PAY_AMT2</th>\n",
       "      <th>PAY_AMT3</th>\n",
       "      <th>PAY_AMT4</th>\n",
       "      <th>PAY_AMT5</th>\n",
       "      <th>PAY_AMT6</th>\n",
       "      <th>nxt_mnth_default</th>\n",
       "    </tr>\n",
       "  </thead>\n",
       "  <tbody>\n",
       "    <tr>\n",
       "      <th>count</th>\n",
       "      <td>30000.000</td>\n",
       "      <td>30000.000</td>\n",
       "      <td>30000.000</td>\n",
       "      <td>30000.000</td>\n",
       "      <td>30000.000</td>\n",
       "      <td>30000.000</td>\n",
       "      <td>30000.000</td>\n",
       "      <td>30000.000</td>\n",
       "      <td>30000.000</td>\n",
       "      <td>30000.000</td>\n",
       "      <td>30000.000</td>\n",
       "      <td>30000.000</td>\n",
       "      <td>30000.000</td>\n",
       "      <td>30000.000</td>\n",
       "      <td>30000.000</td>\n",
       "      <td>30000.000</td>\n",
       "      <td>30000.000</td>\n",
       "      <td>30000.00</td>\n",
       "      <td>30000.000</td>\n",
       "      <td>30000.000</td>\n",
       "      <td>30000.000</td>\n",
       "      <td>30000.000</td>\n",
       "      <td>30000.000</td>\n",
       "      <td>30000.000</td>\n",
       "    </tr>\n",
       "    <tr>\n",
       "      <th>mean</th>\n",
       "      <td>167484.323</td>\n",
       "      <td>1.604</td>\n",
       "      <td>1.853</td>\n",
       "      <td>1.552</td>\n",
       "      <td>35.486</td>\n",
       "      <td>-0.017</td>\n",
       "      <td>-0.134</td>\n",
       "      <td>-0.166</td>\n",
       "      <td>-0.221</td>\n",
       "      <td>-0.266</td>\n",
       "      <td>-0.291</td>\n",
       "      <td>51223.331</td>\n",
       "      <td>49179.075</td>\n",
       "      <td>47013.155</td>\n",
       "      <td>43262.949</td>\n",
       "      <td>40311.401</td>\n",
       "      <td>38871.760</td>\n",
       "      <td>5663.58</td>\n",
       "      <td>5921.164</td>\n",
       "      <td>5225.682</td>\n",
       "      <td>4826.077</td>\n",
       "      <td>4799.388</td>\n",
       "      <td>5215.503</td>\n",
       "      <td>0.221</td>\n",
       "    </tr>\n",
       "    <tr>\n",
       "      <th>std</th>\n",
       "      <td>129747.662</td>\n",
       "      <td>0.489</td>\n",
       "      <td>0.790</td>\n",
       "      <td>0.522</td>\n",
       "      <td>9.218</td>\n",
       "      <td>1.124</td>\n",
       "      <td>1.197</td>\n",
       "      <td>1.197</td>\n",
       "      <td>1.169</td>\n",
       "      <td>1.133</td>\n",
       "      <td>1.150</td>\n",
       "      <td>73635.861</td>\n",
       "      <td>71173.769</td>\n",
       "      <td>69349.387</td>\n",
       "      <td>64332.856</td>\n",
       "      <td>60797.156</td>\n",
       "      <td>59554.108</td>\n",
       "      <td>16563.28</td>\n",
       "      <td>23040.870</td>\n",
       "      <td>17606.961</td>\n",
       "      <td>15666.160</td>\n",
       "      <td>15278.306</td>\n",
       "      <td>17777.466</td>\n",
       "      <td>0.415</td>\n",
       "    </tr>\n",
       "    <tr>\n",
       "      <th>min</th>\n",
       "      <td>10000.000</td>\n",
       "      <td>1.000</td>\n",
       "      <td>0.000</td>\n",
       "      <td>0.000</td>\n",
       "      <td>21.000</td>\n",
       "      <td>-2.000</td>\n",
       "      <td>-2.000</td>\n",
       "      <td>-2.000</td>\n",
       "      <td>-2.000</td>\n",
       "      <td>-2.000</td>\n",
       "      <td>-2.000</td>\n",
       "      <td>-165580.000</td>\n",
       "      <td>-69777.000</td>\n",
       "      <td>-157264.000</td>\n",
       "      <td>-170000.000</td>\n",
       "      <td>-81334.000</td>\n",
       "      <td>-339603.000</td>\n",
       "      <td>0.00</td>\n",
       "      <td>0.000</td>\n",
       "      <td>0.000</td>\n",
       "      <td>0.000</td>\n",
       "      <td>0.000</td>\n",
       "      <td>0.000</td>\n",
       "      <td>0.000</td>\n",
       "    </tr>\n",
       "    <tr>\n",
       "      <th>25%</th>\n",
       "      <td>50000.000</td>\n",
       "      <td>1.000</td>\n",
       "      <td>1.000</td>\n",
       "      <td>1.000</td>\n",
       "      <td>28.000</td>\n",
       "      <td>-1.000</td>\n",
       "      <td>-1.000</td>\n",
       "      <td>-1.000</td>\n",
       "      <td>-1.000</td>\n",
       "      <td>-1.000</td>\n",
       "      <td>-1.000</td>\n",
       "      <td>3558.750</td>\n",
       "      <td>2984.750</td>\n",
       "      <td>2666.250</td>\n",
       "      <td>2326.750</td>\n",
       "      <td>1763.000</td>\n",
       "      <td>1256.000</td>\n",
       "      <td>1000.00</td>\n",
       "      <td>833.000</td>\n",
       "      <td>390.000</td>\n",
       "      <td>296.000</td>\n",
       "      <td>252.500</td>\n",
       "      <td>117.750</td>\n",
       "      <td>0.000</td>\n",
       "    </tr>\n",
       "    <tr>\n",
       "      <th>50%</th>\n",
       "      <td>140000.000</td>\n",
       "      <td>2.000</td>\n",
       "      <td>2.000</td>\n",
       "      <td>2.000</td>\n",
       "      <td>34.000</td>\n",
       "      <td>0.000</td>\n",
       "      <td>0.000</td>\n",
       "      <td>0.000</td>\n",
       "      <td>0.000</td>\n",
       "      <td>0.000</td>\n",
       "      <td>0.000</td>\n",
       "      <td>22381.500</td>\n",
       "      <td>21200.000</td>\n",
       "      <td>20088.500</td>\n",
       "      <td>19052.000</td>\n",
       "      <td>18104.500</td>\n",
       "      <td>17071.000</td>\n",
       "      <td>2100.00</td>\n",
       "      <td>2009.000</td>\n",
       "      <td>1800.000</td>\n",
       "      <td>1500.000</td>\n",
       "      <td>1500.000</td>\n",
       "      <td>1500.000</td>\n",
       "      <td>0.000</td>\n",
       "    </tr>\n",
       "    <tr>\n",
       "      <th>75%</th>\n",
       "      <td>240000.000</td>\n",
       "      <td>2.000</td>\n",
       "      <td>2.000</td>\n",
       "      <td>2.000</td>\n",
       "      <td>41.000</td>\n",
       "      <td>0.000</td>\n",
       "      <td>0.000</td>\n",
       "      <td>0.000</td>\n",
       "      <td>0.000</td>\n",
       "      <td>0.000</td>\n",
       "      <td>0.000</td>\n",
       "      <td>67091.000</td>\n",
       "      <td>64006.250</td>\n",
       "      <td>60164.750</td>\n",
       "      <td>54506.000</td>\n",
       "      <td>50190.500</td>\n",
       "      <td>49198.250</td>\n",
       "      <td>5006.00</td>\n",
       "      <td>5000.000</td>\n",
       "      <td>4505.000</td>\n",
       "      <td>4013.250</td>\n",
       "      <td>4031.500</td>\n",
       "      <td>4000.000</td>\n",
       "      <td>0.000</td>\n",
       "    </tr>\n",
       "    <tr>\n",
       "      <th>max</th>\n",
       "      <td>1000000.000</td>\n",
       "      <td>2.000</td>\n",
       "      <td>6.000</td>\n",
       "      <td>3.000</td>\n",
       "      <td>79.000</td>\n",
       "      <td>8.000</td>\n",
       "      <td>8.000</td>\n",
       "      <td>8.000</td>\n",
       "      <td>8.000</td>\n",
       "      <td>8.000</td>\n",
       "      <td>8.000</td>\n",
       "      <td>964511.000</td>\n",
       "      <td>983931.000</td>\n",
       "      <td>1664089.000</td>\n",
       "      <td>891586.000</td>\n",
       "      <td>927171.000</td>\n",
       "      <td>961664.000</td>\n",
       "      <td>873552.00</td>\n",
       "      <td>1684259.000</td>\n",
       "      <td>896040.000</td>\n",
       "      <td>621000.000</td>\n",
       "      <td>426529.000</td>\n",
       "      <td>528666.000</td>\n",
       "      <td>1.000</td>\n",
       "    </tr>\n",
       "  </tbody>\n",
       "</table>\n",
       "</div>"
      ],
      "text/plain": [
       "         LIMIT_BAL        SEX  EDUCATION   MARRIAGE        AGE      PAY_0  \\\n",
       "count    30000.000  30000.000  30000.000  30000.000  30000.000  30000.000   \n",
       "mean    167484.323      1.604      1.853      1.552     35.486     -0.017   \n",
       "std     129747.662      0.489      0.790      0.522      9.218      1.124   \n",
       "min      10000.000      1.000      0.000      0.000     21.000     -2.000   \n",
       "25%      50000.000      1.000      1.000      1.000     28.000     -1.000   \n",
       "50%     140000.000      2.000      2.000      2.000     34.000      0.000   \n",
       "75%     240000.000      2.000      2.000      2.000     41.000      0.000   \n",
       "max    1000000.000      2.000      6.000      3.000     79.000      8.000   \n",
       "\n",
       "           PAY_2      PAY_3      PAY_4      PAY_5      PAY_6   BILL_AMT1  \\\n",
       "count  30000.000  30000.000  30000.000  30000.000  30000.000   30000.000   \n",
       "mean      -0.134     -0.166     -0.221     -0.266     -0.291   51223.331   \n",
       "std        1.197      1.197      1.169      1.133      1.150   73635.861   \n",
       "min       -2.000     -2.000     -2.000     -2.000     -2.000 -165580.000   \n",
       "25%       -1.000     -1.000     -1.000     -1.000     -1.000    3558.750   \n",
       "50%        0.000      0.000      0.000      0.000      0.000   22381.500   \n",
       "75%        0.000      0.000      0.000      0.000      0.000   67091.000   \n",
       "max        8.000      8.000      8.000      8.000      8.000  964511.000   \n",
       "\n",
       "        BILL_AMT2    BILL_AMT3   BILL_AMT4   BILL_AMT5   BILL_AMT6   PAY_AMT1  \\\n",
       "count   30000.000    30000.000   30000.000   30000.000   30000.000   30000.00   \n",
       "mean    49179.075    47013.155   43262.949   40311.401   38871.760    5663.58   \n",
       "std     71173.769    69349.387   64332.856   60797.156   59554.108   16563.28   \n",
       "min    -69777.000  -157264.000 -170000.000  -81334.000 -339603.000       0.00   \n",
       "25%      2984.750     2666.250    2326.750    1763.000    1256.000    1000.00   \n",
       "50%     21200.000    20088.500   19052.000   18104.500   17071.000    2100.00   \n",
       "75%     64006.250    60164.750   54506.000   50190.500   49198.250    5006.00   \n",
       "max    983931.000  1664089.000  891586.000  927171.000  961664.000  873552.00   \n",
       "\n",
       "          PAY_AMT2    PAY_AMT3    PAY_AMT4    PAY_AMT5    PAY_AMT6  \\\n",
       "count    30000.000   30000.000   30000.000   30000.000   30000.000   \n",
       "mean      5921.164    5225.682    4826.077    4799.388    5215.503   \n",
       "std      23040.870   17606.961   15666.160   15278.306   17777.466   \n",
       "min          0.000       0.000       0.000       0.000       0.000   \n",
       "25%        833.000     390.000     296.000     252.500     117.750   \n",
       "50%       2009.000    1800.000    1500.000    1500.000    1500.000   \n",
       "75%       5000.000    4505.000    4013.250    4031.500    4000.000   \n",
       "max    1684259.000  896040.000  621000.000  426529.000  528666.000   \n",
       "\n",
       "       nxt_mnth_default  \n",
       "count         30000.000  \n",
       "mean              0.221  \n",
       "std               0.415  \n",
       "min               0.000  \n",
       "25%               0.000  \n",
       "50%               0.000  \n",
       "75%               0.000  \n",
       "max               1.000  "
      ]
     },
     "execution_count": 8,
     "metadata": {},
     "output_type": "execute_result"
    }
   ],
   "source": [
    "## Summary of continuous features\n",
    "\n",
    "display(HTML('<b>Table 1: Summary of continuous features</b>'))\n",
    "df.describe(include='int64').round(3)"
   ]
  },
  {
   "cell_type": "markdown",
   "metadata": {},
   "source": [
    "### Categorical Features"
   ]
  },
  {
   "cell_type": "code",
   "execution_count": 9,
   "metadata": {},
   "outputs": [],
   "source": [
    "cat_colms = ['SEX','EDUCATION', 'MARRIAGE','nxt_mnth_default']"
   ]
  },
  {
   "cell_type": "code",
   "execution_count": 10,
   "metadata": {
    "scrolled": true
   },
   "outputs": [
    {
     "name": "stdout",
     "output_type": "stream",
     "text": [
      "2    18112\n",
      "1    11888\n",
      "Name: SEX, dtype: int64\n",
      "2    14030\n",
      "1    10585\n",
      "3     4917\n",
      "5      280\n",
      "4      123\n",
      "6       51\n",
      "0       14\n",
      "Name: EDUCATION, dtype: int64\n",
      "2    15964\n",
      "1    13659\n",
      "3      323\n",
      "0       54\n",
      "Name: MARRIAGE, dtype: int64\n",
      "0    23364\n",
      "1     6636\n",
      "Name: nxt_mnth_default, dtype: int64\n"
     ]
    }
   ],
   "source": [
    "print(df['SEX'].value_counts())\n",
    "print(df['EDUCATION'].value_counts())\n",
    "print(df['MARRIAGE'].value_counts())\n",
    "print(df['nxt_mnth_default'].value_counts())"
   ]
  },
  {
   "cell_type": "markdown",
   "metadata": {},
   "source": [
    "# <a>Data Exploration</a>\n",
    "\n",
    "Here the data is explored to understand the relationship among different features. During this stage, we are aimed at bringing important characteristics of the data into consideration for further analysis. "
   ]
  },
  {
   "cell_type": "markdown",
   "metadata": {},
   "source": [
    "## <a>Univariate Data Exploration</a>"
   ]
  },
  {
   "cell_type": "markdown",
   "metadata": {},
   "source": [
    "#### Distribution of Target Class \n",
    "Figure 1: represents that 20% of customers have defaulted whereas around 80% have not. This is a typical case of class imbalance. While modelling we need to make sure we do appropriate re-sampling to handle the class imbalance. "
   ]
  },
  {
   "cell_type": "code",
   "execution_count": 11,
   "metadata": {},
   "outputs": [
    {
     "data": {
      "image/png": "[encoded data removed]",
      "text/plain": [
       "<Figure size 432x288 with 1 Axes>"
      ]
     },
     "metadata": {
      "needs_background": "light"
     },
     "output_type": "display_data"
    }
   ],
   "source": [
    "fig= plt.figure()\n",
    "ax=fig.add_axes([0,0,1,1])\n",
    "val=df[\"nxt_mnth_default\"].value_counts()/df.shape[0]\n",
    "val=val*100\n",
    "idx=list(map(str,val.index))\n",
    "ax.bar(idx,val)\n",
    "ax.set_ylabel(\"Percentage of Customers(%)\", fontsize = 12)\n",
    "plt.xlabel('Next Month Default Status \\n (Default = 1, Not Default = 0)', fontsize = 12)\n",
    "ax.set_title(\"Figure 1: Distribution of defaulters and non defaulters\", fontsize = 14)\n",
    "plt.show()"
   ]
  },
  {
   "cell_type": "markdown",
   "metadata": {},
   "source": [
    "#### Distribution of Credit Balance Limit (LIMIT_BAL)\n",
    "\n",
    "Figure 2: represents that credit limit balance is right-skewed. This indicates that the majority of customers lie in lower balance limit and number of customers become lesser as a move towards higher credit balance limit."
   ]
  },
  {
   "cell_type": "code",
   "execution_count": 12,
   "metadata": {
    "scrolled": true
   },
   "outputs": [
    {
     "data": {
      "image/png": "[encoded data removed]",
      "text/plain": [
       "<Figure size 504x360 with 1 Axes>"
      ]
     },
     "metadata": {
      "needs_background": "light"
     },
     "output_type": "display_data"
    }
   ],
   "source": [
    "plt.figure(figsize = (7,5))\n",
    "plt.title(\"Figure 2: Amount of Credit Limit Balance (NT dollar)\", fontsize = 14)\n",
    "df[\"LIMIT_BAL\"].hist()\n",
    "plt.xlabel(\"Amount of Credit Limit Balance\", fontsize = 12)\n",
    "plt.ylabel(\"Frequency Count\", fontsize = 12)\n",
    "plt.show();"
   ]
  },
  {
   "cell_type": "markdown",
   "metadata": {},
   "source": [
    "#### Distribution of Age \n",
    "Figure 3: indicates that the age range starts from a value above 20 which could be the eligibility age and goes up to 80. Anyhow customer above 60 seems to be rare cases. The third quartile is just slightly above 40 which suggests age, 75% customer are below it. Further, the shape of box-plot suggest that the age distribution is rightly skewed. "
   ]
  },
  {
   "cell_type": "code",
   "execution_count": 13,
   "metadata": {},
   "outputs": [
    {
     "data": {
      "image/png": "[encoded data removed]",
      "text/plain": [
       "<Figure size 432x288 with 1 Axes>"
      ]
     },
     "metadata": {
      "needs_background": "light"
     },
     "output_type": "display_data"
    }
   ],
   "source": [
    "sns.boxplot(df['AGE']).set_title('Figure 3: Age Distributiion', fontsize = 14)\n",
    "plt.xlabel(\"Age in Years\", fontsize = 12)\n",
    "plt.show();"
   ]
  },
  {
   "cell_type": "markdown",
   "metadata": {},
   "source": [
    "## <a>Bivariate Data Exploration</a>"
   ]
  },
  {
   "cell_type": "markdown",
   "metadata": {},
   "source": [
    "#### Probability Plot function\n",
    "The probabilty function is defined to understand the relationship among different features. "
   ]
  },
  {
   "cell_type": "code",
   "execution_count": 14,
   "metadata": {},
   "outputs": [],
   "source": [
    "def prob_plot(by_col,xlab,colmn, figno):\n",
    "    fig= plt.figure()\n",
    "    ax=fig.add_axes([0,0,1,1])\n",
    "    dflt=df.groupby(by_col)['nxt_mnth_default'].agg(['sum','count'])\n",
    "    dflt[\"Prob_Dflt\"]=dflt[\"sum\"]/dflt[\"count\"]\n",
    "    dflt[\"Prob_Dflt\"]=dflt[\"Prob_Dflt\"]\n",
    "    idx=list(map(str,dflt.index))\n",
    "    ax.bar(idx,dflt[\"Prob_Dflt\"])\n",
    "    ax.set_ylabel(\"Probability of defaulting\", fontsize = 12)\n",
    "    ax.set_xlabel(xlab, fontsize = 12)\n",
    "    ax.set_title(f\"Figure {figno}: Probability of defaulting by {colmn}\", fontsize = 14)\n",
    "    plt.show()"
   ]
  },
  {
   "cell_type": "markdown",
   "metadata": {},
   "source": [
    "#### Probability of defaulting by Sex\n",
    "\n",
    "Figure 4: indiactes the probability of being a default by male and female. The probabilty of being a default is slightly higher for male over female."
   ]
  },
  {
   "cell_type": "code",
   "execution_count": 15,
   "metadata": {},
   "outputs": [
    {
     "data": {
      "image/png": "[encoded data removed]",
      "text/plain": [
       "<Figure size 432x288 with 1 Axes>"
      ]
     },
     "metadata": {
      "needs_background": "light"
     },
     "output_type": "display_data"
    }
   ],
   "source": [
    "prob_plot(\"SEX\",\"Sex \\n (Male = 1, Female = 2)\",\"Sex\", 4)"
   ]
  },
  {
   "cell_type": "markdown",
   "metadata": {},
   "source": [
    "#### Probability of defaulting by Education\n",
    "Figure 5: indicates the probability of default based on education level. Clients belonging to university and high school is identified to posses higher probability of default over clients in others and unknown category. Thus, clients belonging to others and unknown category is also an interesting area to explore.  "
   ]
  },
  {
   "cell_type": "code",
   "execution_count": 16,
   "metadata": {
    "scrolled": false
   },
   "outputs": [
    {
     "data": {
      "image/png": "[encoded data removed]",
      "text/plain": [
       "<Figure size 432x288 with 1 Axes>"
      ]
     },
     "metadata": {
      "needs_background": "light"
     },
     "output_type": "display_data"
    }
   ],
   "source": [
    "prob_plot(\"EDUCATION\",\"Education \\n (Graduate School = 1, University = 2, High School= 3,Others =4\\n 0,5,6 = Unknown)\",\"Education\" , 5)"
   ]
  },
  {
   "cell_type": "markdown",
   "metadata": {},
   "source": [
    "#### Defaulting behaviour by Balance Limit (LIMIT_BAL)\n",
    "Figure 6: indicates the probability distribution of default status based on credit limit balance. It shows that clients belonging to range of 10K to 50K credit limit balance posses largest probability of being a defaulter as indicated by the red curve. "
   ]
  },
  {
   "cell_type": "code",
   "execution_count": 17,
   "metadata": {},
   "outputs": [
    {
     "data": {
      "image/png": "[encoded data removed]",
      "text/plain": [
       "<Figure size 1008x432 with 1 Axes>"
      ]
     },
     "metadata": {
      "needs_background": "light"
     },
     "output_type": "display_data"
    }
   ],
   "source": [
    "N_Default = df.loc[df['nxt_mnth_default'] == 0][\"LIMIT_BAL\"]\n",
    "Default = df.loc[df['nxt_mnth_default'] == 1][\"LIMIT_BAL\"]\n",
    "fig = plt.figure(figsize = (14,6))\n",
    "plt.title('FIgure 6: Density plot of Credit Card Balance - Categorized by Default Status', fontsize = 14)\n",
    "sns.set_color_codes(\"pastel\")\n",
    "sns.distplot(Default,kde=True,bins=200, color=\"red\")\n",
    "sns.distplot(N_Default,kde=True,bins=200, color=\"blue\")\n",
    "plt.xlabel(\"Amount of Credit Card Limit Balance (NT dollar)\", fontsize = 12)\n",
    "plt.ylabel(\"Probability Distribution\", fontsize = 12)\n",
    "fig.legend(labels=['Default','No Default'], loc = 'upper right' )\n",
    "plt.show()"
   ]
  },
  {
   "cell_type": "markdown",
   "metadata": {},
   "source": [
    "## <a>Multivariate Data Exploration</a>"
   ]
  },
  {
   "cell_type": "markdown",
   "metadata": {},
   "source": [
    "#### Defaulters by Balance Limit and Age\n",
    "Figure 7: does not show a strong pattern in terms of credit card balance distribution and age. However, it shows that majority of defaulters are concentrated towards lower Balance Limit and age above 40."
   ]
  },
  {
   "cell_type": "code",
   "execution_count": 18,
   "metadata": {},
   "outputs": [
    {
     "data": {
      "image/png": "[encoded data removed]",
      "text/plain": [
       "<Figure size 432x288 with 1 Axes>"
      ]
     },
     "metadata": {
      "needs_background": "light"
     },
     "output_type": "display_data"
    }
   ],
   "source": [
    "sns.scatterplot(df['LIMIT_BAL'], df['AGE'], hue = df['nxt_mnth_default'])\n",
    "plt.title('Figure 7: Scatterplot of Credit Limit Balance by age coloured by default status', fontsize = 14);\n",
    "plt.legend(labels = ['Default', 'No Default'], loc = 'upper right')\n",
    "plt.xlabel(\"Amount of Credit Card Limit Balance (NT dollar)\", fontsize = 12)\n",
    "plt.ylabel(\"AGE\", fontsize = 12)\n",
    "plt.show();"
   ]
  },
  {
   "cell_type": "markdown",
   "metadata": {},
   "source": [
    "#### Probability of defaulting by Sex and Martial Status\n",
    "Figure 8: indicates that probability of defaulting varies greatly with client's gender and martial status. Male belonging to others category (could be divorced) and married seems to have higher probability of being a defaulter over single female or married female."
   ]
  },
  {
   "cell_type": "code",
   "execution_count": 19,
   "metadata": {},
   "outputs": [
    {
     "data": {
      "image/png": "[encoded data removed]",
      "text/plain": [
       "<Figure size 432x288 with 1 Axes>"
      ]
     },
     "metadata": {
      "needs_background": "light"
     },
     "output_type": "display_data"
    }
   ],
   "source": [
    "dflt=df.groupby([\"SEX\",\"MARRIAGE\"])['nxt_mnth_default'].agg(['sum','count'])\n",
    "\n",
    "prob_plot([\"SEX\",\"MARRIAGE\"], \"Sex and Martial Status \\n (Male = 1, Female = 2), \\n (Married= 1, Single =2, 0, 3 = Others)\", \"Sex and Marital Status\", 8)\n"
   ]
  },
  {
   "cell_type": "markdown",
   "metadata": {},
   "source": [
    "#### Credit Card Limit Distribution by Education and Marital Status\n",
    "Figure 9: indicates that credit card limit is significantly higher among clients who are married and has some graduate degree followed by customers who are graduate and single. This indicates that higher credit limit balance is dependent more on education.  "
   ]
  },
  {
   "cell_type": "code",
   "execution_count": 20,
   "metadata": {},
   "outputs": [],
   "source": [
    "df2 = df[(df.EDUCATION != 0) & (df.EDUCATION != 5) & (df.EDUCATION != 6)]\n",
    "def boxplot_relation(col1, col2, col3, width=15):\n",
    "    fig, ax2 = plt.subplots(ncols=1, figsize=(width,6))\n",
    "    s = sns.boxplot(ax = ax2, x=col1, y=col2, hue=col3,\n",
    "                data=df2, palette=\"PRGn\",showfliers=False)\n",
    "    s.set_xticklabels(s.get_xticklabels(),rotation=90)\n",
    "    plt.title('Figure 9: Boxplot of Credit Limit Balance by Education and Marital Status', fontsize = 14);\n",
    "    plt.legend(labels = ['Graduate School', 'University', 'High School', 'Others'],loc = 'upper right')\n",
    "    plt.xlabel(\"Marital Status \\n (Married = 1, Single = 2, 0,3 = Others)\", fontsize = 12)\n",
    "    plt.ylabel(\"Credit Limit Balance (NT Dollar)\", fontsize = 12);\n",
    "    plt.show();"
   ]
  },
  {
   "cell_type": "code",
   "execution_count": 21,
   "metadata": {},
   "outputs": [
    {
     "data": {
      "image/png": "[encoded data removed]",
      "text/plain": [
       "<Figure size 1008x432 with 1 Axes>"
      ]
     },
     "metadata": {
      "needs_background": "light"
     },
     "output_type": "display_data"
    }
   ],
   "source": [
    "boxplot_relation('MARRIAGE','LIMIT_BAL', 'EDUCATION',14)"
   ]
  },
  {
   "cell_type": "markdown",
   "metadata": {},
   "source": [
    "# <a>Data Preparation for Modelling</a>"
   ]
  },
  {
   "cell_type": "markdown",
   "metadata": {},
   "source": [
    "## <a>Outlier Treatment</a>\n",
    "### Age\n",
    "During data exploration, the age ditribution shows presence of some outliers. We will handle by using capping technique where we will replace the outlier in lower range by min value and outliers in higher range by max value in the age column. "
   ]
  },
  {
   "cell_type": "code",
   "execution_count": 22,
   "metadata": {},
   "outputs": [],
   "source": [
    "numeric_cols=[\"AGE\"]\n",
    "\n",
    "quantiles=df[numeric_cols].quantile([0.25,0.75],axis=0)\n",
    "\n",
    "for i in numeric_cols:\n",
    "    q1,q3= quantiles[i]\n",
    "    iqr= q3-q1\n",
    "    lower_bound = q1 -(1.5 * iqr) \n",
    "    upper_bound = q3 +(1.5 * iqr) \n",
    "    df.loc[(df[i]<lower_bound) | (df[i]>upper_bound),i]=np.nan\n",
    "    \n",
    "\n",
    "df=df[~df[\"AGE\"].isnull()]"
   ]
  },
  {
   "cell_type": "markdown",
   "metadata": {},
   "source": [
    "## <a>Encoding Categorical Features</a>\n",
    "\n",
    "Before modelling, it is necessary to encode both target and descriptive features into numercial features. \n",
    "### Marriage\n",
    "Marriage Column is has values as 0,1,2,3. Data description indicates 1 = married; 2 = single; 3 = others (0 has no description but lets assume its one of a type). This does not seem like ordinal data hence will use one hot encoding technique for these types of variables.\n",
    "\n",
    "We will use pandas inbuilt get dummies function and use simple one hot encoding for variable more than two levels i.e. we will define more than q dummy variables for q levels (q>2). "
   ]
  },
  {
   "cell_type": "code",
   "execution_count": 23,
   "metadata": {
    "scrolled": true
   },
   "outputs": [],
   "source": [
    "df[\"MARRIAGE\"]=df[\"MARRIAGE\"].astype('category')\n",
    "dummy_marriage=pd.get_dummies(df[\"MARRIAGE\"])\n",
    "dummy_marriage=dummy_marriage.add_prefix(\"MARRIAGE_\")\n",
    "df=pd.concat([dummy_marriage,df],axis=1)\n",
    "df=df.drop(labels=[\"MARRIAGE\"],axis=1)"
   ]
  },
  {
   "cell_type": "markdown",
   "metadata": {},
   "source": [
    "### Encoding Gender\n",
    "\n",
    "Gender also being a nominal categorical is one hot encoded. Since the gender variable has only 2 levels we will set the drop first option as True to create a single column of 0 and 1. "
   ]
  },
  {
   "cell_type": "code",
   "execution_count": 24,
   "metadata": {},
   "outputs": [],
   "source": [
    "df[\"SEX\"]=df[\"SEX\"].astype('category')\n",
    "dummy_sex=pd.get_dummies(df[\"SEX\"],drop_first=True)\n",
    "dummy_sex=dummy_sex.add_prefix(\"SEX_\")\n",
    "df=pd.concat([dummy_sex,df],axis=1)\n",
    "df=df.drop(labels=[\"SEX\"],axis=1)"
   ]
  },
  {
   "cell_type": "markdown",
   "metadata": {},
   "source": [
    "Our dataset already represents positive class (default) as 1. Thus, it is not necessary to encode the target feature. "
   ]
  },
  {
   "cell_type": "markdown",
   "metadata": {},
   "source": [
    "# <a>Feature Engineering</a>\n",
    "We create new features Bill total for 6 months as BILL_TOT and Pay total for 6 months as PAY_TOT. Further, we calculate ratio of PAY_TOT and BILL_TOT as PAY_BILL_RATIO. Exploring mean values is reasonable as defaulters are identified to possess lower payement ratio than non defaulters."
   ]
  },
  {
   "cell_type": "code",
   "execution_count": 25,
   "metadata": {},
   "outputs": [
    {
     "data": {
      "text/plain": [
       "nxt_mnth_default\n",
       "0    0.451\n",
       "1    0.259\n",
       "Name: PAY_BILL_RATIO, dtype: float64"
      ]
     },
     "execution_count": 25,
     "metadata": {},
     "output_type": "execute_result"
    }
   ],
   "source": [
    "df[\"BILL_TOT\"]=df[['BILL_AMT1', 'BILL_AMT2', 'BILL_AMT3', 'BILL_AMT4','BILL_AMT5', 'BILL_AMT6']].sum(axis=1)\n",
    "\n",
    "df[\"PAY_TOT\"]=df[[ 'PAY_AMT1', 'PAY_AMT2', 'PAY_AMT3','PAY_AMT4', 'PAY_AMT5', 'PAY_AMT6']].sum(axis=1)\n",
    "\n",
    "df[\"PAY_BILL_RATIO\"]=df[\"PAY_TOT\"]/df[\"BILL_TOT\"]\n",
    "\n",
    "# Where Bill is 0 we might get NAN value so we replace 0/0 or any value by 0 as 1 which indicates full payment.\n",
    "df.loc[df[\"BILL_TOT\"]==0,\"PAY_BILL_RATIO\"]=1\n",
    "\n",
    "df.groupby(\"nxt_mnth_default\")[\"PAY_BILL_RATIO\"].mean().round(3)"
   ]
  },
  {
   "cell_type": "markdown",
   "metadata": {},
   "source": [
    "## <a>Train and Test Split</a>\n",
    "We will separate the descriptive and target features. Since our dataset has 30k observations, we will will work only with a small subset of dataset: 5000 observations sampled randomly.  "
   ]
  },
  {
   "cell_type": "code",
   "execution_count": 26,
   "metadata": {},
   "outputs": [],
   "source": [
    "Data=df.drop(labels=[\"nxt_mnth_default\"],axis=1)\n",
    "target= df[\"nxt_mnth_default\"]\n",
    "\n",
    "n_samples = 5000\n",
    "\n",
    "Data_sample = pd.DataFrame(Data).sample(n=n_samples, random_state=999).values\n",
    "target_sample = pd.DataFrame(target).sample(n=n_samples, random_state=999).values"
   ]
  },
  {
   "cell_type": "markdown",
   "metadata": {},
   "source": [
    "We will bifurcate randomly sampled dataset into training and test dataset into 70:30 ratio using target stratification for model training and evaluation.  "
   ]
  },
  {
   "cell_type": "code",
   "execution_count": 27,
   "metadata": {},
   "outputs": [
    {
     "name": "stdout",
     "output_type": "stream",
     "text": [
      "(3500, 29)\n",
      "(1500, 29)\n"
     ]
    }
   ],
   "source": [
    "Data_sample_train, Data_sample_test, \\\n",
    "target_sample_train, target_sample_test = train_test_split(Data_sample, target_sample, \n",
    "                                                    test_size = 0.3, random_state=999,\n",
    "                                                    stratify = target_sample)\n",
    "print(Data_sample_train.shape)\n",
    "print(Data_sample_test.shape)"
   ]
  },
  {
   "cell_type": "markdown",
   "metadata": {},
   "source": [
    "## <a>Feature Scaling</a>\n",
    "After encoding, we will separately scale train and target features to ensure that no information of test data is shared with the model. For this, we will use min-max scaling technique.  "
   ]
  },
  {
   "cell_type": "code",
   "execution_count": 28,
   "metadata": {},
   "outputs": [],
   "source": [
    "Data_scaler =MinMaxScaler()\n",
    "\n",
    "Data_scaler.fit(Data_sample_train)\n",
    "\n",
    "Data_sample_train = Data_scaler.transform(Data_sample_train)\n",
    "Data_sample_test = Data_scaler.transform(Data_sample_test)"
   ]
  },
  {
   "cell_type": "markdown",
   "metadata": {},
   "source": [
    "# <a>Data Modelling</a>"
   ]
  },
  {
   "cell_type": "markdown",
   "metadata": {},
   "source": [
    "## <a>Cross Validation</a>\n",
    "We have used stratified 5 fold cross validation strategy to train and validate our model. Stratification is necessary to ensure that similar ratio of target feature levels is shared between the training and the target dataset. "
   ]
  },
  {
   "cell_type": "code",
   "execution_count": 29,
   "metadata": {},
   "outputs": [
    {
     "data": {
      "text/plain": [
       "(5000, 29)"
      ]
     },
     "execution_count": 29,
     "metadata": {},
     "output_type": "execute_result"
    }
   ],
   "source": [
    "cv_method = StratifiedKFold(n_splits=5, random_state=999)\n",
    "\n",
    "Data_sample.shape"
   ]
  },
  {
   "cell_type": "markdown",
   "metadata": {},
   "source": [
    "## <a>Feature Selection</a>\n",
    "We will represent the top 10 features using the random forest feature selector. However, at a later stage we will be using this method in our pipeline during hyperparamter tuning of our classification algorithms."
   ]
  },
  {
   "cell_type": "code",
   "execution_count": 30,
   "metadata": {
    "scrolled": true
   },
   "outputs": [
    {
     "data": {
      "text/plain": [
       "array(['PAY_0', 'PAY_TOT', 'PAY_BILL_RATIO', 'AGE', 'BILL_TOT',\n",
       "       'LIMIT_BAL', 'PAY_2', 'BILL_AMT1', 'PAY_AMT1', 'BILL_AMT3'],\n",
       "      dtype=object)"
      ]
     },
     "execution_count": 30,
     "metadata": {},
     "output_type": "execute_result"
    }
   ],
   "source": [
    "## Using Random Forest Importance for feature selection\n",
    "\n",
    "num_features = 10\n",
    "model_rfi = RandomForestClassifier(n_estimators=100,random_state=999)\n",
    "model_rfi.fit(Data_sample_train, target_sample_train)\n",
    "fs_indices_rfi = np.argsort(model_rfi.feature_importances_)[::-1][0:num_features]\n",
    "best_features_rfi = Data.columns[fs_indices_rfi].values\n",
    "best_features_rfi"
   ]
  },
  {
   "cell_type": "code",
   "execution_count": 31,
   "metadata": {},
   "outputs": [
    {
     "data": {
      "text/plain": [
       "array([0.09399621, 0.05685791, 0.04919107, 0.04869169, 0.04744525,\n",
       "       0.04671581, 0.045636  , 0.04405104, 0.0424076 , 0.04143057])"
      ]
     },
     "execution_count": 31,
     "metadata": {},
     "output_type": "execute_result"
    }
   ],
   "source": [
    "feature_importances_rfi = model_rfi.feature_importances_[fs_indices_rfi]\n",
    "feature_importances_rfi"
   ]
  },
  {
   "cell_type": "code",
   "execution_count": 32,
   "metadata": {},
   "outputs": [],
   "source": [
    "def plot_imp(best_features, scores, method_name):\n",
    "    \n",
    "    df_plot = pd.DataFrame({'features': best_features, \n",
    "                       'importances': scores})\n",
    "    \n",
    "    fig= plt.figure()\n",
    "    ax=fig.add_axes([0,0,1,1])\n",
    "    idx=best_features\n",
    "    ax.bar(idx,scores)\n",
    "    ax.set_ylabel(\"Importance\")\n",
    "    ax.set_xlabel(\"Feature\")\n",
    "    \n",
    "    plt.xticks(rotation=60) \n",
    "    ax.set_title(f\"{method_name} Feature Importance\")\n",
    "    plt.show()"
   ]
  },
  {
   "cell_type": "markdown",
   "metadata": {},
   "source": [
    "The random forest importance represented Pay_ToT and Pay_Bill_Ratio as one of top 10 features."
   ]
  },
  {
   "cell_type": "code",
   "execution_count": 33,
   "metadata": {},
   "outputs": [
    {
     "data": {
      "image/png": "[encoded data removed]",
      "text/plain": [
       "<Figure size 432x288 with 1 Axes>"
      ]
     },
     "metadata": {
      "needs_background": "light"
     },
     "output_type": "display_data"
    }
   ],
   "source": [
    "plot_imp(best_features_rfi, feature_importances_rfi, 'Random Forest')"
   ]
  },
  {
   "cell_type": "markdown",
   "metadata": {},
   "source": [
    "## <a>Hyperparameter Tuning</a>"
   ]
  },
  {
   "cell_type": "markdown",
   "metadata": {},
   "source": [
    "#### Creating blank Model Evaluation Dataframe\n",
    "\n",
    "This will contain the respective score of the models and will represent the selected model based on Score. "
   ]
  },
  {
   "cell_type": "code",
   "execution_count": 34,
   "metadata": {},
   "outputs": [
    {
     "data": {
      "text/html": [
       "<div>\n",
       "<style scoped>\n",
       "    .dataframe tbody tr th:only-of-type {\n",
       "        vertical-align: middle;\n",
       "    }\n",
       "\n",
       "    .dataframe tbody tr th {\n",
       "        vertical-align: top;\n",
       "    }\n",
       "\n",
       "    .dataframe thead th {\n",
       "        text-align: right;\n",
       "    }\n",
       "</style>\n",
       "<table border=\"1\" class=\"dataframe\">\n",
       "  <thead>\n",
       "    <tr style=\"text-align: right;\">\n",
       "      <th></th>\n",
       "      <th>Model</th>\n",
       "      <th>Train_F1_Score</th>\n",
       "      <th>Test_F1_Score</th>\n",
       "      <th>Selected</th>\n",
       "    </tr>\n",
       "  </thead>\n",
       "  <tbody>\n",
       "  </tbody>\n",
       "</table>\n",
       "</div>"
      ],
      "text/plain": [
       "Empty DataFrame\n",
       "Columns: [Model, Train_F1_Score, Test_F1_Score, Selected]\n",
       "Index: []"
      ]
     },
     "execution_count": 34,
     "metadata": {},
     "output_type": "execute_result"
    }
   ],
   "source": [
    "Models_Eval = pd.DataFrame(columns=[\"Model\",\"Train_F1_Score\",\"Test_F1_Score\",\"Selected\"])\n",
    "Models_Eval"
   ]
  },
  {
   "cell_type": "markdown",
   "metadata": {},
   "source": [
    "#### Feature Selection Function\n",
    "\n",
    "Here we will utilize this RFI feature selector sourced from (www.featureranking.com) to utilize the RFI selection method in our pipeline for model building "
   ]
  },
  {
   "cell_type": "code",
   "execution_count": 35,
   "metadata": {},
   "outputs": [],
   "source": [
    "# custom function for RFI feature selection inside a pipeline\n",
    "# here we use n_estimators=100\n",
    "class RFIFeatureSelector(BaseEstimator, TransformerMixin):\n",
    "    \n",
    "    def __init__(self, n_features_=10):\n",
    "        self.n_features_ = n_features_\n",
    "        self.fs_indices_ = None\n",
    "\n",
    "    # override the fit function\n",
    "    def fit(self, X, y):\n",
    "        from sklearn.ensemble import RandomForestClassifier\n",
    "        from numpy import argsort\n",
    "        model_rfi = RandomForestClassifier(n_estimators=100,random_state=999)\n",
    "        model_rfi.fit(X, y)\n",
    "        self.fs_indices_ = argsort(model_rfi.feature_importances_)[::-1][0:self.n_features_] \n",
    "        return self \n",
    "    \n",
    "    # override the transform function\n",
    "    def transform(self, X, y=None):\n",
    "        return X[:, self.fs_indices_]"
   ]
  },
  {
   "cell_type": "markdown",
   "metadata": {},
   "source": [
    "#### Hyperparameter Tuning Function using either Grid Search or RandomSearch\n",
    "The function is used to train, test, evaluate model and tune hyperparameter of the classifier. It will assist in training and testing using a grid search CV method and Random search CV method for parameter tuning and is aimed at optimizing F1 score catering towards research problem. \n",
    "\n",
    "For Naive bias specifically, the function will perform power transformation of both train and test sampled data. Based on the model type, RFI feature importance criterion, CV strategy and best parameter selected, the function will return the classifier, best parameter selected, selected model evaluation data frame, model performance chart and best estimator values. "
   ]
  },
  {
   "cell_type": "code",
   "execution_count": 36,
   "metadata": {},
   "outputs": [],
   "source": [
    "def fit_tune(steps_list,param_dict ,model_name,plt_x_param,plt_x_title,color_plt,color_plt_title,SearchType):\n",
    " \n",
    "    ## Grid and Random Search based on choice\n",
    "    if(SearchType==\"Grid\"):\n",
    "        gs_pipe_model = GridSearchCV(estimator=Pipeline(steps=steps_list), \n",
    "                                   param_grid=param_dict, \n",
    "                                   cv=cv_method,\n",
    "                                   refit=True,\n",
    "                                   n_jobs=-2,\n",
    "                                   scoring='f1',\n",
    "                                   verbose=1)\n",
    "    elif(SearchType==\"Random\") :\n",
    "        gs_pipe_model=  RandomizedSearchCV(estimator=Pipeline(steps=steps_list), \n",
    "                          param_distributions=param_dict, \n",
    "                          cv=cv_method,\n",
    "                          refit=True,\n",
    "                          n_jobs=-2,\n",
    "                          scoring='f1',\n",
    "                          n_iter=20,\n",
    "                          verbose=1,\n",
    "                          random_state=999) \n",
    "        \n",
    "    if(model_name==\"Naive Bayes\"):\n",
    "        Data_sample_train_transformed = PowerTransformer().fit_transform(Data_sample_train)\n",
    "        gs_pipe_model.fit(Data_sample_train_transformed, target_sample_train);\n",
    "    \n",
    "    else:\n",
    "        ## Fit the search function to train dataset\n",
    "        gs_pipe_model.fit(Data_sample_train, target_sample_train);\n",
    "        \n",
    "    if(model_name==\"Naive Bayes\"):\n",
    "        Data_sample_test_transformed = PowerTransformer().fit_transform(Data_sample_test)\n",
    "        test_score=gs_pipe_model.score(X=Data_sample_test_transformed, y=target_sample_test)\n",
    "    \n",
    "    else:\n",
    "         ## Get the test F1 Score using fitted function\n",
    "        test_score=gs_pipe_model.score(X=Data_sample_test, y=target_sample_test)\n",
    "    \n",
    "    ## Get results of hyperparameter search in df\n",
    "    results= get_search_results(gs_pipe_model)\n",
    "    \n",
    "    Best_Param=gs_pipe_model.best_params_\n",
    "    \n",
    "    #Plot the result\n",
    "    n_feature=Best_Param[\"rfi_fs__n_features_\"]\n",
    "    results_best_feature = results[results['rfi_fs__n_features_'] == n_feature]\n",
    "    \n",
    "    #Choice based on second parameter of tuning i.e one will be used to plot line other as color\n",
    "    if (color_plt!=plt_x_param):\n",
    "        chart = alt.Chart(results_best_feature, \n",
    "                  title=f'{model_name} Performance Comparison with {n_feature} Features'\n",
    "                 ).mark_line(point=True).encode(\n",
    "                alt.X(plt_x_param, title=plt_x_title),\n",
    "                alt.Y('mean_score', title='F1 Score', scale=alt.Scale(zero=False)),\n",
    "                alt.Color(color_plt, title=color_plt_title))\n",
    "    else:\n",
    "        chart = alt.Chart(results_best_feature, \n",
    "              title=f'{model_name} Performance Comparison with {n_feature} Features'\n",
    "             ).mark_line(point=True).encode(\n",
    "            alt.X(plt_x_param, title=plt_x_title),\n",
    "            alt.Y('mean_score', title='F1 Score', scale=alt.Scale(zero=False)))\n",
    "    \n",
    "    #Eval Dict to append to Evaluation Dataframe. \n",
    "    Eval_dict = {\"Model\" : model_name,\n",
    "                 \"Train_F1_Score\":gs_pipe_model.best_score_,\n",
    "                 \"Test_F1_Score\": test_score,\n",
    "                 \"Selected\":False\n",
    "                  }\n",
    "  \n",
    "    #Prepare output\n",
    "    fit_out={\"model\":gs_pipe_model,\n",
    "             \"best_param\": gs_pipe_model.best_params_,\n",
    "             \"Eval\":  Eval_dict,\n",
    "             \"result_df\" : results_best_feature,\n",
    "             \"chart\" :   chart,\n",
    "             \"best_estimator\" : gs_pipe_model.best_estimator_\n",
    "            }\n",
    "    \n",
    "    return fit_out"
   ]
  },
  {
   "cell_type": "markdown",
   "metadata": {},
   "source": [
    "### Fine Tune Search Results to Dataframe function"
   ]
  },
  {
   "cell_type": "markdown",
   "metadata": {},
   "source": [
    "The below function is sourced from www.featureranking.com and will return score results of paramters selected."
   ]
  },
  {
   "cell_type": "code",
   "execution_count": 37,
   "metadata": {},
   "outputs": [],
   "source": [
    "# custom function to format the search results as a Pandas data frame\n",
    "def get_search_results(gs):\n",
    "\n",
    "    def model_result(scores, params):\n",
    "        scores = {'mean_score': np.mean(scores),\n",
    "             'std_score': np.std(scores),\n",
    "             'min_score': np.min(scores),\n",
    "             'max_score': np.max(scores)}\n",
    "        return pd.Series({**params,**scores})\n",
    "\n",
    "    models = [] \n",
    "    scores = []\n",
    "\n",
    "    for i in range(gs.n_splits_):\n",
    "        key = f\"split{i}_test_score\"\n",
    "        r = gs.cv_results_[key]        \n",
    "        scores.append(r.reshape(-1,1))\n",
    "\n",
    "    all_scores = np.hstack(scores)\n",
    "    for p, s in zip(gs.cv_results_['params'], all_scores):\n",
    "        models.append((model_result(s, p)))\n",
    "\n",
    "    pipe_results = pd.concat(models, axis=1).T.sort_values(['mean_score'], ascending=False)\n",
    "\n",
    "    columns_first = ['mean_score', 'std_score', 'max_score', 'min_score']\n",
    "    columns = columns_first + [c for c in pipe_results.columns if c not in columns_first]\n",
    "\n",
    "    return pipe_results[columns]"
   ]
  },
  {
   "cell_type": "markdown",
   "metadata": {},
   "source": [
    "## <a>KNN</a>\n",
    "\n",
    "The RFI feature selector and KNN parameters are used in the same pipeline to tune the combination of selected parameters. \n",
    "\n",
    "* n_neighbours (k) and\n",
    "* the distance metric p\n",
    "\n",
    "are tuned with the best features selected from the Random Forest Importance (RFI) method discussed above. Here the combination of parameters with 5, 10, 20 and all features are tested to obtain the best score.\n",
    "\n",
    "We will be using t similar strategy to tune hyperparameter for Naive Bayes, Decision Tree, Random Forest Classifier, and Support Vector Classification algorithms."
   ]
  },
  {
   "cell_type": "code",
   "execution_count": 38,
   "metadata": {},
   "outputs": [
    {
     "name": "stdout",
     "output_type": "stream",
     "text": [
      "Fitting 5 folds for each of 100 candidates, totalling 500 fits\n"
     ]
    },
    {
     "name": "stderr",
     "output_type": "stream",
     "text": [
      "[Parallel(n_jobs=-2)]: Using backend LokyBackend with 3 concurrent workers.\n",
      "[Parallel(n_jobs=-2)]: Done  44 tasks      | elapsed:   19.8s\n",
      "[Parallel(n_jobs=-2)]: Done 194 tasks      | elapsed:  1.5min\n",
      "[Parallel(n_jobs=-2)]: Done 444 tasks      | elapsed:  3.4min\n",
      "[Parallel(n_jobs=-2)]: Done 500 out of 500 | elapsed:  3.9min finished\n"
     ]
    }
   ],
   "source": [
    "pipe_KNN = [('rfi_fs', RFIFeatureSelector()), \n",
    "                           ('knn', KNeighborsClassifier())]\n",
    "\n",
    "params_pipe_KNN = {'rfi_fs__n_features_': [5, 10, 20, Data.shape[1]],\n",
    "                   'knn__n_neighbors': [1, 5, 10, 15, 20],\n",
    "                   'knn__p': [1, 2, 3, 4, 5]}\n",
    "\n",
    "fit_out_knn=fit_tune(pipe_KNN,params_pipe_KNN,\"KNN\",\"knn__n_neighbors\",\"Number of Neighbors\",\"knn__p:N\",\"p\",\"Grid\")"
   ]
  },
  {
   "cell_type": "code",
   "execution_count": 39,
   "metadata": {},
   "outputs": [
    {
     "data": {
      "text/plain": [
       "{'knn__n_neighbors': 5, 'knn__p': 1, 'rfi_fs__n_features_': 5}"
      ]
     },
     "execution_count": 39,
     "metadata": {},
     "output_type": "execute_result"
    }
   ],
   "source": [
    "fit_out_knn[\"best_param\"]"
   ]
  },
  {
   "cell_type": "markdown",
   "metadata": {},
   "source": [
    "These are the best parameter values of KNN selected by the GRID search CV in combination with RFI. "
   ]
  },
  {
   "cell_type": "code",
   "execution_count": 40,
   "metadata": {
    "scrolled": true
   },
   "outputs": [
    {
     "data": {
      "text/html": [
       "<div>\n",
       "<style scoped>\n",
       "    .dataframe tbody tr th:only-of-type {\n",
       "        vertical-align: middle;\n",
       "    }\n",
       "\n",
       "    .dataframe tbody tr th {\n",
       "        vertical-align: top;\n",
       "    }\n",
       "\n",
       "    .dataframe thead th {\n",
       "        text-align: right;\n",
       "    }\n",
       "</style>\n",
       "<table border=\"1\" class=\"dataframe\">\n",
       "  <thead>\n",
       "    <tr style=\"text-align: right;\">\n",
       "      <th></th>\n",
       "      <th>mean_score</th>\n",
       "      <th>std_score</th>\n",
       "      <th>max_score</th>\n",
       "      <th>min_score</th>\n",
       "      <th>knn__n_neighbors</th>\n",
       "      <th>knn__p</th>\n",
       "      <th>rfi_fs__n_features_</th>\n",
       "    </tr>\n",
       "  </thead>\n",
       "  <tbody>\n",
       "    <tr>\n",
       "      <th>20</th>\n",
       "      <td>0.434065</td>\n",
       "      <td>0.014833</td>\n",
       "      <td>0.451613</td>\n",
       "      <td>0.415254</td>\n",
       "      <td>5.0</td>\n",
       "      <td>1.0</td>\n",
       "      <td>5.0</td>\n",
       "    </tr>\n",
       "    <tr>\n",
       "      <th>24</th>\n",
       "      <td>0.433627</td>\n",
       "      <td>0.027360</td>\n",
       "      <td>0.478431</td>\n",
       "      <td>0.403433</td>\n",
       "      <td>5.0</td>\n",
       "      <td>2.0</td>\n",
       "      <td>5.0</td>\n",
       "    </tr>\n",
       "    <tr>\n",
       "      <th>28</th>\n",
       "      <td>0.431268</td>\n",
       "      <td>0.033417</td>\n",
       "      <td>0.490272</td>\n",
       "      <td>0.400000</td>\n",
       "      <td>5.0</td>\n",
       "      <td>3.0</td>\n",
       "      <td>5.0</td>\n",
       "    </tr>\n",
       "    <tr>\n",
       "      <th>32</th>\n",
       "      <td>0.430054</td>\n",
       "      <td>0.029430</td>\n",
       "      <td>0.478431</td>\n",
       "      <td>0.392000</td>\n",
       "      <td>5.0</td>\n",
       "      <td>4.0</td>\n",
       "      <td>5.0</td>\n",
       "    </tr>\n",
       "    <tr>\n",
       "      <th>36</th>\n",
       "      <td>0.426837</td>\n",
       "      <td>0.030232</td>\n",
       "      <td>0.478431</td>\n",
       "      <td>0.398406</td>\n",
       "      <td>5.0</td>\n",
       "      <td>5.0</td>\n",
       "      <td>5.0</td>\n",
       "    </tr>\n",
       "    <tr>\n",
       "      <th>60</th>\n",
       "      <td>0.424089</td>\n",
       "      <td>0.030144</td>\n",
       "      <td>0.469565</td>\n",
       "      <td>0.390909</td>\n",
       "      <td>15.0</td>\n",
       "      <td>1.0</td>\n",
       "      <td>5.0</td>\n",
       "    </tr>\n",
       "    <tr>\n",
       "      <th>64</th>\n",
       "      <td>0.417124</td>\n",
       "      <td>0.029022</td>\n",
       "      <td>0.452174</td>\n",
       "      <td>0.372727</td>\n",
       "      <td>15.0</td>\n",
       "      <td>2.0</td>\n",
       "      <td>5.0</td>\n",
       "    </tr>\n",
       "    <tr>\n",
       "      <th>68</th>\n",
       "      <td>0.413252</td>\n",
       "      <td>0.027019</td>\n",
       "      <td>0.462882</td>\n",
       "      <td>0.383562</td>\n",
       "      <td>15.0</td>\n",
       "      <td>3.0</td>\n",
       "      <td>5.0</td>\n",
       "    </tr>\n",
       "    <tr>\n",
       "      <th>80</th>\n",
       "      <td>0.409705</td>\n",
       "      <td>0.029970</td>\n",
       "      <td>0.449541</td>\n",
       "      <td>0.379630</td>\n",
       "      <td>20.0</td>\n",
       "      <td>1.0</td>\n",
       "      <td>5.0</td>\n",
       "    </tr>\n",
       "    <tr>\n",
       "      <th>72</th>\n",
       "      <td>0.407478</td>\n",
       "      <td>0.030608</td>\n",
       "      <td>0.464912</td>\n",
       "      <td>0.374429</td>\n",
       "      <td>15.0</td>\n",
       "      <td>4.0</td>\n",
       "      <td>5.0</td>\n",
       "    </tr>\n",
       "  </tbody>\n",
       "</table>\n",
       "</div>"
      ],
      "text/plain": [
       "    mean_score  std_score  max_score  min_score  knn__n_neighbors  knn__p  \\\n",
       "20    0.434065   0.014833   0.451613   0.415254               5.0     1.0   \n",
       "24    0.433627   0.027360   0.478431   0.403433               5.0     2.0   \n",
       "28    0.431268   0.033417   0.490272   0.400000               5.0     3.0   \n",
       "32    0.430054   0.029430   0.478431   0.392000               5.0     4.0   \n",
       "36    0.426837   0.030232   0.478431   0.398406               5.0     5.0   \n",
       "60    0.424089   0.030144   0.469565   0.390909              15.0     1.0   \n",
       "64    0.417124   0.029022   0.452174   0.372727              15.0     2.0   \n",
       "68    0.413252   0.027019   0.462882   0.383562              15.0     3.0   \n",
       "80    0.409705   0.029970   0.449541   0.379630              20.0     1.0   \n",
       "72    0.407478   0.030608   0.464912   0.374429              15.0     4.0   \n",
       "\n",
       "    rfi_fs__n_features_  \n",
       "20                  5.0  \n",
       "24                  5.0  \n",
       "28                  5.0  \n",
       "32                  5.0  \n",
       "36                  5.0  \n",
       "60                  5.0  \n",
       "64                  5.0  \n",
       "68                  5.0  \n",
       "80                  5.0  \n",
       "72                  5.0  "
      ]
     },
     "execution_count": 40,
     "metadata": {},
     "output_type": "execute_result"
    }
   ],
   "source": [
    "fit_out_knn[\"result_df\"].head(10)"
   ]
  },
  {
   "cell_type": "code",
   "execution_count": 41,
   "metadata": {},
   "outputs": [
    {
     "data": {
      "text/html": [
       "\n",
       "<div id=\"altair-viz-c615367e2f6a4e7a91e63cca28711bd4\"></div>\n",
       "<script type=\"text/javascript\">\n",
       "  (function(spec, embedOpt){\n",
       "    let outputDiv = document.currentScript.previousElementSibling;\n",
       "    if (outputDiv.id !== \"altair-viz-c615367e2f6a4e7a91e63cca28711bd4\") {\n",
       "      outputDiv = document.getElementById(\"altair-viz-c615367e2f6a4e7a91e63cca28711bd4\");\n",
       "    }\n",
       "    const paths = {\n",
       "      \"vega\": \"https://cdn.jsdelivr.net/npm//vega@5?noext\",\n",
       "      \"vega-lib\": \"https://cdn.jsdelivr.net/npm//vega-lib?noext\",\n",
       "      \"vega-lite\": \"https://cdn.jsdelivr.net/npm//vega-lite@4.8.1?noext\",\n",
       "      \"vega-embed\": \"https://cdn.jsdelivr.net/npm//vega-embed@6?noext\",\n",
       "    };\n",
       "\n",
       "    function loadScript(lib) {\n",
       "      return new Promise(function(resolve, reject) {\n",
       "        var s = document.createElement('script');\n",
       "        s.src = paths[lib];\n",
       "        s.async = true;\n",
       "        s.onload = () => resolve(paths[lib]);\n",
       "        s.onerror = () => reject(`Error loading script: ${paths[lib]}`);\n",
       "        document.getElementsByTagName(\"head\")[0].appendChild(s);\n",
       "      });\n",
       "    }\n",
       "\n",
       "    function showError(err) {\n",
       "      outputDiv.innerHTML = `<div class=\"error\" style=\"color:red;\">${err}</div>`;\n",
       "      throw err;\n",
       "    }\n",
       "\n",
       "    function displayChart(vegaEmbed) {\n",
       "      vegaEmbed(outputDiv, spec, embedOpt)\n",
       "        .catch(err => showError(`Javascript Error: ${err.message}<br>This usually means there's a typo in your chart specification. See the javascript console for the full traceback.`));\n",
       "    }\n",
       "\n",
       "    if(typeof define === \"function\" && define.amd) {\n",
       "      requirejs.config({paths});\n",
       "      require([\"vega-embed\"], displayChart, err => showError(`Error loading script: ${err.message}`));\n",
       "    } else if (typeof vegaEmbed === \"function\") {\n",
       "      displayChart(vegaEmbed);\n",
       "    } else {\n",
       "      loadScript(\"vega\")\n",
       "        .then(() => loadScript(\"vega-lite\"))\n",
       "        .then(() => loadScript(\"vega-embed\"))\n",
       "        .catch(showError)\n",
       "        .then(() => displayChart(vegaEmbed));\n",
       "    }\n",
       "  })({\"config\": {\"view\": {\"continuousWidth\": 400, \"continuousHeight\": 300}}, \"data\": {\"name\": \"data-fb0c724ca2ad4bfab676320d58fe69eb\"}, \"mark\": {\"type\": \"line\", \"point\": true}, \"encoding\": {\"color\": {\"type\": \"nominal\", \"field\": \"knn__p\", \"title\": \"p\"}, \"x\": {\"type\": \"quantitative\", \"field\": \"knn__n_neighbors\", \"title\": \"Number of Neighbors\"}, \"y\": {\"type\": \"quantitative\", \"field\": \"mean_score\", \"scale\": {\"zero\": false}, \"title\": \"F1 Score\"}}, \"title\": \"KNN Performance Comparison with 5 Features\", \"$schema\": \"https://vega.github.io/schema/vega-lite/v4.8.1.json\", \"datasets\": {\"data-fb0c724ca2ad4bfab676320d58fe69eb\": [{\"mean_score\": 0.4340646058938294, \"std_score\": 0.014832525453305882, \"max_score\": 0.45161290322580644, \"min_score\": 0.4152542372881356, \"knn__n_neighbors\": 5.0, \"knn__p\": 1.0, \"rfi_fs__n_features_\": 5.0}, {\"mean_score\": 0.43362660066242115, \"std_score\": 0.027359564511611676, \"max_score\": 0.47843137254901963, \"min_score\": 0.40343347639484983, \"knn__n_neighbors\": 5.0, \"knn__p\": 2.0, \"rfi_fs__n_features_\": 5.0}, {\"mean_score\": 0.43126834058367497, \"std_score\": 0.033416781234048294, \"max_score\": 0.490272373540856, \"min_score\": 0.4, \"knn__n_neighbors\": 5.0, \"knn__p\": 3.0, \"rfi_fs__n_features_\": 5.0}, {\"mean_score\": 0.43005414614207665, \"std_score\": 0.029429662569350153, \"max_score\": 0.47843137254901963, \"min_score\": 0.392, \"knn__n_neighbors\": 5.0, \"knn__p\": 4.0, \"rfi_fs__n_features_\": 5.0}, {\"mean_score\": 0.4268365391548422, \"std_score\": 0.03023151387649579, \"max_score\": 0.47843137254901963, \"min_score\": 0.39840637450199207, \"knn__n_neighbors\": 5.0, \"knn__p\": 5.0, \"rfi_fs__n_features_\": 5.0}, {\"mean_score\": 0.4240891372337015, \"std_score\": 0.030143791617441795, \"max_score\": 0.46956521739130425, \"min_score\": 0.39090909090909093, \"knn__n_neighbors\": 15.0, \"knn__p\": 1.0, \"rfi_fs__n_features_\": 5.0}, {\"mean_score\": 0.41712370684520145, \"std_score\": 0.029021622271953176, \"max_score\": 0.4521739130434783, \"min_score\": 0.37272727272727274, \"knn__n_neighbors\": 15.0, \"knn__p\": 2.0, \"rfi_fs__n_features_\": 5.0}, {\"mean_score\": 0.4132524854932217, \"std_score\": 0.027019426183342653, \"max_score\": 0.462882096069869, \"min_score\": 0.3835616438356165, \"knn__n_neighbors\": 15.0, \"knn__p\": 3.0, \"rfi_fs__n_features_\": 5.0}, {\"mean_score\": 0.4097054219240789, \"std_score\": 0.029970169402405107, \"max_score\": 0.44954128440366964, \"min_score\": 0.3796296296296296, \"knn__n_neighbors\": 20.0, \"knn__p\": 1.0, \"rfi_fs__n_features_\": 5.0}, {\"mean_score\": 0.4074780200699816, \"std_score\": 0.030607749368263684, \"max_score\": 0.46491228070175444, \"min_score\": 0.3744292237442922, \"knn__n_neighbors\": 15.0, \"knn__p\": 4.0, \"rfi_fs__n_features_\": 5.0}, {\"mean_score\": 0.4062865334683384, \"std_score\": 0.018304076693493834, \"max_score\": 0.43518518518518523, \"min_score\": 0.3864734299516908, \"knn__n_neighbors\": 20.0, \"knn__p\": 4.0, \"rfi_fs__n_features_\": 5.0}, {\"mean_score\": 0.40536983984473834, \"std_score\": 0.031664955356029756, \"max_score\": 0.4601769911504426, \"min_score\": 0.36697247706422015, \"knn__n_neighbors\": 15.0, \"knn__p\": 5.0, \"rfi_fs__n_features_\": 5.0}, {\"mean_score\": 0.4046441635952636, \"std_score\": 0.022878749851851333, \"max_score\": 0.43518518518518523, \"min_score\": 0.37073170731707317, \"knn__n_neighbors\": 20.0, \"knn__p\": 5.0, \"rfi_fs__n_features_\": 5.0}, {\"mean_score\": 0.4045120399355889, \"std_score\": 0.017021965316890916, \"max_score\": 0.427906976744186, \"min_score\": 0.3835616438356165, \"knn__n_neighbors\": 20.0, \"knn__p\": 3.0, \"rfi_fs__n_features_\": 5.0}, {\"mean_score\": 0.40386169407983347, \"std_score\": 0.01606442767650158, \"max_score\": 0.4247787610619469, \"min_score\": 0.3761467889908257, \"knn__n_neighbors\": 10.0, \"knn__p\": 1.0, \"rfi_fs__n_features_\": 5.0}, {\"mean_score\": 0.40214898620909817, \"std_score\": 0.02548735496343283, \"max_score\": 0.43518518518518523, \"min_score\": 0.3686635944700461, \"knn__n_neighbors\": 20.0, \"knn__p\": 2.0, \"rfi_fs__n_features_\": 5.0}, {\"mean_score\": 0.3994048550776354, \"std_score\": 0.02774594283823657, \"max_score\": 0.4473684210526316, \"min_score\": 0.3686635944700461, \"knn__n_neighbors\": 10.0, \"knn__p\": 2.0, \"rfi_fs__n_features_\": 5.0}, {\"mean_score\": 0.39938119591626187, \"std_score\": 0.02801066535939089, \"max_score\": 0.44933920704845814, \"min_score\": 0.36448598130841126, \"knn__n_neighbors\": 10.0, \"knn__p\": 3.0, \"rfi_fs__n_features_\": 5.0}, {\"mean_score\": 0.39730183099288696, \"std_score\": 0.04087758839794541, \"max_score\": 0.4542372881355932, \"min_score\": 0.338235294117647, \"knn__n_neighbors\": 1.0, \"knn__p\": 5.0, \"rfi_fs__n_features_\": 5.0}, {\"mean_score\": 0.3946648254999881, \"std_score\": 0.03912152770741275, \"max_score\": 0.4489795918367347, \"min_score\": 0.33699633699633696, \"knn__n_neighbors\": 1.0, \"knn__p\": 4.0, \"rfi_fs__n_features_\": 5.0}, {\"mean_score\": 0.39462939024675064, \"std_score\": 0.040800847754557196, \"max_score\": 0.4474576271186441, \"min_score\": 0.3357664233576642, \"knn__n_neighbors\": 1.0, \"knn__p\": 3.0, \"rfi_fs__n_features_\": 5.0}, {\"mean_score\": 0.39441663854966336, \"std_score\": 0.030604653145320536, \"max_score\": 0.44933920704845814, \"min_score\": 0.35680751173708924, \"knn__n_neighbors\": 10.0, \"knn__p\": 4.0, \"rfi_fs__n_features_\": 5.0}, {\"mean_score\": 0.39383949828512943, \"std_score\": 0.028778475180564755, \"max_score\": 0.4444444444444444, \"min_score\": 0.35680751173708924, \"knn__n_neighbors\": 10.0, \"knn__p\": 5.0, \"rfi_fs__n_features_\": 5.0}, {\"mean_score\": 0.39336978416791546, \"std_score\": 0.0457402531427111, \"max_score\": 0.4496644295302013, \"min_score\": 0.3272727272727273, \"knn__n_neighbors\": 1.0, \"knn__p\": 2.0, \"rfi_fs__n_features_\": 5.0}, {\"mean_score\": 0.3933205091982629, \"std_score\": 0.03953023476004827, \"max_score\": 0.45117845117845123, \"min_score\": 0.3453237410071942, \"knn__n_neighbors\": 1.0, \"knn__p\": 1.0, \"rfi_fs__n_features_\": 5.0}]}}, {\"mode\": \"vega-lite\"});\n",
       "</script>"
      ],
      "text/plain": [
       "alt.Chart(...)"
      ]
     },
     "execution_count": 41,
     "metadata": {},
     "output_type": "execute_result"
    }
   ],
   "source": [
    "alt.renderers.enable('default')\n",
    "fit_out_knn[\"chart\"]"
   ]
  },
  {
   "cell_type": "code",
   "execution_count": 42,
   "metadata": {
    "scrolled": true
   },
   "outputs": [
    {
     "data": {
      "text/html": [
       "<div>\n",
       "<style scoped>\n",
       "    .dataframe tbody tr th:only-of-type {\n",
       "        vertical-align: middle;\n",
       "    }\n",
       "\n",
       "    .dataframe tbody tr th {\n",
       "        vertical-align: top;\n",
       "    }\n",
       "\n",
       "    .dataframe thead th {\n",
       "        text-align: right;\n",
       "    }\n",
       "</style>\n",
       "<table border=\"1\" class=\"dataframe\">\n",
       "  <thead>\n",
       "    <tr style=\"text-align: right;\">\n",
       "      <th></th>\n",
       "      <th>Model</th>\n",
       "      <th>Train_F1_Score</th>\n",
       "      <th>Test_F1_Score</th>\n",
       "      <th>Selected</th>\n",
       "    </tr>\n",
       "  </thead>\n",
       "  <tbody>\n",
       "    <tr>\n",
       "      <th>0</th>\n",
       "      <td>KNN</td>\n",
       "      <td>0.434</td>\n",
       "      <td>0.459</td>\n",
       "      <td>False</td>\n",
       "    </tr>\n",
       "  </tbody>\n",
       "</table>\n",
       "</div>"
      ],
      "text/plain": [
       "  Model  Train_F1_Score  Test_F1_Score Selected\n",
       "0   KNN           0.434          0.459    False"
      ]
     },
     "execution_count": 42,
     "metadata": {},
     "output_type": "execute_result"
    }
   ],
   "source": [
    "Models_Eval = Models_Eval.append(fit_out_knn[\"Eval\"],ignore_index=True)\n",
    "Models_Eval.round(3)"
   ]
  },
  {
   "cell_type": "markdown",
   "metadata": {},
   "source": [
    "The best training and test F1 score resulted by the KNN is 0.43 and 0.45 respectively. At this stage, the above algorithm is flagged false until it is compared with other algorithms below. "
   ]
  },
  {
   "cell_type": "markdown",
   "metadata": {},
   "source": [
    "## <a>Naive Bayes</a>"
   ]
  },
  {
   "cell_type": "markdown",
   "metadata": {},
   "source": [
    " The only difference in the Naive Bayes over other model evaluation strategy is we will use power transformed trained and test dataset as mentioned in the fit tune function above."
   ]
  },
  {
   "cell_type": "code",
   "execution_count": 43,
   "metadata": {},
   "outputs": [
    {
     "name": "stdout",
     "output_type": "stream",
     "text": [
      "Fitting 5 folds for each of 20 candidates, totalling 100 fits\n"
     ]
    },
    {
     "name": "stderr",
     "output_type": "stream",
     "text": [
      "[Parallel(n_jobs=-2)]: Using backend LokyBackend with 3 concurrent workers.\n",
      "[Parallel(n_jobs=-2)]: Done  44 tasks      | elapsed:   14.9s\n",
      "[Parallel(n_jobs=-2)]: Done 100 out of 100 | elapsed:   40.0s finished\n"
     ]
    }
   ],
   "source": [
    "pipe_NB = [('rfi_fs', RFIFeatureSelector()), \n",
    "                     ('nb', GaussianNB())]\n",
    "\n",
    "params_pipe_NB = {'rfi_fs__n_features_': [10, 20, Data.shape[1]],\n",
    "                  'nb__var_smoothing': np.logspace(1,-3, num=200)}\n",
    "\n",
    "fit_out_NB=fit_tune(pipe_NB,params_pipe_NB,\"Naive Bayes\",\"nb__var_smoothing\",\"Number of Neighbors\",\"nb__var_smoothing\",\"Number of Neighbors\",\"Random\")\n"
   ]
  },
  {
   "cell_type": "code",
   "execution_count": 44,
   "metadata": {},
   "outputs": [
    {
     "data": {
      "text/plain": [
       "{'rfi_fs__n_features_': 29, 'nb__var_smoothing': 0.5170920242896758}"
      ]
     },
     "execution_count": 44,
     "metadata": {},
     "output_type": "execute_result"
    }
   ],
   "source": [
    "fit_out_NB[\"best_param\"]"
   ]
  },
  {
   "cell_type": "markdown",
   "metadata": {},
   "source": [
    "These are the best parameter values of Naive Bayes selected by the GRID search CV in combination with RFI. "
   ]
  },
  {
   "cell_type": "code",
   "execution_count": 45,
   "metadata": {},
   "outputs": [
    {
     "data": {
      "text/html": [
       "<div>\n",
       "<style scoped>\n",
       "    .dataframe tbody tr th:only-of-type {\n",
       "        vertical-align: middle;\n",
       "    }\n",
       "\n",
       "    .dataframe tbody tr th {\n",
       "        vertical-align: top;\n",
       "    }\n",
       "\n",
       "    .dataframe thead th {\n",
       "        text-align: right;\n",
       "    }\n",
       "</style>\n",
       "<table border=\"1\" class=\"dataframe\">\n",
       "  <thead>\n",
       "    <tr style=\"text-align: right;\">\n",
       "      <th></th>\n",
       "      <th>mean_score</th>\n",
       "      <th>std_score</th>\n",
       "      <th>max_score</th>\n",
       "      <th>min_score</th>\n",
       "      <th>rfi_fs__n_features_</th>\n",
       "      <th>nb__var_smoothing</th>\n",
       "    </tr>\n",
       "  </thead>\n",
       "  <tbody>\n",
       "    <tr>\n",
       "      <th>16</th>\n",
       "      <td>0.475531</td>\n",
       "      <td>0.026764</td>\n",
       "      <td>0.525597</td>\n",
       "      <td>0.451827</td>\n",
       "      <td>29.0</td>\n",
       "      <td>0.517092</td>\n",
       "    </tr>\n",
       "    <tr>\n",
       "      <th>15</th>\n",
       "      <td>0.458900</td>\n",
       "      <td>0.019534</td>\n",
       "      <td>0.481481</td>\n",
       "      <td>0.434286</td>\n",
       "      <td>29.0</td>\n",
       "      <td>0.235429</td>\n",
       "    </tr>\n",
       "    <tr>\n",
       "      <th>0</th>\n",
       "      <td>0.442960</td>\n",
       "      <td>0.024335</td>\n",
       "      <td>0.480198</td>\n",
       "      <td>0.413302</td>\n",
       "      <td>29.0</td>\n",
       "      <td>0.013987</td>\n",
       "    </tr>\n",
       "    <tr>\n",
       "      <th>12</th>\n",
       "      <td>0.441525</td>\n",
       "      <td>0.025743</td>\n",
       "      <td>0.482587</td>\n",
       "      <td>0.411483</td>\n",
       "      <td>29.0</td>\n",
       "      <td>0.018464</td>\n",
       "    </tr>\n",
       "    <tr>\n",
       "      <th>18</th>\n",
       "      <td>0.440802</td>\n",
       "      <td>0.026636</td>\n",
       "      <td>0.479218</td>\n",
       "      <td>0.405594</td>\n",
       "      <td>29.0</td>\n",
       "      <td>0.004606</td>\n",
       "    </tr>\n",
       "    <tr>\n",
       "      <th>14</th>\n",
       "      <td>0.439699</td>\n",
       "      <td>0.027722</td>\n",
       "      <td>0.479218</td>\n",
       "      <td>0.405594</td>\n",
       "      <td>29.0</td>\n",
       "      <td>0.002524</td>\n",
       "    </tr>\n",
       "    <tr>\n",
       "      <th>1</th>\n",
       "      <td>0.437829</td>\n",
       "      <td>0.028641</td>\n",
       "      <td>0.476886</td>\n",
       "      <td>0.403727</td>\n",
       "      <td>29.0</td>\n",
       "      <td>0.001664</td>\n",
       "    </tr>\n",
       "    <tr>\n",
       "      <th>4</th>\n",
       "      <td>0.275177</td>\n",
       "      <td>0.058193</td>\n",
       "      <td>0.384615</td>\n",
       "      <td>0.219780</td>\n",
       "      <td>29.0</td>\n",
       "      <td>2.736440</td>\n",
       "    </tr>\n",
       "    <tr>\n",
       "      <th>5</th>\n",
       "      <td>0.046456</td>\n",
       "      <td>0.026180</td>\n",
       "      <td>0.076923</td>\n",
       "      <td>0.013158</td>\n",
       "      <td>29.0</td>\n",
       "      <td>6.010277</td>\n",
       "    </tr>\n",
       "  </tbody>\n",
       "</table>\n",
       "</div>"
      ],
      "text/plain": [
       "    mean_score  std_score  max_score  min_score  rfi_fs__n_features_  \\\n",
       "16    0.475531   0.026764   0.525597   0.451827                 29.0   \n",
       "15    0.458900   0.019534   0.481481   0.434286                 29.0   \n",
       "0     0.442960   0.024335   0.480198   0.413302                 29.0   \n",
       "12    0.441525   0.025743   0.482587   0.411483                 29.0   \n",
       "18    0.440802   0.026636   0.479218   0.405594                 29.0   \n",
       "14    0.439699   0.027722   0.479218   0.405594                 29.0   \n",
       "1     0.437829   0.028641   0.476886   0.403727                 29.0   \n",
       "4     0.275177   0.058193   0.384615   0.219780                 29.0   \n",
       "5     0.046456   0.026180   0.076923   0.013158                 29.0   \n",
       "\n",
       "    nb__var_smoothing  \n",
       "16           0.517092  \n",
       "15           0.235429  \n",
       "0            0.013987  \n",
       "12           0.018464  \n",
       "18           0.004606  \n",
       "14           0.002524  \n",
       "1            0.001664  \n",
       "4            2.736440  \n",
       "5            6.010277  "
      ]
     },
     "execution_count": 45,
     "metadata": {},
     "output_type": "execute_result"
    }
   ],
   "source": [
    "fit_out_NB[\"result_df\"].head(10)"
   ]
  },
  {
   "cell_type": "code",
   "execution_count": 46,
   "metadata": {
    "scrolled": true
   },
   "outputs": [
    {
     "data": {
      "text/html": [
       "\n",
       "<div id=\"altair-viz-ac07796664094a979cc668c9ba49adfc\"></div>\n",
       "<script type=\"text/javascript\">\n",
       "  (function(spec, embedOpt){\n",
       "    let outputDiv = document.currentScript.previousElementSibling;\n",
       "    if (outputDiv.id !== \"altair-viz-ac07796664094a979cc668c9ba49adfc\") {\n",
       "      outputDiv = document.getElementById(\"altair-viz-ac07796664094a979cc668c9ba49adfc\");\n",
       "    }\n",
       "    const paths = {\n",
       "      \"vega\": \"https://cdn.jsdelivr.net/npm//vega@5?noext\",\n",
       "      \"vega-lib\": \"https://cdn.jsdelivr.net/npm//vega-lib?noext\",\n",
       "      \"vega-lite\": \"https://cdn.jsdelivr.net/npm//vega-lite@4.8.1?noext\",\n",
       "      \"vega-embed\": \"https://cdn.jsdelivr.net/npm//vega-embed@6?noext\",\n",
       "    };\n",
       "\n",
       "    function loadScript(lib) {\n",
       "      return new Promise(function(resolve, reject) {\n",
       "        var s = document.createElement('script');\n",
       "        s.src = paths[lib];\n",
       "        s.async = true;\n",
       "        s.onload = () => resolve(paths[lib]);\n",
       "        s.onerror = () => reject(`Error loading script: ${paths[lib]}`);\n",
       "        document.getElementsByTagName(\"head\")[0].appendChild(s);\n",
       "      });\n",
       "    }\n",
       "\n",
       "    function showError(err) {\n",
       "      outputDiv.innerHTML = `<div class=\"error\" style=\"color:red;\">${err}</div>`;\n",
       "      throw err;\n",
       "    }\n",
       "\n",
       "    function displayChart(vegaEmbed) {\n",
       "      vegaEmbed(outputDiv, spec, embedOpt)\n",
       "        .catch(err => showError(`Javascript Error: ${err.message}<br>This usually means there's a typo in your chart specification. See the javascript console for the full traceback.`));\n",
       "    }\n",
       "\n",
       "    if(typeof define === \"function\" && define.amd) {\n",
       "      requirejs.config({paths});\n",
       "      require([\"vega-embed\"], displayChart, err => showError(`Error loading script: ${err.message}`));\n",
       "    } else if (typeof vegaEmbed === \"function\") {\n",
       "      displayChart(vegaEmbed);\n",
       "    } else {\n",
       "      loadScript(\"vega\")\n",
       "        .then(() => loadScript(\"vega-lite\"))\n",
       "        .then(() => loadScript(\"vega-embed\"))\n",
       "        .catch(showError)\n",
       "        .then(() => displayChart(vegaEmbed));\n",
       "    }\n",
       "  })({\"config\": {\"view\": {\"continuousWidth\": 400, \"continuousHeight\": 300}}, \"data\": {\"name\": \"data-aeae0c3403d411a995fded4e473fee68\"}, \"mark\": {\"type\": \"line\", \"point\": true}, \"encoding\": {\"x\": {\"type\": \"quantitative\", \"field\": \"nb__var_smoothing\", \"title\": \"Number of Neighbors\"}, \"y\": {\"type\": \"quantitative\", \"field\": \"mean_score\", \"scale\": {\"zero\": false}, \"title\": \"F1 Score\"}}, \"title\": \"Naive Bayes Performance Comparison with 29 Features\", \"$schema\": \"https://vega.github.io/schema/vega-lite/v4.8.1.json\", \"datasets\": {\"data-aeae0c3403d411a995fded4e473fee68\": [{\"mean_score\": 0.47553092352289905, \"std_score\": 0.026763565484006577, \"max_score\": 0.5255972696245734, \"min_score\": 0.45182724252491696, \"rfi_fs__n_features_\": 29.0, \"nb__var_smoothing\": 0.5170920242896758}, {\"mean_score\": 0.45890018965503965, \"std_score\": 0.019533880576001014, \"max_score\": 0.48148148148148145, \"min_score\": 0.43428571428571433, \"rfi_fs__n_features_\": 29.0, \"nb__var_smoothing\": 0.2354286414322418}, {\"mean_score\": 0.44295969265693247, \"std_score\": 0.02433521433886875, \"max_score\": 0.4801980198019801, \"min_score\": 0.41330166270783847, \"rfi_fs__n_features_\": 29.0, \"nb__var_smoothing\": 0.013987131026472387}, {\"mean_score\": 0.44152468458880667, \"std_score\": 0.025743010899993504, \"max_score\": 0.4825870646766169, \"min_score\": 0.41148325358851673, \"rfi_fs__n_features_\": 29.0, \"nb__var_smoothing\": 0.018464249428955443}, {\"mean_score\": 0.44080226206825357, \"std_score\": 0.02663571428636148, \"max_score\": 0.47921760391198037, \"min_score\": 0.40559440559440557, \"rfi_fs__n_features_\": 29.0, \"nb__var_smoothing\": 0.004605922041145104}, {\"mean_score\": 0.4396987287580389, \"std_score\": 0.027721804904077618, \"max_score\": 0.47921760391198037, \"min_score\": 0.40559440559440557, \"rfi_fs__n_features_\": 29.0, \"nb__var_smoothing\": 0.0025235391704347657}, {\"mean_score\": 0.4378291793342104, \"std_score\": 0.02864145369517832, \"max_score\": 0.4768856447688564, \"min_score\": 0.40372670807453415, \"rfi_fs__n_features_\": 29.0, \"nb__var_smoothing\": 0.001663816886076129}, {\"mean_score\": 0.27517691134712413, \"std_score\": 0.05819281057053754, \"max_score\": 0.38461538461538464, \"min_score\": 0.21978021978021978, \"rfi_fs__n_features_\": 29.0, \"nb__var_smoothing\": 2.7364399970746707}, {\"mean_score\": 0.046456175403543826, \"std_score\": 0.026180343341735416, \"max_score\": 0.07692307692307693, \"min_score\": 0.013157894736842105, \"rfi_fs__n_features_\": 29.0, \"nb__var_smoothing\": 6.010276782070382}]}}, {\"mode\": \"vega-lite\"});\n",
       "</script>"
      ],
      "text/plain": [
       "alt.Chart(...)"
      ]
     },
     "execution_count": 46,
     "metadata": {},
     "output_type": "execute_result"
    }
   ],
   "source": [
    "from vega_datasets import data\n",
    "alt.renderers.enable('default')\n",
    "fit_out_NB[\"chart\"]"
   ]
  },
  {
   "cell_type": "code",
   "execution_count": 47,
   "metadata": {},
   "outputs": [
    {
     "data": {
      "text/html": [
       "<div>\n",
       "<style scoped>\n",
       "    .dataframe tbody tr th:only-of-type {\n",
       "        vertical-align: middle;\n",
       "    }\n",
       "\n",
       "    .dataframe tbody tr th {\n",
       "        vertical-align: top;\n",
       "    }\n",
       "\n",
       "    .dataframe thead th {\n",
       "        text-align: right;\n",
       "    }\n",
       "</style>\n",
       "<table border=\"1\" class=\"dataframe\">\n",
       "  <thead>\n",
       "    <tr style=\"text-align: right;\">\n",
       "      <th></th>\n",
       "      <th>Model</th>\n",
       "      <th>Train_F1_Score</th>\n",
       "      <th>Test_F1_Score</th>\n",
       "      <th>Selected</th>\n",
       "    </tr>\n",
       "  </thead>\n",
       "  <tbody>\n",
       "    <tr>\n",
       "      <th>0</th>\n",
       "      <td>KNN</td>\n",
       "      <td>0.434</td>\n",
       "      <td>0.459</td>\n",
       "      <td>False</td>\n",
       "    </tr>\n",
       "    <tr>\n",
       "      <th>1</th>\n",
       "      <td>Naive Bayes</td>\n",
       "      <td>0.476</td>\n",
       "      <td>0.461</td>\n",
       "      <td>False</td>\n",
       "    </tr>\n",
       "  </tbody>\n",
       "</table>\n",
       "</div>"
      ],
      "text/plain": [
       "         Model  Train_F1_Score  Test_F1_Score Selected\n",
       "0          KNN           0.434          0.459    False\n",
       "1  Naive Bayes           0.476          0.461    False"
      ]
     },
     "execution_count": 47,
     "metadata": {},
     "output_type": "execute_result"
    }
   ],
   "source": [
    "Models_Eval = Models_Eval.append(fit_out_NB[\"Eval\"],ignore_index=True)\n",
    "Models_Eval.round(3)"
   ]
  },
  {
   "cell_type": "markdown",
   "metadata": {},
   "source": [
    "The best training and test F1 score resulted by the Naive Bayes are 0.47 and 0.46 respectively. At this stage, the above algorithm is flagged false until KNN and Naive Bayes are compared with other algorithms below. However, at this stage Naive Bayes seems to perform better.  "
   ]
  },
  {
   "cell_type": "markdown",
   "metadata": {},
   "source": [
    "## <a>Decision Tree</a>"
   ]
  },
  {
   "cell_type": "code",
   "execution_count": 48,
   "metadata": {},
   "outputs": [
    {
     "name": "stdout",
     "output_type": "stream",
     "text": [
      "Fitting 5 folds for each of 48 candidates, totalling 240 fits\n"
     ]
    },
    {
     "name": "stderr",
     "output_type": "stream",
     "text": [
      "[Parallel(n_jobs=-2)]: Using backend LokyBackend with 3 concurrent workers.\n",
      "[Parallel(n_jobs=-2)]: Done  44 tasks      | elapsed:   15.1s\n",
      "[Parallel(n_jobs=-2)]: Done 194 tasks      | elapsed:  1.2min\n",
      "[Parallel(n_jobs=-2)]: Done 240 out of 240 | elapsed:  1.4min finished\n"
     ]
    }
   ],
   "source": [
    "pipe_DT = [('rfi_fs', RFIFeatureSelector()),\n",
    "                    ('dt', DecisionTreeClassifier(criterion='gini', random_state=999))]\n",
    "\n",
    "params_pipe_DT = {'rfi_fs__n_features_': [20, Data.shape[1]],\n",
    "                  'dt__max_depth': [4, 6, 7, 8, 10, 12],\n",
    "                  'dt__min_samples_split': [7, 10, 15, 20]}\n",
    "\n",
    "fit_out_DT=fit_tune(pipe_DT,params_pipe_DT,\"Decision Tree\",\"dt__min_samples_split\",\"Min Samples for Split\"\n",
    "                 ,\"dt__max_depth:N\",\"Max Depth\",\"Grid\")"
   ]
  },
  {
   "cell_type": "code",
   "execution_count": 49,
   "metadata": {},
   "outputs": [
    {
     "data": {
      "text/plain": [
       "{'dt__max_depth': 4, 'dt__min_samples_split': 15, 'rfi_fs__n_features_': 20}"
      ]
     },
     "execution_count": 49,
     "metadata": {},
     "output_type": "execute_result"
    }
   ],
   "source": [
    "fit_out_DT[\"best_param\"]"
   ]
  },
  {
   "cell_type": "markdown",
   "metadata": {},
   "source": [
    "These are the best parameter values of Decision Tree selected by the GRID search CV in combination with RFI. "
   ]
  },
  {
   "cell_type": "code",
   "execution_count": 50,
   "metadata": {},
   "outputs": [
    {
     "data": {
      "text/html": [
       "<div>\n",
       "<style scoped>\n",
       "    .dataframe tbody tr th:only-of-type {\n",
       "        vertical-align: middle;\n",
       "    }\n",
       "\n",
       "    .dataframe tbody tr th {\n",
       "        vertical-align: top;\n",
       "    }\n",
       "\n",
       "    .dataframe thead th {\n",
       "        text-align: right;\n",
       "    }\n",
       "</style>\n",
       "<table border=\"1\" class=\"dataframe\">\n",
       "  <thead>\n",
       "    <tr style=\"text-align: right;\">\n",
       "      <th></th>\n",
       "      <th>mean_score</th>\n",
       "      <th>std_score</th>\n",
       "      <th>max_score</th>\n",
       "      <th>min_score</th>\n",
       "      <th>dt__max_depth</th>\n",
       "      <th>dt__min_samples_split</th>\n",
       "      <th>rfi_fs__n_features_</th>\n",
       "    </tr>\n",
       "  </thead>\n",
       "  <tbody>\n",
       "    <tr>\n",
       "      <th>4</th>\n",
       "      <td>0.446565</td>\n",
       "      <td>0.038545</td>\n",
       "      <td>0.489796</td>\n",
       "      <td>0.398230</td>\n",
       "      <td>4.0</td>\n",
       "      <td>15.0</td>\n",
       "      <td>20.0</td>\n",
       "    </tr>\n",
       "    <tr>\n",
       "      <th>6</th>\n",
       "      <td>0.445656</td>\n",
       "      <td>0.038399</td>\n",
       "      <td>0.489796</td>\n",
       "      <td>0.398230</td>\n",
       "      <td>4.0</td>\n",
       "      <td>20.0</td>\n",
       "      <td>20.0</td>\n",
       "    </tr>\n",
       "    <tr>\n",
       "      <th>0</th>\n",
       "      <td>0.445283</td>\n",
       "      <td>0.038364</td>\n",
       "      <td>0.489796</td>\n",
       "      <td>0.398230</td>\n",
       "      <td>4.0</td>\n",
       "      <td>7.0</td>\n",
       "      <td>20.0</td>\n",
       "    </tr>\n",
       "    <tr>\n",
       "      <th>2</th>\n",
       "      <td>0.445283</td>\n",
       "      <td>0.038364</td>\n",
       "      <td>0.489796</td>\n",
       "      <td>0.398230</td>\n",
       "      <td>4.0</td>\n",
       "      <td>10.0</td>\n",
       "      <td>20.0</td>\n",
       "    </tr>\n",
       "    <tr>\n",
       "      <th>10</th>\n",
       "      <td>0.431936</td>\n",
       "      <td>0.047291</td>\n",
       "      <td>0.506122</td>\n",
       "      <td>0.365217</td>\n",
       "      <td>6.0</td>\n",
       "      <td>10.0</td>\n",
       "      <td>20.0</td>\n",
       "    </tr>\n",
       "    <tr>\n",
       "      <th>8</th>\n",
       "      <td>0.430091</td>\n",
       "      <td>0.049920</td>\n",
       "      <td>0.516393</td>\n",
       "      <td>0.365217</td>\n",
       "      <td>6.0</td>\n",
       "      <td>7.0</td>\n",
       "      <td>20.0</td>\n",
       "    </tr>\n",
       "    <tr>\n",
       "      <th>12</th>\n",
       "      <td>0.429511</td>\n",
       "      <td>0.041635</td>\n",
       "      <td>0.497959</td>\n",
       "      <td>0.379310</td>\n",
       "      <td>6.0</td>\n",
       "      <td>15.0</td>\n",
       "      <td>20.0</td>\n",
       "    </tr>\n",
       "    <tr>\n",
       "      <th>14</th>\n",
       "      <td>0.422975</td>\n",
       "      <td>0.050581</td>\n",
       "      <td>0.497925</td>\n",
       "      <td>0.346667</td>\n",
       "      <td>6.0</td>\n",
       "      <td>20.0</td>\n",
       "      <td>20.0</td>\n",
       "    </tr>\n",
       "    <tr>\n",
       "      <th>24</th>\n",
       "      <td>0.419639</td>\n",
       "      <td>0.031100</td>\n",
       "      <td>0.464730</td>\n",
       "      <td>0.373913</td>\n",
       "      <td>8.0</td>\n",
       "      <td>7.0</td>\n",
       "      <td>20.0</td>\n",
       "    </tr>\n",
       "    <tr>\n",
       "      <th>26</th>\n",
       "      <td>0.416240</td>\n",
       "      <td>0.032047</td>\n",
       "      <td>0.456000</td>\n",
       "      <td>0.367521</td>\n",
       "      <td>8.0</td>\n",
       "      <td>10.0</td>\n",
       "      <td>20.0</td>\n",
       "    </tr>\n",
       "  </tbody>\n",
       "</table>\n",
       "</div>"
      ],
      "text/plain": [
       "    mean_score  std_score  max_score  min_score  dt__max_depth  \\\n",
       "4     0.446565   0.038545   0.489796   0.398230            4.0   \n",
       "6     0.445656   0.038399   0.489796   0.398230            4.0   \n",
       "0     0.445283   0.038364   0.489796   0.398230            4.0   \n",
       "2     0.445283   0.038364   0.489796   0.398230            4.0   \n",
       "10    0.431936   0.047291   0.506122   0.365217            6.0   \n",
       "8     0.430091   0.049920   0.516393   0.365217            6.0   \n",
       "12    0.429511   0.041635   0.497959   0.379310            6.0   \n",
       "14    0.422975   0.050581   0.497925   0.346667            6.0   \n",
       "24    0.419639   0.031100   0.464730   0.373913            8.0   \n",
       "26    0.416240   0.032047   0.456000   0.367521            8.0   \n",
       "\n",
       "    dt__min_samples_split  rfi_fs__n_features_  \n",
       "4                    15.0                 20.0  \n",
       "6                    20.0                 20.0  \n",
       "0                     7.0                 20.0  \n",
       "2                    10.0                 20.0  \n",
       "10                   10.0                 20.0  \n",
       "8                     7.0                 20.0  \n",
       "12                   15.0                 20.0  \n",
       "14                   20.0                 20.0  \n",
       "24                    7.0                 20.0  \n",
       "26                   10.0                 20.0  "
      ]
     },
     "execution_count": 50,
     "metadata": {},
     "output_type": "execute_result"
    }
   ],
   "source": [
    "fit_out_DT[\"result_df\"].head(10)"
   ]
  },
  {
   "cell_type": "code",
   "execution_count": 51,
   "metadata": {},
   "outputs": [
    {
     "data": {
      "text/html": [
       "\n",
       "<div id=\"altair-viz-3c9f450a032b4ebd8eeddee80d8addc1\"></div>\n",
       "<script type=\"text/javascript\">\n",
       "  (function(spec, embedOpt){\n",
       "    let outputDiv = document.currentScript.previousElementSibling;\n",
       "    if (outputDiv.id !== \"altair-viz-3c9f450a032b4ebd8eeddee80d8addc1\") {\n",
       "      outputDiv = document.getElementById(\"altair-viz-3c9f450a032b4ebd8eeddee80d8addc1\");\n",
       "    }\n",
       "    const paths = {\n",
       "      \"vega\": \"https://cdn.jsdelivr.net/npm//vega@5?noext\",\n",
       "      \"vega-lib\": \"https://cdn.jsdelivr.net/npm//vega-lib?noext\",\n",
       "      \"vega-lite\": \"https://cdn.jsdelivr.net/npm//vega-lite@4.8.1?noext\",\n",
       "      \"vega-embed\": \"https://cdn.jsdelivr.net/npm//vega-embed@6?noext\",\n",
       "    };\n",
       "\n",
       "    function loadScript(lib) {\n",
       "      return new Promise(function(resolve, reject) {\n",
       "        var s = document.createElement('script');\n",
       "        s.src = paths[lib];\n",
       "        s.async = true;\n",
       "        s.onload = () => resolve(paths[lib]);\n",
       "        s.onerror = () => reject(`Error loading script: ${paths[lib]}`);\n",
       "        document.getElementsByTagName(\"head\")[0].appendChild(s);\n",
       "      });\n",
       "    }\n",
       "\n",
       "    function showError(err) {\n",
       "      outputDiv.innerHTML = `<div class=\"error\" style=\"color:red;\">${err}</div>`;\n",
       "      throw err;\n",
       "    }\n",
       "\n",
       "    function displayChart(vegaEmbed) {\n",
       "      vegaEmbed(outputDiv, spec, embedOpt)\n",
       "        .catch(err => showError(`Javascript Error: ${err.message}<br>This usually means there's a typo in your chart specification. See the javascript console for the full traceback.`));\n",
       "    }\n",
       "\n",
       "    if(typeof define === \"function\" && define.amd) {\n",
       "      requirejs.config({paths});\n",
       "      require([\"vega-embed\"], displayChart, err => showError(`Error loading script: ${err.message}`));\n",
       "    } else if (typeof vegaEmbed === \"function\") {\n",
       "      displayChart(vegaEmbed);\n",
       "    } else {\n",
       "      loadScript(\"vega\")\n",
       "        .then(() => loadScript(\"vega-lite\"))\n",
       "        .then(() => loadScript(\"vega-embed\"))\n",
       "        .catch(showError)\n",
       "        .then(() => displayChart(vegaEmbed));\n",
       "    }\n",
       "  })({\"config\": {\"view\": {\"continuousWidth\": 400, \"continuousHeight\": 300}}, \"data\": {\"name\": \"data-f2d9df782baf48417a7e40e575161e6a\"}, \"mark\": {\"type\": \"line\", \"point\": true}, \"encoding\": {\"color\": {\"type\": \"nominal\", \"field\": \"dt__max_depth\", \"title\": \"Max Depth\"}, \"x\": {\"type\": \"quantitative\", \"field\": \"dt__min_samples_split\", \"title\": \"Min Samples for Split\"}, \"y\": {\"type\": \"quantitative\", \"field\": \"mean_score\", \"scale\": {\"zero\": false}, \"title\": \"F1 Score\"}}, \"title\": \"Decision Tree Performance Comparison with 20 Features\", \"$schema\": \"https://vega.github.io/schema/vega-lite/v4.8.1.json\", \"datasets\": {\"data-f2d9df782baf48417a7e40e575161e6a\": [{\"mean_score\": 0.4465650703324534, \"std_score\": 0.03854504135965527, \"max_score\": 0.4897959183673469, \"min_score\": 0.3982300884955752, \"dt__max_depth\": 4.0, \"dt__min_samples_split\": 15.0, \"rfi_fs__n_features_\": 20.0}, {\"mean_score\": 0.4456559794233625, \"std_score\": 0.03839942980127854, \"max_score\": 0.4897959183673469, \"min_score\": 0.3982300884955752, \"dt__max_depth\": 4.0, \"dt__min_samples_split\": 20.0, \"rfi_fs__n_features_\": 20.0}, {\"mean_score\": 0.44528253543996, \"std_score\": 0.03836443084423426, \"max_score\": 0.4897959183673469, \"min_score\": 0.3982300884955752, \"dt__max_depth\": 4.0, \"dt__min_samples_split\": 7.0, \"rfi_fs__n_features_\": 20.0}, {\"mean_score\": 0.44528253543996, \"std_score\": 0.03836443084423426, \"max_score\": 0.4897959183673469, \"min_score\": 0.3982300884955752, \"dt__max_depth\": 4.0, \"dt__min_samples_split\": 10.0, \"rfi_fs__n_features_\": 20.0}, {\"mean_score\": 0.4319359280322831, \"std_score\": 0.04729087067344895, \"max_score\": 0.5061224489795919, \"min_score\": 0.3652173913043478, \"dt__max_depth\": 6.0, \"dt__min_samples_split\": 10.0, \"rfi_fs__n_features_\": 20.0}, {\"mean_score\": 0.4300910598632785, \"std_score\": 0.049919728123351194, \"max_score\": 0.5163934426229508, \"min_score\": 0.3652173913043478, \"dt__max_depth\": 6.0, \"dt__min_samples_split\": 7.0, \"rfi_fs__n_features_\": 20.0}, {\"mean_score\": 0.4295109591357639, \"std_score\": 0.04163514724349735, \"max_score\": 0.49795918367346936, \"min_score\": 0.37931034482758624, \"dt__max_depth\": 6.0, \"dt__min_samples_split\": 15.0, \"rfi_fs__n_features_\": 20.0}, {\"mean_score\": 0.4229754490095501, \"std_score\": 0.050581226183507105, \"max_score\": 0.4979253112033195, \"min_score\": 0.3466666666666667, \"dt__max_depth\": 6.0, \"dt__min_samples_split\": 20.0, \"rfi_fs__n_features_\": 20.0}, {\"mean_score\": 0.4196388080120932, \"std_score\": 0.031099804024678296, \"max_score\": 0.4647302904564316, \"min_score\": 0.3739130434782608, \"dt__max_depth\": 8.0, \"dt__min_samples_split\": 7.0, \"rfi_fs__n_features_\": 20.0}, {\"mean_score\": 0.4162395694840139, \"std_score\": 0.03204744010295516, \"max_score\": 0.456, \"min_score\": 0.36752136752136755, \"dt__max_depth\": 8.0, \"dt__min_samples_split\": 10.0, \"rfi_fs__n_features_\": 20.0}, {\"mean_score\": 0.4098403940863179, \"std_score\": 0.022310312530886445, \"max_score\": 0.4462809917355372, \"min_score\": 0.3781512605042017, \"dt__max_depth\": 7.0, \"dt__min_samples_split\": 7.0, \"rfi_fs__n_features_\": 20.0}, {\"mean_score\": 0.4079453238081897, \"std_score\": 0.017662156501591485, \"max_score\": 0.4380165289256198, \"min_score\": 0.38983050847457623, \"dt__max_depth\": 7.0, \"dt__min_samples_split\": 15.0, \"rfi_fs__n_features_\": 20.0}, {\"mean_score\": 0.404992530103352, \"std_score\": 0.024267751170452205, \"max_score\": 0.44534412955465585, \"min_score\": 0.3697478991596639, \"dt__max_depth\": 8.0, \"dt__min_samples_split\": 15.0, \"rfi_fs__n_features_\": 20.0}, {\"mean_score\": 0.4048242683615449, \"std_score\": 0.027497524301100144, \"max_score\": 0.4357142857142857, \"min_score\": 0.35341365461847385, \"dt__max_depth\": 10.0, \"dt__min_samples_split\": 7.0, \"rfi_fs__n_features_\": 20.0}, {\"mean_score\": 0.4040681549201174, \"std_score\": 0.023307150324612648, \"max_score\": 0.44715447154471544, \"min_score\": 0.3781512605042017, \"dt__max_depth\": 7.0, \"dt__min_samples_split\": 10.0, \"rfi_fs__n_features_\": 20.0}, {\"mean_score\": 0.4031622237843129, \"std_score\": 0.02850586854470695, \"max_score\": 0.4369747899159664, \"min_score\": 0.35193133047210295, \"dt__max_depth\": 7.0, \"dt__min_samples_split\": 20.0, \"rfi_fs__n_features_\": 20.0}, {\"mean_score\": 0.4015906725581628, \"std_score\": 0.037563329319313506, \"max_score\": 0.4380165289256198, \"min_score\": 0.3304347826086957, \"dt__max_depth\": 8.0, \"dt__min_samples_split\": 20.0, \"rfi_fs__n_features_\": 20.0}, {\"mean_score\": 0.3964328112661795, \"std_score\": 0.04592328270766611, \"max_score\": 0.4274809160305344, \"min_score\": 0.30522088353413657, \"dt__max_depth\": 10.0, \"dt__min_samples_split\": 20.0, \"rfi_fs__n_features_\": 20.0}, {\"mean_score\": 0.3948717688580019, \"std_score\": 0.031084321201157634, \"max_score\": 0.43971631205673756, \"min_score\": 0.3426294820717132, \"dt__max_depth\": 10.0, \"dt__min_samples_split\": 10.0, \"rfi_fs__n_features_\": 20.0}, {\"mean_score\": 0.3921634084451194, \"std_score\": 0.02542350581337044, \"max_score\": 0.4233576642335766, \"min_score\": 0.3464566929133859, \"dt__max_depth\": 10.0, \"dt__min_samples_split\": 15.0, \"rfi_fs__n_features_\": 20.0}, {\"mean_score\": 0.387947804969689, \"std_score\": 0.0370958049878922, \"max_score\": 0.41947565543071164, \"min_score\": 0.3162055335968379, \"dt__max_depth\": 12.0, \"dt__min_samples_split\": 20.0, \"rfi_fs__n_features_\": 20.0}, {\"mean_score\": 0.38493836471682535, \"std_score\": 0.037034838624893165, \"max_score\": 0.43727598566308246, \"min_score\": 0.3381294964028777, \"dt__max_depth\": 12.0, \"dt__min_samples_split\": 7.0, \"rfi_fs__n_features_\": 20.0}, {\"mean_score\": 0.38390000046539047, \"std_score\": 0.036795088991214954, \"max_score\": 0.43262411347517726, \"min_score\": 0.3225806451612903, \"dt__max_depth\": 12.0, \"dt__min_samples_split\": 10.0, \"rfi_fs__n_features_\": 20.0}, {\"mean_score\": 0.3803036683026159, \"std_score\": 0.030383734016950856, \"max_score\": 0.4115523465703971, \"min_score\": 0.3223443223443223, \"dt__max_depth\": 12.0, \"dt__min_samples_split\": 15.0, \"rfi_fs__n_features_\": 20.0}]}}, {\"mode\": \"vega-lite\"});\n",
       "</script>"
      ],
      "text/plain": [
       "alt.Chart(...)"
      ]
     },
     "execution_count": 51,
     "metadata": {},
     "output_type": "execute_result"
    }
   ],
   "source": [
    "alt.renderers.enable('default')\n",
    "fit_out_DT[\"chart\"]"
   ]
  },
  {
   "cell_type": "code",
   "execution_count": 52,
   "metadata": {},
   "outputs": [
    {
     "data": {
      "text/html": [
       "<div>\n",
       "<style scoped>\n",
       "    .dataframe tbody tr th:only-of-type {\n",
       "        vertical-align: middle;\n",
       "    }\n",
       "\n",
       "    .dataframe tbody tr th {\n",
       "        vertical-align: top;\n",
       "    }\n",
       "\n",
       "    .dataframe thead th {\n",
       "        text-align: right;\n",
       "    }\n",
       "</style>\n",
       "<table border=\"1\" class=\"dataframe\">\n",
       "  <thead>\n",
       "    <tr style=\"text-align: right;\">\n",
       "      <th></th>\n",
       "      <th>Model</th>\n",
       "      <th>Train_F1_Score</th>\n",
       "      <th>Test_F1_Score</th>\n",
       "      <th>Selected</th>\n",
       "    </tr>\n",
       "  </thead>\n",
       "  <tbody>\n",
       "    <tr>\n",
       "      <th>0</th>\n",
       "      <td>KNN</td>\n",
       "      <td>0.434</td>\n",
       "      <td>0.459</td>\n",
       "      <td>False</td>\n",
       "    </tr>\n",
       "    <tr>\n",
       "      <th>1</th>\n",
       "      <td>Naive Bayes</td>\n",
       "      <td>0.476</td>\n",
       "      <td>0.461</td>\n",
       "      <td>False</td>\n",
       "    </tr>\n",
       "    <tr>\n",
       "      <th>2</th>\n",
       "      <td>Decision Tree</td>\n",
       "      <td>0.447</td>\n",
       "      <td>0.415</td>\n",
       "      <td>False</td>\n",
       "    </tr>\n",
       "  </tbody>\n",
       "</table>\n",
       "</div>"
      ],
      "text/plain": [
       "           Model  Train_F1_Score  Test_F1_Score Selected\n",
       "0            KNN           0.434          0.459    False\n",
       "1    Naive Bayes           0.476          0.461    False\n",
       "2  Decision Tree           0.447          0.415    False"
      ]
     },
     "execution_count": 52,
     "metadata": {},
     "output_type": "execute_result"
    }
   ],
   "source": [
    "Models_Eval = Models_Eval.append(fit_out_DT[\"Eval\"],ignore_index=True)\n",
    "Models_Eval.round(3)"
   ]
  },
  {
   "cell_type": "markdown",
   "metadata": {},
   "source": [
    "The best training and test F1 score resulted by the Decision Tree is 0.44 and 0.41 respectively. Based on test score, it seems like Naive Bayes still performs better over KNN and Decision Tree.  "
   ]
  },
  {
   "cell_type": "markdown",
   "metadata": {},
   "source": [
    "## <a>SVM</a>\n",
    "In SVM we tried several kernels, however 'polynomial' kernel seemed to work best with the research problem. Due to this, we will optimize only poly for the Support vector Machine. "
   ]
  },
  {
   "cell_type": "code",
   "execution_count": 53,
   "metadata": {},
   "outputs": [
    {
     "name": "stdout",
     "output_type": "stream",
     "text": [
      "Fitting 5 folds for each of 48 candidates, totalling 240 fits\n"
     ]
    },
    {
     "name": "stderr",
     "output_type": "stream",
     "text": [
      "[Parallel(n_jobs=-2)]: Using backend LokyBackend with 3 concurrent workers.\n",
      "[Parallel(n_jobs=-2)]: Done  44 tasks      | elapsed:   20.0s\n",
      "[Parallel(n_jobs=-2)]: Done 194 tasks      | elapsed:  4.6min\n",
      "[Parallel(n_jobs=-2)]: Done 240 out of 240 | elapsed: 14.3min finished\n"
     ]
    }
   ],
   "source": [
    "pipe_SVM = [('rfi_fs', RFIFeatureSelector()),\n",
    "                    ('svm', SVC(kernel = 'poly'))]\n",
    "\n",
    "params_pipe_SVM = {'rfi_fs__n_features_': [5, 10, 20, Data_sample.shape[1]],\n",
    "                   'svm__gamma': [0.5,1,2],\n",
    "                   'svm__degree': [2,3,4,8]}\n",
    "\n",
    "fit_out_SVM=fit_tune(pipe_SVM,params_pipe_SVM,\"SVM\",\"svm__degree\",\"SVM Degree\",\"svm__gamma:N\",\"Gamma\",\"Grid\")"
   ]
  },
  {
   "cell_type": "code",
   "execution_count": 54,
   "metadata": {},
   "outputs": [
    {
     "data": {
      "text/plain": [
       "{'rfi_fs__n_features_': 20, 'svm__degree': 3, 'svm__gamma': 2}"
      ]
     },
     "execution_count": 54,
     "metadata": {},
     "output_type": "execute_result"
    }
   ],
   "source": [
    "fit_out_SVM[\"best_param\"]"
   ]
  },
  {
   "cell_type": "markdown",
   "metadata": {},
   "source": [
    "These are the best parameter values of SVM selected by the GRID search CV in combination with RFI. "
   ]
  },
  {
   "cell_type": "code",
   "execution_count": 55,
   "metadata": {},
   "outputs": [
    {
     "data": {
      "text/html": [
       "<div>\n",
       "<style scoped>\n",
       "    .dataframe tbody tr th:only-of-type {\n",
       "        vertical-align: middle;\n",
       "    }\n",
       "\n",
       "    .dataframe tbody tr th {\n",
       "        vertical-align: top;\n",
       "    }\n",
       "\n",
       "    .dataframe thead th {\n",
       "        text-align: right;\n",
       "    }\n",
       "</style>\n",
       "<table border=\"1\" class=\"dataframe\">\n",
       "  <thead>\n",
       "    <tr style=\"text-align: right;\">\n",
       "      <th></th>\n",
       "      <th>mean_score</th>\n",
       "      <th>std_score</th>\n",
       "      <th>max_score</th>\n",
       "      <th>min_score</th>\n",
       "      <th>rfi_fs__n_features_</th>\n",
       "      <th>svm__degree</th>\n",
       "      <th>svm__gamma</th>\n",
       "    </tr>\n",
       "  </thead>\n",
       "  <tbody>\n",
       "    <tr>\n",
       "      <th>29</th>\n",
       "      <td>0.443</td>\n",
       "      <td>0.023</td>\n",
       "      <td>0.470</td>\n",
       "      <td>0.413</td>\n",
       "      <td>20.0</td>\n",
       "      <td>3.0</td>\n",
       "      <td>2.0</td>\n",
       "    </tr>\n",
       "    <tr>\n",
       "      <th>32</th>\n",
       "      <td>0.441</td>\n",
       "      <td>0.040</td>\n",
       "      <td>0.496</td>\n",
       "      <td>0.385</td>\n",
       "      <td>20.0</td>\n",
       "      <td>4.0</td>\n",
       "      <td>2.0</td>\n",
       "    </tr>\n",
       "    <tr>\n",
       "      <th>26</th>\n",
       "      <td>0.425</td>\n",
       "      <td>0.044</td>\n",
       "      <td>0.500</td>\n",
       "      <td>0.374</td>\n",
       "      <td>20.0</td>\n",
       "      <td>2.0</td>\n",
       "      <td>2.0</td>\n",
       "    </tr>\n",
       "    <tr>\n",
       "      <th>35</th>\n",
       "      <td>0.423</td>\n",
       "      <td>0.035</td>\n",
       "      <td>0.466</td>\n",
       "      <td>0.371</td>\n",
       "      <td>20.0</td>\n",
       "      <td>8.0</td>\n",
       "      <td>2.0</td>\n",
       "    </tr>\n",
       "    <tr>\n",
       "      <th>31</th>\n",
       "      <td>0.419</td>\n",
       "      <td>0.026</td>\n",
       "      <td>0.452</td>\n",
       "      <td>0.373</td>\n",
       "      <td>20.0</td>\n",
       "      <td>4.0</td>\n",
       "      <td>1.0</td>\n",
       "    </tr>\n",
       "    <tr>\n",
       "      <th>28</th>\n",
       "      <td>0.395</td>\n",
       "      <td>0.047</td>\n",
       "      <td>0.480</td>\n",
       "      <td>0.343</td>\n",
       "      <td>20.0</td>\n",
       "      <td>3.0</td>\n",
       "      <td>1.0</td>\n",
       "    </tr>\n",
       "    <tr>\n",
       "      <th>34</th>\n",
       "      <td>0.389</td>\n",
       "      <td>0.026</td>\n",
       "      <td>0.432</td>\n",
       "      <td>0.358</td>\n",
       "      <td>20.0</td>\n",
       "      <td>8.0</td>\n",
       "      <td>1.0</td>\n",
       "    </tr>\n",
       "    <tr>\n",
       "      <th>25</th>\n",
       "      <td>0.376</td>\n",
       "      <td>0.032</td>\n",
       "      <td>0.433</td>\n",
       "      <td>0.350</td>\n",
       "      <td>20.0</td>\n",
       "      <td>2.0</td>\n",
       "      <td>1.0</td>\n",
       "    </tr>\n",
       "    <tr>\n",
       "      <th>27</th>\n",
       "      <td>0.356</td>\n",
       "      <td>0.040</td>\n",
       "      <td>0.427</td>\n",
       "      <td>0.316</td>\n",
       "      <td>20.0</td>\n",
       "      <td>3.0</td>\n",
       "      <td>0.5</td>\n",
       "    </tr>\n",
       "    <tr>\n",
       "      <th>30</th>\n",
       "      <td>0.343</td>\n",
       "      <td>0.029</td>\n",
       "      <td>0.398</td>\n",
       "      <td>0.316</td>\n",
       "      <td>20.0</td>\n",
       "      <td>4.0</td>\n",
       "      <td>0.5</td>\n",
       "    </tr>\n",
       "  </tbody>\n",
       "</table>\n",
       "</div>"
      ],
      "text/plain": [
       "    mean_score  std_score  max_score  min_score  rfi_fs__n_features_  \\\n",
       "29       0.443      0.023      0.470      0.413                 20.0   \n",
       "32       0.441      0.040      0.496      0.385                 20.0   \n",
       "26       0.425      0.044      0.500      0.374                 20.0   \n",
       "35       0.423      0.035      0.466      0.371                 20.0   \n",
       "31       0.419      0.026      0.452      0.373                 20.0   \n",
       "28       0.395      0.047      0.480      0.343                 20.0   \n",
       "34       0.389      0.026      0.432      0.358                 20.0   \n",
       "25       0.376      0.032      0.433      0.350                 20.0   \n",
       "27       0.356      0.040      0.427      0.316                 20.0   \n",
       "30       0.343      0.029      0.398      0.316                 20.0   \n",
       "\n",
       "    svm__degree  svm__gamma  \n",
       "29          3.0         2.0  \n",
       "32          4.0         2.0  \n",
       "26          2.0         2.0  \n",
       "35          8.0         2.0  \n",
       "31          4.0         1.0  \n",
       "28          3.0         1.0  \n",
       "34          8.0         1.0  \n",
       "25          2.0         1.0  \n",
       "27          3.0         0.5  \n",
       "30          4.0         0.5  "
      ]
     },
     "execution_count": 55,
     "metadata": {},
     "output_type": "execute_result"
    }
   ],
   "source": [
    "fit_out_SVM[\"result_df\"].round(3).head(10)"
   ]
  },
  {
   "cell_type": "code",
   "execution_count": 56,
   "metadata": {},
   "outputs": [
    {
     "data": {
      "text/html": [
       "\n",
       "<div id=\"altair-viz-3d23278f6a8f4ec2b1d24af9ef537945\"></div>\n",
       "<script type=\"text/javascript\">\n",
       "  (function(spec, embedOpt){\n",
       "    let outputDiv = document.currentScript.previousElementSibling;\n",
       "    if (outputDiv.id !== \"altair-viz-3d23278f6a8f4ec2b1d24af9ef537945\") {\n",
       "      outputDiv = document.getElementById(\"altair-viz-3d23278f6a8f4ec2b1d24af9ef537945\");\n",
       "    }\n",
       "    const paths = {\n",
       "      \"vega\": \"https://cdn.jsdelivr.net/npm//vega@5?noext\",\n",
       "      \"vega-lib\": \"https://cdn.jsdelivr.net/npm//vega-lib?noext\",\n",
       "      \"vega-lite\": \"https://cdn.jsdelivr.net/npm//vega-lite@4.8.1?noext\",\n",
       "      \"vega-embed\": \"https://cdn.jsdelivr.net/npm//vega-embed@6?noext\",\n",
       "    };\n",
       "\n",
       "    function loadScript(lib) {\n",
       "      return new Promise(function(resolve, reject) {\n",
       "        var s = document.createElement('script');\n",
       "        s.src = paths[lib];\n",
       "        s.async = true;\n",
       "        s.onload = () => resolve(paths[lib]);\n",
       "        s.onerror = () => reject(`Error loading script: ${paths[lib]}`);\n",
       "        document.getElementsByTagName(\"head\")[0].appendChild(s);\n",
       "      });\n",
       "    }\n",
       "\n",
       "    function showError(err) {\n",
       "      outputDiv.innerHTML = `<div class=\"error\" style=\"color:red;\">${err}</div>`;\n",
       "      throw err;\n",
       "    }\n",
       "\n",
       "    function displayChart(vegaEmbed) {\n",
       "      vegaEmbed(outputDiv, spec, embedOpt)\n",
       "        .catch(err => showError(`Javascript Error: ${err.message}<br>This usually means there's a typo in your chart specification. See the javascript console for the full traceback.`));\n",
       "    }\n",
       "\n",
       "    if(typeof define === \"function\" && define.amd) {\n",
       "      requirejs.config({paths});\n",
       "      require([\"vega-embed\"], displayChart, err => showError(`Error loading script: ${err.message}`));\n",
       "    } else if (typeof vegaEmbed === \"function\") {\n",
       "      displayChart(vegaEmbed);\n",
       "    } else {\n",
       "      loadScript(\"vega\")\n",
       "        .then(() => loadScript(\"vega-lite\"))\n",
       "        .then(() => loadScript(\"vega-embed\"))\n",
       "        .catch(showError)\n",
       "        .then(() => displayChart(vegaEmbed));\n",
       "    }\n",
       "  })({\"config\": {\"view\": {\"continuousWidth\": 400, \"continuousHeight\": 300}}, \"data\": {\"name\": \"data-fb936d5fc67f47dbcb7b4954d0956f83\"}, \"mark\": {\"type\": \"line\", \"point\": true}, \"encoding\": {\"color\": {\"type\": \"nominal\", \"field\": \"svm__gamma\", \"title\": \"Gamma\"}, \"x\": {\"type\": \"quantitative\", \"field\": \"svm__degree\", \"title\": \"SVM Degree\"}, \"y\": {\"type\": \"quantitative\", \"field\": \"mean_score\", \"scale\": {\"zero\": false}, \"title\": \"F1 Score\"}}, \"title\": \"SVM Performance Comparison with 20 Features\", \"$schema\": \"https://vega.github.io/schema/vega-lite/v4.8.1.json\", \"datasets\": {\"data-fb936d5fc67f47dbcb7b4954d0956f83\": [{\"mean_score\": 0.44307329469124906, \"std_score\": 0.022595991552132006, \"max_score\": 0.46956521739130425, \"min_score\": 0.41284403669724773, \"rfi_fs__n_features_\": 20.0, \"svm__degree\": 3.0, \"svm__gamma\": 2.0}, {\"mean_score\": 0.4409245441408639, \"std_score\": 0.039926704264391925, \"max_score\": 0.49557522123893805, \"min_score\": 0.3849765258215962, \"rfi_fs__n_features_\": 20.0, \"svm__degree\": 4.0, \"svm__gamma\": 2.0}, {\"mean_score\": 0.42541368368604615, \"std_score\": 0.04367975973181018, \"max_score\": 0.5, \"min_score\": 0.37373737373737376, \"rfi_fs__n_features_\": 20.0, \"svm__degree\": 2.0, \"svm__gamma\": 2.0}, {\"mean_score\": 0.4231139268717524, \"std_score\": 0.03526904591335826, \"max_score\": 0.465863453815261, \"min_score\": 0.3709677419354838, \"rfi_fs__n_features_\": 20.0, \"svm__degree\": 8.0, \"svm__gamma\": 2.0}, {\"mean_score\": 0.41920402983919036, \"std_score\": 0.026386686650646682, \"max_score\": 0.4516129032258064, \"min_score\": 0.37320574162679426, \"rfi_fs__n_features_\": 20.0, \"svm__degree\": 4.0, \"svm__gamma\": 1.0}, {\"mean_score\": 0.3954560196553943, \"std_score\": 0.04713540539663237, \"max_score\": 0.4799999999999999, \"min_score\": 0.3431372549019608, \"rfi_fs__n_features_\": 20.0, \"svm__degree\": 3.0, \"svm__gamma\": 1.0}, {\"mean_score\": 0.3886243844435919, \"std_score\": 0.02606327963839496, \"max_score\": 0.43171806167400884, \"min_score\": 0.3584905660377359, \"rfi_fs__n_features_\": 20.0, \"svm__degree\": 8.0, \"svm__gamma\": 1.0}, {\"mean_score\": 0.3758783836684789, \"std_score\": 0.03157865979342786, \"max_score\": 0.43317972350230416, \"min_score\": 0.35, \"rfi_fs__n_features_\": 20.0, \"svm__degree\": 2.0, \"svm__gamma\": 1.0}, {\"mean_score\": 0.35603394495475166, \"std_score\": 0.03963425060048781, \"max_score\": 0.42718446601941745, \"min_score\": 0.3163265306122449, \"rfi_fs__n_features_\": 20.0, \"svm__degree\": 3.0, \"svm__gamma\": 0.5}, {\"mean_score\": 0.3434469585701138, \"std_score\": 0.029067529414378727, \"max_score\": 0.39800995024875624, \"min_score\": 0.31578947368421056, \"rfi_fs__n_features_\": 20.0, \"svm__degree\": 4.0, \"svm__gamma\": 0.5}, {\"mean_score\": 0.3109968446845523, \"std_score\": 0.033027371014563205, \"max_score\": 0.3626943005181347, \"min_score\": 0.2765957446808511, \"rfi_fs__n_features_\": 20.0, \"svm__degree\": 2.0, \"svm__gamma\": 0.5}, {\"mean_score\": 0.20480273132874335, \"std_score\": 0.02859727349481216, \"max_score\": 0.2430939226519337, \"min_score\": 0.16949152542372883, \"rfi_fs__n_features_\": 20.0, \"svm__degree\": 8.0, \"svm__gamma\": 0.5}]}}, {\"mode\": \"vega-lite\"});\n",
       "</script>"
      ],
      "text/plain": [
       "alt.Chart(...)"
      ]
     },
     "execution_count": 56,
     "metadata": {},
     "output_type": "execute_result"
    }
   ],
   "source": [
    "alt.renderers.enable('default')\n",
    "fit_out_SVM[\"chart\"]"
   ]
  },
  {
   "cell_type": "code",
   "execution_count": 57,
   "metadata": {},
   "outputs": [
    {
     "data": {
      "text/html": [
       "<div>\n",
       "<style scoped>\n",
       "    .dataframe tbody tr th:only-of-type {\n",
       "        vertical-align: middle;\n",
       "    }\n",
       "\n",
       "    .dataframe tbody tr th {\n",
       "        vertical-align: top;\n",
       "    }\n",
       "\n",
       "    .dataframe thead th {\n",
       "        text-align: right;\n",
       "    }\n",
       "</style>\n",
       "<table border=\"1\" class=\"dataframe\">\n",
       "  <thead>\n",
       "    <tr style=\"text-align: right;\">\n",
       "      <th></th>\n",
       "      <th>Model</th>\n",
       "      <th>Train_F1_Score</th>\n",
       "      <th>Test_F1_Score</th>\n",
       "      <th>Selected</th>\n",
       "    </tr>\n",
       "  </thead>\n",
       "  <tbody>\n",
       "    <tr>\n",
       "      <th>0</th>\n",
       "      <td>KNN</td>\n",
       "      <td>0.434</td>\n",
       "      <td>0.459</td>\n",
       "      <td>False</td>\n",
       "    </tr>\n",
       "    <tr>\n",
       "      <th>1</th>\n",
       "      <td>Naive Bayes</td>\n",
       "      <td>0.476</td>\n",
       "      <td>0.461</td>\n",
       "      <td>False</td>\n",
       "    </tr>\n",
       "    <tr>\n",
       "      <th>2</th>\n",
       "      <td>Decision Tree</td>\n",
       "      <td>0.447</td>\n",
       "      <td>0.415</td>\n",
       "      <td>False</td>\n",
       "    </tr>\n",
       "    <tr>\n",
       "      <th>3</th>\n",
       "      <td>SVM</td>\n",
       "      <td>0.443</td>\n",
       "      <td>0.429</td>\n",
       "      <td>False</td>\n",
       "    </tr>\n",
       "  </tbody>\n",
       "</table>\n",
       "</div>"
      ],
      "text/plain": [
       "           Model  Train_F1_Score  Test_F1_Score Selected\n",
       "0            KNN           0.434          0.459    False\n",
       "1    Naive Bayes           0.476          0.461    False\n",
       "2  Decision Tree           0.447          0.415    False\n",
       "3            SVM           0.443          0.429    False"
      ]
     },
     "execution_count": 57,
     "metadata": {},
     "output_type": "execute_result"
    }
   ],
   "source": [
    "Models_Eval = Models_Eval.append(fit_out_SVM[\"Eval\"],ignore_index=True)\n",
    "Models_Eval.round(3)"
   ]
  },
  {
   "cell_type": "markdown",
   "metadata": {},
   "source": [
    "The best training and test F1 score resulted by the SVM is 0.44 and 0.42 respectively. Based on test score, it seems like Naive Bayes still performs better over KNN and Decision Tree.  "
   ]
  },
  {
   "cell_type": "markdown",
   "metadata": {},
   "source": [
    "## <a>Random Forest</a>"
   ]
  },
  {
   "cell_type": "code",
   "execution_count": 58,
   "metadata": {},
   "outputs": [
    {
     "name": "stdout",
     "output_type": "stream",
     "text": [
      "Fitting 5 folds for each of 45 candidates, totalling 225 fits\n"
     ]
    },
    {
     "name": "stderr",
     "output_type": "stream",
     "text": [
      "[Parallel(n_jobs=-2)]: Using backend LokyBackend with 3 concurrent workers.\n",
      "[Parallel(n_jobs=-2)]: Done  44 tasks      | elapsed:   43.3s\n",
      "[Parallel(n_jobs=-2)]: Done 194 tasks      | elapsed:  3.9min\n",
      "[Parallel(n_jobs=-2)]: Done 225 out of 225 | elapsed:  4.8min finished\n"
     ]
    }
   ],
   "source": [
    "pipe_RFC = [('rfi_fs', RFIFeatureSelector()),\n",
    "                    ('rfc', RandomForestClassifier(n_estimators= 100, random_state=999))]\n",
    "\n",
    "params_pipe_RFC = {'rfi_fs__n_features_': [10, 20, Data.shape[1]],\n",
    "                  'rfc__n_estimators': [100, 200, 300, 400, 500],\n",
    "                  'rfc__min_samples_split': [10, 20,30]}\n",
    "\n",
    "fit_out_RFC=fit_tune(pipe_RFC,params_pipe_RFC,\"Random Forrest\",\"rfc__n_estimators\",\"Number of Estimators\"\n",
    "                     ,\"rfc__min_samples_split:N\",\"Min Sample Split\",\"Grid\")"
   ]
  },
  {
   "cell_type": "code",
   "execution_count": 59,
   "metadata": {},
   "outputs": [
    {
     "data": {
      "text/plain": [
       "{'rfc__min_samples_split': 30,\n",
       " 'rfc__n_estimators': 200,\n",
       " 'rfi_fs__n_features_': 29}"
      ]
     },
     "execution_count": 59,
     "metadata": {},
     "output_type": "execute_result"
    }
   ],
   "source": [
    "fit_out_RFC[\"best_param\"]"
   ]
  },
  {
   "cell_type": "markdown",
   "metadata": {},
   "source": [
    "These are the best parameter values of RFC selected by the GRID search CV in combination with RFI. "
   ]
  },
  {
   "cell_type": "code",
   "execution_count": 60,
   "metadata": {
    "scrolled": true
   },
   "outputs": [
    {
     "data": {
      "text/html": [
       "<div>\n",
       "<style scoped>\n",
       "    .dataframe tbody tr th:only-of-type {\n",
       "        vertical-align: middle;\n",
       "    }\n",
       "\n",
       "    .dataframe tbody tr th {\n",
       "        vertical-align: top;\n",
       "    }\n",
       "\n",
       "    .dataframe thead th {\n",
       "        text-align: right;\n",
       "    }\n",
       "</style>\n",
       "<table border=\"1\" class=\"dataframe\">\n",
       "  <thead>\n",
       "    <tr style=\"text-align: right;\">\n",
       "      <th></th>\n",
       "      <th>mean_score</th>\n",
       "      <th>std_score</th>\n",
       "      <th>max_score</th>\n",
       "      <th>min_score</th>\n",
       "      <th>rfc__min_samples_split</th>\n",
       "      <th>rfc__n_estimators</th>\n",
       "      <th>rfi_fs__n_features_</th>\n",
       "    </tr>\n",
       "  </thead>\n",
       "  <tbody>\n",
       "    <tr>\n",
       "      <th>35</th>\n",
       "      <td>0.472</td>\n",
       "      <td>0.032</td>\n",
       "      <td>0.524</td>\n",
       "      <td>0.436</td>\n",
       "      <td>30.0</td>\n",
       "      <td>200.0</td>\n",
       "      <td>29.0</td>\n",
       "    </tr>\n",
       "    <tr>\n",
       "      <th>2</th>\n",
       "      <td>0.471</td>\n",
       "      <td>0.032</td>\n",
       "      <td>0.504</td>\n",
       "      <td>0.427</td>\n",
       "      <td>10.0</td>\n",
       "      <td>100.0</td>\n",
       "      <td>29.0</td>\n",
       "    </tr>\n",
       "    <tr>\n",
       "      <th>38</th>\n",
       "      <td>0.471</td>\n",
       "      <td>0.033</td>\n",
       "      <td>0.517</td>\n",
       "      <td>0.420</td>\n",
       "      <td>30.0</td>\n",
       "      <td>300.0</td>\n",
       "      <td>29.0</td>\n",
       "    </tr>\n",
       "    <tr>\n",
       "      <th>44</th>\n",
       "      <td>0.470</td>\n",
       "      <td>0.032</td>\n",
       "      <td>0.517</td>\n",
       "      <td>0.420</td>\n",
       "      <td>30.0</td>\n",
       "      <td>500.0</td>\n",
       "      <td>29.0</td>\n",
       "    </tr>\n",
       "    <tr>\n",
       "      <th>41</th>\n",
       "      <td>0.470</td>\n",
       "      <td>0.036</td>\n",
       "      <td>0.524</td>\n",
       "      <td>0.415</td>\n",
       "      <td>30.0</td>\n",
       "      <td>400.0</td>\n",
       "      <td>29.0</td>\n",
       "    </tr>\n",
       "    <tr>\n",
       "      <th>23</th>\n",
       "      <td>0.470</td>\n",
       "      <td>0.033</td>\n",
       "      <td>0.521</td>\n",
       "      <td>0.420</td>\n",
       "      <td>20.0</td>\n",
       "      <td>300.0</td>\n",
       "      <td>29.0</td>\n",
       "    </tr>\n",
       "    <tr>\n",
       "      <th>17</th>\n",
       "      <td>0.469</td>\n",
       "      <td>0.024</td>\n",
       "      <td>0.504</td>\n",
       "      <td>0.434</td>\n",
       "      <td>20.0</td>\n",
       "      <td>100.0</td>\n",
       "      <td>29.0</td>\n",
       "    </tr>\n",
       "    <tr>\n",
       "      <th>20</th>\n",
       "      <td>0.469</td>\n",
       "      <td>0.027</td>\n",
       "      <td>0.513</td>\n",
       "      <td>0.434</td>\n",
       "      <td>20.0</td>\n",
       "      <td>200.0</td>\n",
       "      <td>29.0</td>\n",
       "    </tr>\n",
       "    <tr>\n",
       "      <th>32</th>\n",
       "      <td>0.468</td>\n",
       "      <td>0.038</td>\n",
       "      <td>0.517</td>\n",
       "      <td>0.407</td>\n",
       "      <td>30.0</td>\n",
       "      <td>100.0</td>\n",
       "      <td>29.0</td>\n",
       "    </tr>\n",
       "    <tr>\n",
       "      <th>8</th>\n",
       "      <td>0.468</td>\n",
       "      <td>0.038</td>\n",
       "      <td>0.524</td>\n",
       "      <td>0.413</td>\n",
       "      <td>10.0</td>\n",
       "      <td>300.0</td>\n",
       "      <td>29.0</td>\n",
       "    </tr>\n",
       "  </tbody>\n",
       "</table>\n",
       "</div>"
      ],
      "text/plain": [
       "    mean_score  std_score  max_score  min_score  rfc__min_samples_split  \\\n",
       "35       0.472      0.032      0.524      0.436                    30.0   \n",
       "2        0.471      0.032      0.504      0.427                    10.0   \n",
       "38       0.471      0.033      0.517      0.420                    30.0   \n",
       "44       0.470      0.032      0.517      0.420                    30.0   \n",
       "41       0.470      0.036      0.524      0.415                    30.0   \n",
       "23       0.470      0.033      0.521      0.420                    20.0   \n",
       "17       0.469      0.024      0.504      0.434                    20.0   \n",
       "20       0.469      0.027      0.513      0.434                    20.0   \n",
       "32       0.468      0.038      0.517      0.407                    30.0   \n",
       "8        0.468      0.038      0.524      0.413                    10.0   \n",
       "\n",
       "    rfc__n_estimators  rfi_fs__n_features_  \n",
       "35              200.0                 29.0  \n",
       "2               100.0                 29.0  \n",
       "38              300.0                 29.0  \n",
       "44              500.0                 29.0  \n",
       "41              400.0                 29.0  \n",
       "23              300.0                 29.0  \n",
       "17              100.0                 29.0  \n",
       "20              200.0                 29.0  \n",
       "32              100.0                 29.0  \n",
       "8               300.0                 29.0  "
      ]
     },
     "execution_count": 60,
     "metadata": {},
     "output_type": "execute_result"
    }
   ],
   "source": [
    "fit_out_RFC[\"result_df\"].round(3).head(10)"
   ]
  },
  {
   "cell_type": "code",
   "execution_count": 61,
   "metadata": {},
   "outputs": [
    {
     "data": {
      "text/html": [
       "\n",
       "<div id=\"altair-viz-95ba29b808d74f0e959be8ff95be7d8f\"></div>\n",
       "<script type=\"text/javascript\">\n",
       "  (function(spec, embedOpt){\n",
       "    let outputDiv = document.currentScript.previousElementSibling;\n",
       "    if (outputDiv.id !== \"altair-viz-95ba29b808d74f0e959be8ff95be7d8f\") {\n",
       "      outputDiv = document.getElementById(\"altair-viz-95ba29b808d74f0e959be8ff95be7d8f\");\n",
       "    }\n",
       "    const paths = {\n",
       "      \"vega\": \"https://cdn.jsdelivr.net/npm//vega@5?noext\",\n",
       "      \"vega-lib\": \"https://cdn.jsdelivr.net/npm//vega-lib?noext\",\n",
       "      \"vega-lite\": \"https://cdn.jsdelivr.net/npm//vega-lite@4.8.1?noext\",\n",
       "      \"vega-embed\": \"https://cdn.jsdelivr.net/npm//vega-embed@6?noext\",\n",
       "    };\n",
       "\n",
       "    function loadScript(lib) {\n",
       "      return new Promise(function(resolve, reject) {\n",
       "        var s = document.createElement('script');\n",
       "        s.src = paths[lib];\n",
       "        s.async = true;\n",
       "        s.onload = () => resolve(paths[lib]);\n",
       "        s.onerror = () => reject(`Error loading script: ${paths[lib]}`);\n",
       "        document.getElementsByTagName(\"head\")[0].appendChild(s);\n",
       "      });\n",
       "    }\n",
       "\n",
       "    function showError(err) {\n",
       "      outputDiv.innerHTML = `<div class=\"error\" style=\"color:red;\">${err}</div>`;\n",
       "      throw err;\n",
       "    }\n",
       "\n",
       "    function displayChart(vegaEmbed) {\n",
       "      vegaEmbed(outputDiv, spec, embedOpt)\n",
       "        .catch(err => showError(`Javascript Error: ${err.message}<br>This usually means there's a typo in your chart specification. See the javascript console for the full traceback.`));\n",
       "    }\n",
       "\n",
       "    if(typeof define === \"function\" && define.amd) {\n",
       "      requirejs.config({paths});\n",
       "      require([\"vega-embed\"], displayChart, err => showError(`Error loading script: ${err.message}`));\n",
       "    } else if (typeof vegaEmbed === \"function\") {\n",
       "      displayChart(vegaEmbed);\n",
       "    } else {\n",
       "      loadScript(\"vega\")\n",
       "        .then(() => loadScript(\"vega-lite\"))\n",
       "        .then(() => loadScript(\"vega-embed\"))\n",
       "        .catch(showError)\n",
       "        .then(() => displayChart(vegaEmbed));\n",
       "    }\n",
       "  })({\"config\": {\"view\": {\"continuousWidth\": 400, \"continuousHeight\": 300}}, \"data\": {\"name\": \"data-43fc43991a36023fafd25a6eea750b2f\"}, \"mark\": {\"type\": \"line\", \"point\": true}, \"encoding\": {\"color\": {\"type\": \"nominal\", \"field\": \"rfc__min_samples_split\", \"title\": \"Min Sample Split\"}, \"x\": {\"type\": \"quantitative\", \"field\": \"rfc__n_estimators\", \"title\": \"Number of Estimators\"}, \"y\": {\"type\": \"quantitative\", \"field\": \"mean_score\", \"scale\": {\"zero\": false}, \"title\": \"F1 Score\"}}, \"title\": \"Random Forrest Performance Comparison with 29 Features\", \"$schema\": \"https://vega.github.io/schema/vega-lite/v4.8.1.json\", \"datasets\": {\"data-43fc43991a36023fafd25a6eea750b2f\": [{\"mean_score\": 0.4716357573585007, \"std_score\": 0.03167952160132216, \"max_score\": 0.5236051502145923, \"min_score\": 0.43636363636363634, \"rfc__min_samples_split\": 30.0, \"rfc__n_estimators\": 200.0, \"rfi_fs__n_features_\": 29.0}, {\"mean_score\": 0.4712303281950394, \"std_score\": 0.03201644153248692, \"max_score\": 0.5042016806722689, \"min_score\": 0.4272727272727273, \"rfc__min_samples_split\": 10.0, \"rfc__n_estimators\": 100.0, \"rfi_fs__n_features_\": 29.0}, {\"mean_score\": 0.47079248910643257, \"std_score\": 0.03253916377065393, \"max_score\": 0.5172413793103448, \"min_score\": 0.4200913242009132, \"rfc__min_samples_split\": 30.0, \"rfc__n_estimators\": 300.0, \"rfi_fs__n_features_\": 29.0}, {\"mean_score\": 0.47032990685281906, \"std_score\": 0.03200920300946622, \"max_score\": 0.5172413793103448, \"min_score\": 0.4200913242009132, \"rfc__min_samples_split\": 30.0, \"rfc__n_estimators\": 500.0, \"rfi_fs__n_features_\": 29.0}, {\"mean_score\": 0.4696407777216667, \"std_score\": 0.036403501041979196, \"max_score\": 0.5236051502145923, \"min_score\": 0.4147465437788018, \"rfc__min_samples_split\": 30.0, \"rfc__n_estimators\": 400.0, \"rfi_fs__n_features_\": 29.0}, {\"mean_score\": 0.4695151644176748, \"std_score\": 0.03274373182309595, \"max_score\": 0.5213675213675214, \"min_score\": 0.4200913242009132, \"rfc__min_samples_split\": 20.0, \"rfc__n_estimators\": 300.0, \"rfi_fs__n_features_\": 29.0}, {\"mean_score\": 0.4694441777908228, \"std_score\": 0.023927142278715282, \"max_score\": 0.5043478260869565, \"min_score\": 0.4343891402714932, \"rfc__min_samples_split\": 20.0, \"rfc__n_estimators\": 100.0, \"rfi_fs__n_features_\": 29.0}, {\"mean_score\": 0.46850248838654596, \"std_score\": 0.02662447437609424, \"max_score\": 0.5128205128205129, \"min_score\": 0.4343891402714932, \"rfc__min_samples_split\": 20.0, \"rfc__n_estimators\": 200.0, \"rfi_fs__n_features_\": 29.0}, {\"mean_score\": 0.46847743230305483, \"std_score\": 0.03826026574520779, \"max_score\": 0.5172413793103448, \"min_score\": 0.40723981900452483, \"rfc__min_samples_split\": 30.0, \"rfc__n_estimators\": 100.0, \"rfi_fs__n_features_\": 29.0}, {\"mean_score\": 0.4684422099140509, \"std_score\": 0.0376657042774579, \"max_score\": 0.5236051502145923, \"min_score\": 0.41284403669724773, \"rfc__min_samples_split\": 10.0, \"rfc__n_estimators\": 300.0, \"rfi_fs__n_features_\": 29.0}, {\"mean_score\": 0.4681143911034229, \"std_score\": 0.0346389129897049, \"max_score\": 0.5150214592274678, \"min_score\": 0.41284403669724773, \"rfc__min_samples_split\": 10.0, \"rfc__n_estimators\": 200.0, \"rfi_fs__n_features_\": 29.0}, {\"mean_score\": 0.4676659788471921, \"std_score\": 0.03078095134030397, \"max_score\": 0.5150214592274678, \"min_score\": 0.42201834862385323, \"rfc__min_samples_split\": 20.0, \"rfc__n_estimators\": 400.0, \"rfi_fs__n_features_\": 29.0}, {\"mean_score\": 0.46679186185911004, \"std_score\": 0.028819988060005075, \"max_score\": 0.5086206896551724, \"min_score\": 0.42201834862385323, \"rfc__min_samples_split\": 20.0, \"rfc__n_estimators\": 500.0, \"rfi_fs__n_features_\": 29.0}, {\"mean_score\": 0.46563697289623224, \"std_score\": 0.035513340894760506, \"max_score\": 0.5172413793103448, \"min_score\": 0.4147465437788018, \"rfc__min_samples_split\": 10.0, \"rfc__n_estimators\": 500.0, \"rfi_fs__n_features_\": 29.0}, {\"mean_score\": 0.46259192404417704, \"std_score\": 0.03069238809299362, \"max_score\": 0.5021645021645021, \"min_score\": 0.4166666666666667, \"rfc__min_samples_split\": 10.0, \"rfc__n_estimators\": 400.0, \"rfi_fs__n_features_\": 29.0}]}}, {\"mode\": \"vega-lite\"});\n",
       "</script>"
      ],
      "text/plain": [
       "alt.Chart(...)"
      ]
     },
     "execution_count": 61,
     "metadata": {},
     "output_type": "execute_result"
    }
   ],
   "source": [
    "alt.renderers.enable('default')\n",
    "fit_out_RFC[\"chart\"]"
   ]
  },
  {
   "cell_type": "code",
   "execution_count": 62,
   "metadata": {
    "scrolled": true
   },
   "outputs": [
    {
     "data": {
      "text/html": [
       "<div>\n",
       "<style scoped>\n",
       "    .dataframe tbody tr th:only-of-type {\n",
       "        vertical-align: middle;\n",
       "    }\n",
       "\n",
       "    .dataframe tbody tr th {\n",
       "        vertical-align: top;\n",
       "    }\n",
       "\n",
       "    .dataframe thead th {\n",
       "        text-align: right;\n",
       "    }\n",
       "</style>\n",
       "<table border=\"1\" class=\"dataframe\">\n",
       "  <thead>\n",
       "    <tr style=\"text-align: right;\">\n",
       "      <th></th>\n",
       "      <th>Model</th>\n",
       "      <th>Train_F1_Score</th>\n",
       "      <th>Test_F1_Score</th>\n",
       "      <th>Selected</th>\n",
       "    </tr>\n",
       "  </thead>\n",
       "  <tbody>\n",
       "    <tr>\n",
       "      <th>0</th>\n",
       "      <td>KNN</td>\n",
       "      <td>0.434</td>\n",
       "      <td>0.459</td>\n",
       "      <td>False</td>\n",
       "    </tr>\n",
       "    <tr>\n",
       "      <th>1</th>\n",
       "      <td>Naive Bayes</td>\n",
       "      <td>0.476</td>\n",
       "      <td>0.461</td>\n",
       "      <td>False</td>\n",
       "    </tr>\n",
       "    <tr>\n",
       "      <th>2</th>\n",
       "      <td>Decision Tree</td>\n",
       "      <td>0.447</td>\n",
       "      <td>0.415</td>\n",
       "      <td>False</td>\n",
       "    </tr>\n",
       "    <tr>\n",
       "      <th>3</th>\n",
       "      <td>SVM</td>\n",
       "      <td>0.443</td>\n",
       "      <td>0.429</td>\n",
       "      <td>False</td>\n",
       "    </tr>\n",
       "    <tr>\n",
       "      <th>4</th>\n",
       "      <td>Random Forrest</td>\n",
       "      <td>0.472</td>\n",
       "      <td>0.446</td>\n",
       "      <td>False</td>\n",
       "    </tr>\n",
       "  </tbody>\n",
       "</table>\n",
       "</div>"
      ],
      "text/plain": [
       "            Model  Train_F1_Score  Test_F1_Score Selected\n",
       "0             KNN           0.434          0.459    False\n",
       "1     Naive Bayes           0.476          0.461    False\n",
       "2   Decision Tree           0.447          0.415    False\n",
       "3             SVM           0.443          0.429    False\n",
       "4  Random Forrest           0.472          0.446    False"
      ]
     },
     "execution_count": 62,
     "metadata": {},
     "output_type": "execute_result"
    }
   ],
   "source": [
    "Models_Eval = Models_Eval.append(fit_out_RFC[\"Eval\"],ignore_index=True)\n",
    "Models_Eval.round(3)"
   ]
  },
  {
   "cell_type": "markdown",
   "metadata": {},
   "source": [
    "The best training and test F1 score resulted by the RFC is 0.47 and 0.44 respectively. Based on test score, it seems like Naive Bayes still performs better over KNN and Decision Tree.  "
   ]
  },
  {
   "cell_type": "markdown",
   "metadata": {},
   "source": [
    "#### Consolidating Model Repository"
   ]
  },
  {
   "cell_type": "code",
   "execution_count": 63,
   "metadata": {},
   "outputs": [],
   "source": [
    "model_Repo= {\"KNN\":fit_out_knn[\"model\"],\n",
    "            \"Naive Bayes\":fit_out_NB[\"model\"],\n",
    "            \"Decision Tree\":fit_out_DT[\"model\"],\n",
    "            \"SVM\":fit_out_SVM[\"model\"],\n",
    "            \"Random Forrest\":fit_out_RFC[\"model\"]}"
   ]
  },
  {
   "cell_type": "markdown",
   "metadata": {},
   "source": [
    "### Final selection based on Test Score  and difference between Test and Train Score"
   ]
  },
  {
   "cell_type": "code",
   "execution_count": 64,
   "metadata": {},
   "outputs": [
    {
     "data": {
      "text/html": [
       "<div>\n",
       "<style scoped>\n",
       "    .dataframe tbody tr th:only-of-type {\n",
       "        vertical-align: middle;\n",
       "    }\n",
       "\n",
       "    .dataframe tbody tr th {\n",
       "        vertical-align: top;\n",
       "    }\n",
       "\n",
       "    .dataframe thead th {\n",
       "        text-align: right;\n",
       "    }\n",
       "</style>\n",
       "<table border=\"1\" class=\"dataframe\">\n",
       "  <thead>\n",
       "    <tr style=\"text-align: right;\">\n",
       "      <th></th>\n",
       "      <th>Model</th>\n",
       "      <th>Train_F1_Score</th>\n",
       "      <th>Test_F1_Score</th>\n",
       "      <th>Selected</th>\n",
       "    </tr>\n",
       "  </thead>\n",
       "  <tbody>\n",
       "    <tr>\n",
       "      <th>0</th>\n",
       "      <td>KNN</td>\n",
       "      <td>0.434</td>\n",
       "      <td>0.459</td>\n",
       "      <td>False</td>\n",
       "    </tr>\n",
       "    <tr>\n",
       "      <th>1</th>\n",
       "      <td>Naive Bayes</td>\n",
       "      <td>0.476</td>\n",
       "      <td>0.461</td>\n",
       "      <td>True</td>\n",
       "    </tr>\n",
       "    <tr>\n",
       "      <th>2</th>\n",
       "      <td>Decision Tree</td>\n",
       "      <td>0.447</td>\n",
       "      <td>0.415</td>\n",
       "      <td>False</td>\n",
       "    </tr>\n",
       "    <tr>\n",
       "      <th>3</th>\n",
       "      <td>SVM</td>\n",
       "      <td>0.443</td>\n",
       "      <td>0.429</td>\n",
       "      <td>False</td>\n",
       "    </tr>\n",
       "    <tr>\n",
       "      <th>4</th>\n",
       "      <td>Random Forrest</td>\n",
       "      <td>0.472</td>\n",
       "      <td>0.446</td>\n",
       "      <td>False</td>\n",
       "    </tr>\n",
       "  </tbody>\n",
       "</table>\n",
       "</div>"
      ],
      "text/plain": [
       "            Model  Train_F1_Score  Test_F1_Score  Selected\n",
       "0             KNN           0.434          0.459     False\n",
       "1     Naive Bayes           0.476          0.461      True\n",
       "2   Decision Tree           0.447          0.415     False\n",
       "3             SVM           0.443          0.429     False\n",
       "4  Random Forrest           0.472          0.446     False"
      ]
     },
     "execution_count": 64,
     "metadata": {},
     "output_type": "execute_result"
    }
   ],
   "source": [
    "#Final selection based on Test Score  and difference between Test and Train Score\n",
    "Final_Selection=\"Naive Bayes\"\n",
    "\n",
    "Models_Eval[\"Selected\"]=False\n",
    "Models_Eval.loc[(Models_Eval[\"Model\"]==Final_Selection),\"Selected\"]=True\n",
    "Models_Eval.round(3)"
   ]
  },
  {
   "cell_type": "markdown",
   "metadata": {},
   "source": [
    "The above table shows that Naive Bayes is the best algorithm based on test F1score which 0.46.  "
   ]
  },
  {
   "cell_type": "markdown",
   "metadata": {},
   "source": [
    "# <a>Model Performance Comparison</a>\n",
    "\n",
    "Since the same cross-validation strategy is used to tune all the classifiers, the data partitions used to test the model will be the same. Thus, the model performance comparison can be done via paired t-test. \n",
    "\n",
    "The paired t-test is performed on the results of 10 fold cross-validation strategy on the train and test dataset."
   ]
  },
  {
   "cell_type": "code",
   "execution_count": 65,
   "metadata": {},
   "outputs": [
    {
     "data": {
      "text/plain": [
       "0.398"
      ]
     },
     "execution_count": 65,
     "metadata": {},
     "output_type": "execute_result"
    }
   ],
   "source": [
    "## KNN\n",
    "cv_method_ttest = StratifiedKFold(n_splits=10, random_state=999)\n",
    "\n",
    "cv_results_KNN = cross_val_score(estimator=fit_out_knn['best_estimator'],\n",
    "                                 X=Data_sample_test,\n",
    "                                 y=target_sample_test, \n",
    "                                 cv=cv_method_ttest, \n",
    "                                 n_jobs=-2,\n",
    "                                 scoring='f1')\n",
    "cv_results_KNN.mean().round(3)"
   ]
  },
  {
   "cell_type": "markdown",
   "metadata": {},
   "source": [
    "The mean score resulted by KNN"
   ]
  },
  {
   "cell_type": "code",
   "execution_count": 66,
   "metadata": {},
   "outputs": [
    {
     "data": {
      "text/plain": [
       "0.452"
      ]
     },
     "execution_count": 66,
     "metadata": {},
     "output_type": "execute_result"
    }
   ],
   "source": [
    "## Naive Bayes\n",
    "Data_sample_test_transformed = PowerTransformer().fit_transform(Data_sample_test)\n",
    "\n",
    "cv_results_NB = cross_val_score(estimator=fit_out_NB['best_estimator'],\n",
    "                                 X=Data_sample_test_transformed,\n",
    "                                 y=target_sample_test, \n",
    "                                 cv=cv_method_ttest, \n",
    "                                 n_jobs=-2,\n",
    "                                 scoring='f1')\n",
    "cv_results_NB.mean().round(3)"
   ]
  },
  {
   "cell_type": "markdown",
   "metadata": {},
   "source": [
    "The mean score resulted by Naive Baeyes"
   ]
  },
  {
   "cell_type": "code",
   "execution_count": 67,
   "metadata": {},
   "outputs": [
    {
     "data": {
      "text/plain": [
       "0.374"
      ]
     },
     "execution_count": 67,
     "metadata": {},
     "output_type": "execute_result"
    }
   ],
   "source": [
    "## Decision Tree\n",
    "cv_results_DT = cross_val_score(estimator=fit_out_DT['best_estimator'],\n",
    "                                X=Data_sample_test,\n",
    "                                y=target_sample_test, \n",
    "                                cv=cv_method_ttest, \n",
    "                                n_jobs=-2,\n",
    "                                scoring='f1')\n",
    "cv_results_DT.mean().round(3)"
   ]
  },
  {
   "cell_type": "markdown",
   "metadata": {},
   "source": [
    "The mean score resulted by Decision Tree"
   ]
  },
  {
   "cell_type": "code",
   "execution_count": 68,
   "metadata": {},
   "outputs": [
    {
     "data": {
      "text/plain": [
       "0.332"
      ]
     },
     "execution_count": 68,
     "metadata": {},
     "output_type": "execute_result"
    }
   ],
   "source": [
    "## SVM\n",
    "cv_results_SVM = cross_val_score(estimator=fit_out_SVM['best_estimator'],\n",
    "                                X=Data_sample_test,\n",
    "                                y=target_sample_test, \n",
    "                                cv=cv_method_ttest, \n",
    "                                n_jobs=-2,\n",
    "                                scoring='f1')\n",
    "cv_results_SVM.mean().round(3)"
   ]
  },
  {
   "cell_type": "markdown",
   "metadata": {},
   "source": [
    "The mean score resulted by Support Vector Classifier"
   ]
  },
  {
   "cell_type": "code",
   "execution_count": 69,
   "metadata": {},
   "outputs": [
    {
     "data": {
      "text/plain": [
       "0.373"
      ]
     },
     "execution_count": 69,
     "metadata": {},
     "output_type": "execute_result"
    }
   ],
   "source": [
    "## RFC\n",
    "\n",
    "cv_results_RFC = cross_val_score(estimator=fit_out_RFC['best_estimator'],\n",
    "                                X=Data_sample_test,\n",
    "                                y=target_sample_test, \n",
    "                                cv=cv_method_ttest, \n",
    "                                n_jobs=-2,\n",
    "                                scoring='f1')\n",
    "cv_results_RFC.mean().round(3)"
   ]
  },
  {
   "cell_type": "markdown",
   "metadata": {},
   "source": [
    "The mean score resulted by Random Forest Classifier"
   ]
  },
  {
   "cell_type": "markdown",
   "metadata": {},
   "source": [
    "### Paired TTest Among Different Models\n",
    "The partition data used to obtain the above score on the test data is same on all the classifier. This is because of selected random state 999 on cv_method_ttest. Thus paired t-test can be performed to compare the performance of different classifiers.\n",
    "\n",
    "Based on the above cross-validation results we found that Naive Bayes is the best algorithm when evaluated against test data with 10 fold cross validation. "
   ]
  },
  {
   "cell_type": "code",
   "execution_count": 70,
   "metadata": {},
   "outputs": [
    {
     "name": "stdout",
     "output_type": "stream",
     "text": [
      "Ttest_relResult(statistic=2.0038717377088093, pvalue=0.07607638248528993)\n",
      "Ttest_relResult(statistic=-0.6977789637720697, pvalue=0.5029424460699903)\n",
      "Ttest_relResult(statistic=-2.010253530892781, pvalue=0.07529723660625597)\n",
      "Ttest_relResult(statistic=-0.6608835022777303, pvalue=0.5252410464842042)\n",
      "Ttest_relResult(statistic=-2.290162791468079, pvalue=0.04776193387922109)\n",
      "Ttest_relResult(statistic=-4.768243178387974, pvalue=0.0010178637893299208)\n",
      "Ttest_relResult(statistic=-2.380175204819032, pvalue=0.04121585383948301)\n",
      "Ttest_relResult(statistic=-2.3341426944588974, pvalue=0.04444458950772865)\n",
      "Ttest_relResult(statistic=-0.06269559489261142, pvalue=0.9513792307926833)\n"
     ]
    }
   ],
   "source": [
    "print(stats.ttest_rel(cv_results_NB, cv_results_KNN))\n",
    "print(stats.ttest_rel(cv_results_DT, cv_results_KNN))\n",
    "print(stats.ttest_rel(cv_results_SVM, cv_results_KNN))\n",
    "print(stats.ttest_rel(cv_results_RFC, cv_results_KNN))\n",
    "print(stats.ttest_rel(cv_results_DT, cv_results_NB))\n",
    "print(stats.ttest_rel(cv_results_SVM, cv_results_NB))\n",
    "print(stats.ttest_rel(cv_results_RFC, cv_results_NB))\n",
    "print(stats.ttest_rel(cv_results_SVM, cv_results_DT))\n",
    "print(stats.ttest_rel(cv_results_RFC, cv_results_DT))"
   ]
  },
  {
   "cell_type": "markdown",
   "metadata": {},
   "source": [
    "The above result suggests that based on 0.05% significance level, Nabive Bayes is performed statistically better overall 4  classification algorithms: Decision Tree, SVM, RFC, and SVM. \n",
    "\n",
    "This suggests that Naive Bayes is the best model for our research problem.\n",
    "\n",
    "We can use another performance measurement to optimize the hyperparameter of the classifier model. These include -\n",
    "\n",
    "* Accuracy\n",
    "* Precision\n",
    "* Recall\n",
    "* Confusion Matrix\n",
    "\n",
    "These are given in the below classification report. "
   ]
  },
  {
   "cell_type": "markdown",
   "metadata": {},
   "source": [
    "### Classification Report Building"
   ]
  },
  {
   "cell_type": "code",
   "execution_count": 71,
   "metadata": {},
   "outputs": [],
   "source": [
    "pred_KNN = model_Repo[\"KNN\"].predict(Data_sample_test)"
   ]
  },
  {
   "cell_type": "code",
   "execution_count": 72,
   "metadata": {},
   "outputs": [],
   "source": [
    "Data_test_transformed = PowerTransformer().fit_transform(Data_sample_test)\n",
    "pred_NB = model_Repo[\"Naive Bayes\"].predict(Data_test_transformed)"
   ]
  },
  {
   "cell_type": "code",
   "execution_count": 73,
   "metadata": {},
   "outputs": [],
   "source": [
    "pred_DT = model_Repo[\"Decision Tree\"].predict(Data_sample_test)"
   ]
  },
  {
   "cell_type": "code",
   "execution_count": 74,
   "metadata": {},
   "outputs": [],
   "source": [
    "pred_SVM = model_Repo[\"SVM\"].predict(Data_sample_test)"
   ]
  },
  {
   "cell_type": "code",
   "execution_count": 75,
   "metadata": {},
   "outputs": [],
   "source": [
    "pred_RFC = model_Repo[\"Random Forrest\"].predict(Data_sample_test)"
   ]
  },
  {
   "cell_type": "code",
   "execution_count": 76,
   "metadata": {},
   "outputs": [
    {
     "name": "stdout",
     "output_type": "stream",
     "text": [
      "\n",
      "Classification report for K-Nearest Neighbor\n",
      "              precision    recall  f1-score   support\n",
      "\n",
      "           0       0.85      0.93      0.88      1179\n",
      "           1       0.59      0.38      0.46       321\n",
      "\n",
      "    accuracy                           0.81      1500\n",
      "   macro avg       0.72      0.65      0.67      1500\n",
      "weighted avg       0.79      0.81      0.79      1500\n",
      "\n",
      "\n",
      "Classification report for Naive Bayes\n",
      "              precision    recall  f1-score   support\n",
      "\n",
      "           0       0.85      0.90      0.87      1179\n",
      "           1       0.52      0.41      0.46       321\n",
      "\n",
      "    accuracy                           0.79      1500\n",
      "   macro avg       0.69      0.65      0.67      1500\n",
      "weighted avg       0.78      0.79      0.78      1500\n",
      "\n",
      "\n",
      "Classification report for Decision Tree\n",
      "              precision    recall  f1-score   support\n",
      "\n",
      "           0       0.83      0.96      0.89      1179\n",
      "           1       0.66      0.30      0.42       321\n",
      "\n",
      "    accuracy                           0.82      1500\n",
      "   macro avg       0.75      0.63      0.65      1500\n",
      "weighted avg       0.80      0.82      0.79      1500\n",
      "\n",
      "\n",
      "Classification report for SVM\n",
      "              precision    recall  f1-score   support\n",
      "\n",
      "           0       0.84      0.96      0.89      1179\n",
      "           1       0.66      0.32      0.43       321\n",
      "\n",
      "    accuracy                           0.82      1500\n",
      "   macro avg       0.75      0.64      0.66      1500\n",
      "weighted avg       0.80      0.82      0.79      1500\n",
      "\n",
      "\n",
      "Classification report for RFC\n",
      "              precision    recall  f1-score   support\n",
      "\n",
      "           0       0.84      0.95      0.89      1179\n",
      "           1       0.65      0.34      0.45       321\n",
      "\n",
      "    accuracy                           0.82      1500\n",
      "   macro avg       0.74      0.64      0.67      1500\n",
      "weighted avg       0.80      0.82      0.80      1500\n",
      "\n"
     ]
    }
   ],
   "source": [
    "from sklearn import metrics\n",
    "print(\"\\nClassification report for K-Nearest Neighbor\") \n",
    "print(metrics.classification_report(target_sample_test, pred_KNN))\n",
    "print(\"\\nClassification report for Naive Bayes\") \n",
    "print(metrics.classification_report(target_sample_test, pred_NB))\n",
    "print(\"\\nClassification report for Decision Tree\") \n",
    "print(metrics.classification_report(target_sample_test, pred_DT))\n",
    "print(\"\\nClassification report for SVM\") \n",
    "print(metrics.classification_report(target_sample_test, pred_SVM))\n",
    "print(\"\\nClassification report for RFC\") \n",
    "print(metrics.classification_report(target_sample_test, pred_RFC))"
   ]
  },
  {
   "cell_type": "markdown",
   "metadata": {},
   "source": [
    "## Confusion Matrices"
   ]
  },
  {
   "cell_type": "code",
   "execution_count": 77,
   "metadata": {},
   "outputs": [
    {
     "name": "stdout",
     "output_type": "stream",
     "text": [
      "\n",
      "Confusion matrix for K-Nearest Neighbor\n",
      "[[1094   85]\n",
      " [ 200  121]]\n",
      "\n",
      "Confusion matrix for Naive Bayes\n",
      "[[1059  120]\n",
      " [ 189  132]]\n",
      "\n",
      "Confusion matrix for Decision Tree\n",
      "[[1130   49]\n",
      " [ 224   97]]\n",
      "\n",
      "Confusion matrix for SVM\n",
      "[[1126   53]\n",
      " [ 219  102]]\n",
      "\n",
      "Confusion matrix for RFC\n",
      "[[1120   59]\n",
      " [ 212  109]]\n"
     ]
    }
   ],
   "source": [
    "print(\"\\nConfusion matrix for K-Nearest Neighbor\") \n",
    "print(metrics.confusion_matrix(target_sample_test, pred_KNN))\n",
    "print(\"\\nConfusion matrix for Naive Bayes\") \n",
    "print(metrics.confusion_matrix(target_sample_test, pred_NB))\n",
    "print(\"\\nConfusion matrix for Decision Tree\") \n",
    "print(metrics.confusion_matrix(target_sample_test, pred_DT))\n",
    "print(\"\\nConfusion matrix for SVM\") \n",
    "print(metrics.confusion_matrix(target_sample_test, pred_SVM))\n",
    "print(\"\\nConfusion matrix for RFC\") \n",
    "print(metrics.confusion_matrix(target_sample_test, pred_RFC))"
   ]
  },
  {
   "cell_type": "markdown",
   "metadata": {},
   "source": [
    "## Research Problem Assumptions\n",
    "\n",
    "To prevent over-issued cash and credit card to unqualified customers, the bank may take several preemptive actions such as reduce credit card limit, set percent of the total debt that is in default or reduce the size of credit extension against customers who are classified as defaulters by the model. This will also help the clients to avoid heavy credit card debts especially for those who overuse credit cards irrespective of their repay capabilities. Thus we will use f1 score to measure the performance of the model. Optimizing f1 also provides us with the leverage to measure precision which enables the bank to avoid the loss by cutting lines of good accounts. Thus, we will optimize the F1 score to measure the performance of the model and finally select a model with the highest recall.  \n",
    "\n",
    "We saw that Naive Bayes apart from having highest F1 score also seem to have best recall rate. The confusion matrix above is also inline with the classification report and decision based on F1 score. This suggest that Naive Bayes is the best performer. \n",
    "\n",
    "## Srength\n",
    "\n",
    "* The study discusses a comprehensive analysis of the four major classification algorithms along with the tuned parameters aimed at optimizing score specific to the research problem.\n",
    "* The report showcases the model performance analysis and provides one model that works statistically better over other classification models. Through this, the research problem can be better target by working on the optimization of this Naïve Bayes model over others.\n",
    "* The performance score used can be the building block to optimize the possible gain and losses to cost-effective performance of our classifier\n",
    "\n",
    "## Weakness\n",
    "\n",
    "* The study utilizes only one feature selection method for all the classification algorithms to avoid overfitting and improve the accuracy of models.\n",
    "* The model accuracy is low which may be a concern to finalize the selection for model deployment. However, appropriate measures can be used to further enhance accuracy. \n",
    "* Executive may require some technical knowledge to interpret the results generated by the selected model (Naïve Bayes)."
   ]
  },
  {
   "cell_type": "code",
   "execution_count": 78,
   "metadata": {},
   "outputs": [
    {
     "data": {
      "text/plain": [
       "{'Precison': 0.5238095238095238, 'Recall': 0.411214953271028}"
      ]
     },
     "execution_count": 78,
     "metadata": {},
     "output_type": "execute_result"
    }
   ],
   "source": [
    "selected_Model=model_Repo[Final_Selection]\n",
    "if Final_Selection==\"Naive Bayes\":\n",
    "    testpred=selected_Model.predict(PowerTransformer().fit_transform(Data_sample_test))\n",
    "else:\n",
    "    testpred=selected_Model.predict(Data_sample_test)\n",
    "\n",
    "{\"Precison\" : precision_score(target_sample_test,testpred),\n",
    " \"Recall\" : recall_score(target_sample_test,testpred)}"
   ]
  },
  {
   "cell_type": "markdown",
   "metadata": {},
   "source": [
    "# <a>Limitations</a>"
   ]
  },
  {
   "cell_type": "markdown",
   "metadata": {},
   "source": [
    "1. Our model selection is based on a black-box testing method where we have given higher weightage to raw model performance over the internal working of the algorithm. This limitation can be overcome by exploring other feature selection methods and selection of hyperparameter values. \n",
    "\n",
    "2. Our model selection strategy is applied to a very small subset of the dataset. A larger subset of the dataset for training, testing, evaluation and parameter tuning might result in better results. In this way, we can ensure that all the data points are used appropriately. \n",
    "\n",
    "3. Although, Naive Bayes performed better than the other for algorithms in terms of F1 score and recall rate. It still provides poor score over the test dataset. This may be due to a single power transformation on the training dataset which consists of dummy features as well. These dummy features could be dealt with separately by Bernoulli NB for dummy features and Gaussian NB for descriptive features. The final prediction could be obtained by multiplying prediction values of each of the models. This is because the Naive Bayes algorithm assumes inter-independence on the target features(Aksakalli, 2020).\n",
    "\n",
    "4. The performance of the Decision Tree and Random Forest could be enhanced by optimizing hyperparameter search using more data observations and other parameters in the classification algorithm. We could consider other ensemble methods such as artificial neural network resulting in more accurate measures of the probability of default rates (Yeh & Chen.2009)"
   ]
  },
  {
   "cell_type": "markdown",
   "metadata": {},
   "source": [
    "# <a>Conclusion</a>"
   ]
  },
  {
   "cell_type": "markdown",
   "metadata": {},
   "source": [
    "The report examines six-five major classification models to predict the default status of credit card customers across one of the major banks in Taiwan. Grid search Cross-Validation and Randomized cross-validation strategy are used to tune the hyperparameters and evaluate the performance of each classification model. In terms of classification performance, F1 score and recall rate are higher for Naive Bayes over KNN, Decision Tree, Random Forest and SVM. Further, we observed that our model is affected by the relevant features selected by Random Forest Feature Importance when optimized with the hyperparameter values. For this reason, model deployment should be based on the score as from risk point of view f1 score (which includes both precision and recall) is very useful while classifying clients.   "
   ]
  },
  {
   "cell_type": "markdown",
   "metadata": {},
   "source": [
    "## <a>References</a>"
   ]
  },
  {
   "cell_type": "markdown",
   "metadata": {},
   "source": [
    "Yeh, I., 2016. Default Of Credit Card Clients Data Set. [online] UCI Machine Learning Repository. Available at: <https://archive.ics.uci.edu/ml/datasets/default+of+credit+card+clients#> [Accessed 31 May 2020].\n",
    "\n",
    "Yeh, I. and Lien, C., 2009. The comparisons of data mining techniques for the predictive accuracy of probability of default of credit card clients. [online] pp.2475-2478. Available at: <https://www.sciencedirect.com/> [Accessed 31 May 2020].\n",
    "\n",
    "Aksakalli, V. (2020). Retrieved 31 May 2020, from https://www.featureranking.com/"
   ]
  }
 ],
 "metadata": {
  "kernelspec": {
   "display_name": "Python 3",
   "language": "python",
   "name": "python3"
  },
  "language_info": {
   "codemirror_mode": {
    "name": "ipython",
    "version": 3
   },
   "file_extension": ".py",
   "mimetype": "text/x-python",
   "name": "python",
   "nbconvert_exporter": "python",
   "pygments_lexer": "ipython3",
   "version": "3.7.4"
  }
 },
 "nbformat": 4,
 "nbformat_minor": 2
}
